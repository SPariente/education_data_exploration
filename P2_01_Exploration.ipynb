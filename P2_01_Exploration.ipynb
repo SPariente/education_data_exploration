{
 "cells": [
  {
   "cell_type": "markdown",
   "id": "c0de133c",
   "metadata": {},
   "source": [
    "# Exploration préliminaire"
   ]
  },
  {
   "cell_type": "code",
   "execution_count": 1,
   "id": "aa0e7d66",
   "metadata": {},
   "outputs": [],
   "source": [
    "import pandas as pd\n",
    "import numpy as np\n",
    "import matplotlib.pyplot as plt\n",
    "import seaborn as sns\n",
    "import missingno as msno\n",
    "from IPython.display import display, Markdown\n",
    "\n",
    "import requests\n",
    "from bs4 import BeautifulSoup\n",
    "from selenium import webdriver\n",
    "import time\n",
    "\n",
    "from scipy.stats import pearsonr, spearmanr"
   ]
  },
  {
   "cell_type": "code",
   "execution_count": 2,
   "id": "5ad0d9fd",
   "metadata": {},
   "outputs": [],
   "source": [
    "%matplotlib inline"
   ]
  },
  {
   "cell_type": "code",
   "execution_count": 3,
   "id": "11f7d9a4",
   "metadata": {},
   "outputs": [],
   "source": [
    "EdStatsData = pd.read_csv(\"data/EdStatsData.csv\")"
   ]
  },
  {
   "cell_type": "markdown",
   "id": "54b671e9",
   "metadata": {},
   "source": [
    "## Exploration initiale"
   ]
  },
  {
   "cell_type": "code",
   "execution_count": 4,
   "id": "3d9436f1",
   "metadata": {},
   "outputs": [
    {
     "data": {
      "text/html": [
       "<div>\n",
       "<style scoped>\n",
       "    .dataframe tbody tr th:only-of-type {\n",
       "        vertical-align: middle;\n",
       "    }\n",
       "\n",
       "    .dataframe tbody tr th {\n",
       "        vertical-align: top;\n",
       "    }\n",
       "\n",
       "    .dataframe thead th {\n",
       "        text-align: right;\n",
       "    }\n",
       "</style>\n",
       "<table border=\"1\" class=\"dataframe\">\n",
       "  <thead>\n",
       "    <tr style=\"text-align: right;\">\n",
       "      <th></th>\n",
       "      <th>Country Name</th>\n",
       "      <th>Country Code</th>\n",
       "      <th>Indicator Name</th>\n",
       "      <th>Indicator Code</th>\n",
       "      <th>1970</th>\n",
       "      <th>1971</th>\n",
       "      <th>1972</th>\n",
       "      <th>1973</th>\n",
       "      <th>1974</th>\n",
       "      <th>1975</th>\n",
       "      <th>...</th>\n",
       "      <th>2060</th>\n",
       "      <th>2065</th>\n",
       "      <th>2070</th>\n",
       "      <th>2075</th>\n",
       "      <th>2080</th>\n",
       "      <th>2085</th>\n",
       "      <th>2090</th>\n",
       "      <th>2095</th>\n",
       "      <th>2100</th>\n",
       "      <th>Unnamed: 69</th>\n",
       "    </tr>\n",
       "  </thead>\n",
       "  <tbody>\n",
       "    <tr>\n",
       "      <th>0</th>\n",
       "      <td>Arab World</td>\n",
       "      <td>ARB</td>\n",
       "      <td>Adjusted net enrolment rate, lower secondary, ...</td>\n",
       "      <td>UIS.NERA.2</td>\n",
       "      <td>NaN</td>\n",
       "      <td>NaN</td>\n",
       "      <td>NaN</td>\n",
       "      <td>NaN</td>\n",
       "      <td>NaN</td>\n",
       "      <td>NaN</td>\n",
       "      <td>...</td>\n",
       "      <td>NaN</td>\n",
       "      <td>NaN</td>\n",
       "      <td>NaN</td>\n",
       "      <td>NaN</td>\n",
       "      <td>NaN</td>\n",
       "      <td>NaN</td>\n",
       "      <td>NaN</td>\n",
       "      <td>NaN</td>\n",
       "      <td>NaN</td>\n",
       "      <td>NaN</td>\n",
       "    </tr>\n",
       "    <tr>\n",
       "      <th>1</th>\n",
       "      <td>Arab World</td>\n",
       "      <td>ARB</td>\n",
       "      <td>Adjusted net enrolment rate, lower secondary, ...</td>\n",
       "      <td>UIS.NERA.2.F</td>\n",
       "      <td>NaN</td>\n",
       "      <td>NaN</td>\n",
       "      <td>NaN</td>\n",
       "      <td>NaN</td>\n",
       "      <td>NaN</td>\n",
       "      <td>NaN</td>\n",
       "      <td>...</td>\n",
       "      <td>NaN</td>\n",
       "      <td>NaN</td>\n",
       "      <td>NaN</td>\n",
       "      <td>NaN</td>\n",
       "      <td>NaN</td>\n",
       "      <td>NaN</td>\n",
       "      <td>NaN</td>\n",
       "      <td>NaN</td>\n",
       "      <td>NaN</td>\n",
       "      <td>NaN</td>\n",
       "    </tr>\n",
       "    <tr>\n",
       "      <th>2</th>\n",
       "      <td>Arab World</td>\n",
       "      <td>ARB</td>\n",
       "      <td>Adjusted net enrolment rate, lower secondary, ...</td>\n",
       "      <td>UIS.NERA.2.GPI</td>\n",
       "      <td>NaN</td>\n",
       "      <td>NaN</td>\n",
       "      <td>NaN</td>\n",
       "      <td>NaN</td>\n",
       "      <td>NaN</td>\n",
       "      <td>NaN</td>\n",
       "      <td>...</td>\n",
       "      <td>NaN</td>\n",
       "      <td>NaN</td>\n",
       "      <td>NaN</td>\n",
       "      <td>NaN</td>\n",
       "      <td>NaN</td>\n",
       "      <td>NaN</td>\n",
       "      <td>NaN</td>\n",
       "      <td>NaN</td>\n",
       "      <td>NaN</td>\n",
       "      <td>NaN</td>\n",
       "    </tr>\n",
       "    <tr>\n",
       "      <th>3</th>\n",
       "      <td>Arab World</td>\n",
       "      <td>ARB</td>\n",
       "      <td>Adjusted net enrolment rate, lower secondary, ...</td>\n",
       "      <td>UIS.NERA.2.M</td>\n",
       "      <td>NaN</td>\n",
       "      <td>NaN</td>\n",
       "      <td>NaN</td>\n",
       "      <td>NaN</td>\n",
       "      <td>NaN</td>\n",
       "      <td>NaN</td>\n",
       "      <td>...</td>\n",
       "      <td>NaN</td>\n",
       "      <td>NaN</td>\n",
       "      <td>NaN</td>\n",
       "      <td>NaN</td>\n",
       "      <td>NaN</td>\n",
       "      <td>NaN</td>\n",
       "      <td>NaN</td>\n",
       "      <td>NaN</td>\n",
       "      <td>NaN</td>\n",
       "      <td>NaN</td>\n",
       "    </tr>\n",
       "    <tr>\n",
       "      <th>4</th>\n",
       "      <td>Arab World</td>\n",
       "      <td>ARB</td>\n",
       "      <td>Adjusted net enrolment rate, primary, both sex...</td>\n",
       "      <td>SE.PRM.TENR</td>\n",
       "      <td>54.822121</td>\n",
       "      <td>54.894138</td>\n",
       "      <td>56.209438</td>\n",
       "      <td>57.267109</td>\n",
       "      <td>57.991138</td>\n",
       "      <td>59.36554</td>\n",
       "      <td>...</td>\n",
       "      <td>NaN</td>\n",
       "      <td>NaN</td>\n",
       "      <td>NaN</td>\n",
       "      <td>NaN</td>\n",
       "      <td>NaN</td>\n",
       "      <td>NaN</td>\n",
       "      <td>NaN</td>\n",
       "      <td>NaN</td>\n",
       "      <td>NaN</td>\n",
       "      <td>NaN</td>\n",
       "    </tr>\n",
       "  </tbody>\n",
       "</table>\n",
       "<p>5 rows × 70 columns</p>\n",
       "</div>"
      ],
      "text/plain": [
       "  Country Name Country Code  \\\n",
       "0   Arab World          ARB   \n",
       "1   Arab World          ARB   \n",
       "2   Arab World          ARB   \n",
       "3   Arab World          ARB   \n",
       "4   Arab World          ARB   \n",
       "\n",
       "                                      Indicator Name  Indicator Code  \\\n",
       "0  Adjusted net enrolment rate, lower secondary, ...      UIS.NERA.2   \n",
       "1  Adjusted net enrolment rate, lower secondary, ...    UIS.NERA.2.F   \n",
       "2  Adjusted net enrolment rate, lower secondary, ...  UIS.NERA.2.GPI   \n",
       "3  Adjusted net enrolment rate, lower secondary, ...    UIS.NERA.2.M   \n",
       "4  Adjusted net enrolment rate, primary, both sex...     SE.PRM.TENR   \n",
       "\n",
       "        1970       1971       1972       1973       1974      1975  ...  2060  \\\n",
       "0        NaN        NaN        NaN        NaN        NaN       NaN  ...   NaN   \n",
       "1        NaN        NaN        NaN        NaN        NaN       NaN  ...   NaN   \n",
       "2        NaN        NaN        NaN        NaN        NaN       NaN  ...   NaN   \n",
       "3        NaN        NaN        NaN        NaN        NaN       NaN  ...   NaN   \n",
       "4  54.822121  54.894138  56.209438  57.267109  57.991138  59.36554  ...   NaN   \n",
       "\n",
       "   2065  2070  2075  2080  2085  2090  2095  2100  Unnamed: 69  \n",
       "0   NaN   NaN   NaN   NaN   NaN   NaN   NaN   NaN          NaN  \n",
       "1   NaN   NaN   NaN   NaN   NaN   NaN   NaN   NaN          NaN  \n",
       "2   NaN   NaN   NaN   NaN   NaN   NaN   NaN   NaN          NaN  \n",
       "3   NaN   NaN   NaN   NaN   NaN   NaN   NaN   NaN          NaN  \n",
       "4   NaN   NaN   NaN   NaN   NaN   NaN   NaN   NaN          NaN  \n",
       "\n",
       "[5 rows x 70 columns]"
      ]
     },
     "execution_count": 4,
     "metadata": {},
     "output_type": "execute_result"
    }
   ],
   "source": [
    "EdStatsData.head()"
   ]
  },
  {
   "cell_type": "code",
   "execution_count": 5,
   "id": "24565f97",
   "metadata": {},
   "outputs": [
    {
     "data": {
      "text/markdown": [
       "La base de données est composée de 886,930 lignes et 70 colonnes."
      ],
      "text/plain": [
       "<IPython.core.display.Markdown object>"
      ]
     },
     "metadata": {},
     "output_type": "display_data"
    },
    {
     "data": {
      "text/markdown": [
       "Les lignes contiennent les informations relatives à 242 pays et 3,665 indicateurs."
      ],
      "text/plain": [
       "<IPython.core.display.Markdown object>"
      ]
     },
     "metadata": {},
     "output_type": "display_data"
    }
   ],
   "source": [
    "display(Markdown(f\"La base de données est composée de {EdStatsData.shape[0]:,.0f} lignes et {EdStatsData.shape[1]:,.0f} colonnes.\"))\n",
    "display(Markdown(f\"Les lignes contiennent les informations relatives à {EdStatsData['Country Code'].nunique():,.0f} pays et {EdStatsData['Indicator Code'].nunique():,.0f} indicateurs.\"))"
   ]
  },
  {
   "cell_type": "code",
   "execution_count": 6,
   "id": "ea8d8f31",
   "metadata": {},
   "outputs": [
    {
     "name": "stdout",
     "output_type": "stream",
     "text": [
      "<class 'pandas.core.frame.DataFrame'>\n",
      "RangeIndex: 886930 entries, 0 to 886929\n",
      "Data columns (total 70 columns):\n",
      " #   Column          Non-Null Count   Dtype  \n",
      "---  ------          --------------   -----  \n",
      " 0   Country Name    886930 non-null  object \n",
      " 1   Country Code    886930 non-null  object \n",
      " 2   Indicator Name  886930 non-null  object \n",
      " 3   Indicator Code  886930 non-null  object \n",
      " 4   1970            72288 non-null   float64\n",
      " 5   1971            35537 non-null   float64\n",
      " 6   1972            35619 non-null   float64\n",
      " 7   1973            35545 non-null   float64\n",
      " 8   1974            35730 non-null   float64\n",
      " 9   1975            87306 non-null   float64\n",
      " 10  1976            37483 non-null   float64\n",
      " 11  1977            37574 non-null   float64\n",
      " 12  1978            37576 non-null   float64\n",
      " 13  1979            36809 non-null   float64\n",
      " 14  1980            89122 non-null   float64\n",
      " 15  1981            38777 non-null   float64\n",
      " 16  1982            37511 non-null   float64\n",
      " 17  1983            38460 non-null   float64\n",
      " 18  1984            38606 non-null   float64\n",
      " 19  1985            90296 non-null   float64\n",
      " 20  1986            39372 non-null   float64\n",
      " 21  1987            38641 non-null   float64\n",
      " 22  1988            38552 non-null   float64\n",
      " 23  1989            37540 non-null   float64\n",
      " 24  1990            124405 non-null  float64\n",
      " 25  1991            74437 non-null   float64\n",
      " 26  1992            75543 non-null   float64\n",
      " 27  1993            75793 non-null   float64\n",
      " 28  1994            77462 non-null   float64\n",
      " 29  1995            131361 non-null  float64\n",
      " 30  1996            76807 non-null   float64\n",
      " 31  1997            73453 non-null   float64\n",
      " 32  1998            84914 non-null   float64\n",
      " 33  1999            118839 non-null  float64\n",
      " 34  2000            176676 non-null  float64\n",
      " 35  2001            123509 non-null  float64\n",
      " 36  2002            124205 non-null  float64\n",
      " 37  2003            130363 non-null  float64\n",
      " 38  2004            128814 non-null  float64\n",
      " 39  2005            184108 non-null  float64\n",
      " 40  2006            140312 non-null  float64\n",
      " 41  2007            137272 non-null  float64\n",
      " 42  2008            134387 non-null  float64\n",
      " 43  2009            142108 non-null  float64\n",
      " 44  2010            242442 non-null  float64\n",
      " 45  2011            146012 non-null  float64\n",
      " 46  2012            147264 non-null  float64\n",
      " 47  2013            137509 non-null  float64\n",
      " 48  2014            113789 non-null  float64\n",
      " 49  2015            131058 non-null  float64\n",
      " 50  2016            16460 non-null   float64\n",
      " 51  2017            143 non-null     float64\n",
      " 52  2020            51436 non-null   float64\n",
      " 53  2025            51436 non-null   float64\n",
      " 54  2030            51436 non-null   float64\n",
      " 55  2035            51436 non-null   float64\n",
      " 56  2040            51436 non-null   float64\n",
      " 57  2045            51436 non-null   float64\n",
      " 58  2050            51436 non-null   float64\n",
      " 59  2055            51436 non-null   float64\n",
      " 60  2060            51436 non-null   float64\n",
      " 61  2065            51436 non-null   float64\n",
      " 62  2070            51436 non-null   float64\n",
      " 63  2075            51436 non-null   float64\n",
      " 64  2080            51436 non-null   float64\n",
      " 65  2085            51436 non-null   float64\n",
      " 66  2090            51436 non-null   float64\n",
      " 67  2095            51436 non-null   float64\n",
      " 68  2100            51436 non-null   float64\n",
      " 69  Unnamed: 69     0 non-null       float64\n",
      "dtypes: float64(66), object(4)\n",
      "memory usage: 473.7+ MB\n"
     ]
    }
   ],
   "source": [
    "EdStatsData.info()"
   ]
  },
  {
   "cell_type": "markdown",
   "id": "3db7ff86",
   "metadata": {},
   "source": [
    "Les 4 premières colonnes représentent des identifiants uniques indiquant le pays, un code associé, l'indicateur observé et son code associé. Les 65 suivantes représentent l'année de l'observation, en pas annuel de 1970 à 2017, et quinquennal de 2020 à 2100. La dernière colonne est vide, et peut être retirée sans perte d'information."
   ]
  },
  {
   "cell_type": "markdown",
   "id": "bb9ed64c",
   "metadata": {},
   "source": [
    "## Mise en forme de la base de données"
   ]
  },
  {
   "cell_type": "code",
   "execution_count": 7,
   "id": "659f3ba3",
   "metadata": {},
   "outputs": [],
   "source": [
    "EdStatsData.drop(\"Unnamed: 69\", axis = 1, inplace = True)"
   ]
  },
  {
   "cell_type": "markdown",
   "id": "adf3333a",
   "metadata": {},
   "source": [
    "Afin de faciliter l'utilisation de cette base de données, nous allons dans un premier temps utiliser la fonction `df.melt()` de pandas pour regrouper les dates dans une nouvelle colonne, et l'ensemble des observations dans une seconde colonne."
   ]
  },
  {
   "cell_type": "code",
   "execution_count": 8,
   "id": "4346f6f2",
   "metadata": {},
   "outputs": [],
   "source": [
    "EdStatsData = EdStatsData.melt(\n",
    "    id_vars = [\"Country Name\", \"Country Code\", \"Indicator Name\", \"Indicator Code\"],\n",
    "    var_name = \"Year\",\n",
    "    value_name = \"Value\"\n",
    ")"
   ]
  },
  {
   "cell_type": "code",
   "execution_count": 9,
   "id": "5676fbcf",
   "metadata": {},
   "outputs": [
    {
     "name": "stdout",
     "output_type": "stream",
     "text": [
      "<class 'pandas.core.frame.DataFrame'>\n",
      "RangeIndex: 57650450 entries, 0 to 57650449\n",
      "Data columns (total 6 columns):\n",
      " #   Column          Dtype  \n",
      "---  ------          -----  \n",
      " 0   Country Name    object \n",
      " 1   Country Code    object \n",
      " 2   Indicator Name  object \n",
      " 3   Indicator Code  object \n",
      " 4   Year            object \n",
      " 5   Value           float64\n",
      "dtypes: float64(1), object(5)\n",
      "memory usage: 2.6+ GB\n"
     ]
    }
   ],
   "source": [
    "EdStatsData.info()"
   ]
  },
  {
   "cell_type": "markdown",
   "id": "90f23f8a",
   "metadata": {},
   "source": [
    "La base de données résultante est donc composée de 6 colonnes, dont une contenant l'ensemble des observations, et s'étend sur 57 650 449 lignes.\n",
    "On peut noter que la colonne contenant les années est au format \"object\", ce qui n'est pas optimal pour l'analyse à venir. Nous allons donc commencer par changer son format pour en faire une colonne de int."
   ]
  },
  {
   "cell_type": "code",
   "execution_count": 10,
   "id": "34220ae6",
   "metadata": {},
   "outputs": [],
   "source": [
    "EdStatsData['Year'] = EdStatsData['Year'].astype(\"int\")"
   ]
  },
  {
   "cell_type": "markdown",
   "id": "f9b29580",
   "metadata": {},
   "source": [
    "Nous avons pu voir que la base de départ couvre une période s'étendant de 1970 à 2100. Pour les besoins de notre analyse, nous allons réduire cet intervalle à une période couvrant 2000 (débuts de la croissance forte de l'accès à internet) à 2030 (en estimant cet intervalle de temps propice à des projections restant réalistes)."
   ]
  },
  {
   "cell_type": "code",
   "execution_count": 11,
   "id": "6f7ba95f",
   "metadata": {},
   "outputs": [],
   "source": [
    "EdStatsData = EdStatsData[EdStatsData[\"Year\"].between(2000,2030)]"
   ]
  },
  {
   "cell_type": "markdown",
   "id": "c00d7886",
   "metadata": {},
   "source": [
    "Nous allons ensuite utiliser la fonction `df.pivot()` de pandas pour convertir notre colonne contenant les noms d'indicateurs en autant de colonnes qu'il y a d'indicateurs."
   ]
  },
  {
   "cell_type": "code",
   "execution_count": 12,
   "id": "47f98b5a",
   "metadata": {},
   "outputs": [],
   "source": [
    "EdStatsData = EdStatsData.pivot(\n",
    "    index = [\"Country Name\", \"Country Code\", \"Year\"],\n",
    "    columns = [\"Indicator Name\"],\n",
    "    values = \"Value\"\n",
    ")"
   ]
  },
  {
   "cell_type": "code",
   "execution_count": 13,
   "id": "b2c32a8b",
   "metadata": {},
   "outputs": [],
   "source": [
    "EdStatsData.reset_index(inplace = True)"
   ]
  },
  {
   "cell_type": "code",
   "execution_count": 14,
   "id": "75b48097",
   "metadata": {},
   "outputs": [
    {
     "data": {
      "text/html": [
       "<div>\n",
       "<style scoped>\n",
       "    .dataframe tbody tr th:only-of-type {\n",
       "        vertical-align: middle;\n",
       "    }\n",
       "\n",
       "    .dataframe tbody tr th {\n",
       "        vertical-align: top;\n",
       "    }\n",
       "\n",
       "    .dataframe thead th {\n",
       "        text-align: right;\n",
       "    }\n",
       "</style>\n",
       "<table border=\"1\" class=\"dataframe\">\n",
       "  <thead>\n",
       "    <tr style=\"text-align: right;\">\n",
       "      <th>Indicator Name</th>\n",
       "      <th>Country Name</th>\n",
       "      <th>Country Code</th>\n",
       "      <th>Year</th>\n",
       "      <th>Adjusted net enrolment rate, lower secondary, both sexes (%)</th>\n",
       "      <th>Adjusted net enrolment rate, lower secondary, female (%)</th>\n",
       "      <th>Adjusted net enrolment rate, lower secondary, gender parity index (GPI)</th>\n",
       "      <th>Adjusted net enrolment rate, lower secondary, male (%)</th>\n",
       "      <th>Adjusted net enrolment rate, primary, both sexes (%)</th>\n",
       "      <th>Adjusted net enrolment rate, primary, female (%)</th>\n",
       "      <th>Adjusted net enrolment rate, primary, gender parity index (GPI)</th>\n",
       "      <th>...</th>\n",
       "      <th>Wittgenstein Projection: Population in thousands by highest level of educational attainment. Upper Secondary. Male</th>\n",
       "      <th>Wittgenstein Projection: Population in thousands by highest level of educational attainment. Upper Secondary. Total</th>\n",
       "      <th>Youth illiterate population, 15-24 years, % female</th>\n",
       "      <th>Youth illiterate population, 15-24 years, both sexes (number)</th>\n",
       "      <th>Youth illiterate population, 15-24 years, female (number)</th>\n",
       "      <th>Youth illiterate population, 15-24 years, male (number)</th>\n",
       "      <th>Youth literacy rate, population 15-24 years, both sexes (%)</th>\n",
       "      <th>Youth literacy rate, population 15-24 years, female (%)</th>\n",
       "      <th>Youth literacy rate, population 15-24 years, gender parity index (GPI)</th>\n",
       "      <th>Youth literacy rate, population 15-24 years, male (%)</th>\n",
       "    </tr>\n",
       "  </thead>\n",
       "  <tbody>\n",
       "    <tr>\n",
       "      <th>0</th>\n",
       "      <td>Afghanistan</td>\n",
       "      <td>AFG</td>\n",
       "      <td>2000</td>\n",
       "      <td>NaN</td>\n",
       "      <td>NaN</td>\n",
       "      <td>NaN</td>\n",
       "      <td>NaN</td>\n",
       "      <td>NaN</td>\n",
       "      <td>NaN</td>\n",
       "      <td>NaN</td>\n",
       "      <td>...</td>\n",
       "      <td>NaN</td>\n",
       "      <td>NaN</td>\n",
       "      <td>NaN</td>\n",
       "      <td>NaN</td>\n",
       "      <td>NaN</td>\n",
       "      <td>NaN</td>\n",
       "      <td>NaN</td>\n",
       "      <td>NaN</td>\n",
       "      <td>NaN</td>\n",
       "      <td>NaN</td>\n",
       "    </tr>\n",
       "    <tr>\n",
       "      <th>1</th>\n",
       "      <td>Afghanistan</td>\n",
       "      <td>AFG</td>\n",
       "      <td>2001</td>\n",
       "      <td>NaN</td>\n",
       "      <td>NaN</td>\n",
       "      <td>NaN</td>\n",
       "      <td>NaN</td>\n",
       "      <td>NaN</td>\n",
       "      <td>NaN</td>\n",
       "      <td>NaN</td>\n",
       "      <td>...</td>\n",
       "      <td>NaN</td>\n",
       "      <td>NaN</td>\n",
       "      <td>NaN</td>\n",
       "      <td>NaN</td>\n",
       "      <td>NaN</td>\n",
       "      <td>NaN</td>\n",
       "      <td>NaN</td>\n",
       "      <td>NaN</td>\n",
       "      <td>NaN</td>\n",
       "      <td>NaN</td>\n",
       "    </tr>\n",
       "    <tr>\n",
       "      <th>2</th>\n",
       "      <td>Afghanistan</td>\n",
       "      <td>AFG</td>\n",
       "      <td>2002</td>\n",
       "      <td>NaN</td>\n",
       "      <td>NaN</td>\n",
       "      <td>NaN</td>\n",
       "      <td>NaN</td>\n",
       "      <td>NaN</td>\n",
       "      <td>NaN</td>\n",
       "      <td>NaN</td>\n",
       "      <td>...</td>\n",
       "      <td>NaN</td>\n",
       "      <td>NaN</td>\n",
       "      <td>NaN</td>\n",
       "      <td>NaN</td>\n",
       "      <td>NaN</td>\n",
       "      <td>NaN</td>\n",
       "      <td>NaN</td>\n",
       "      <td>NaN</td>\n",
       "      <td>NaN</td>\n",
       "      <td>NaN</td>\n",
       "    </tr>\n",
       "    <tr>\n",
       "      <th>3</th>\n",
       "      <td>Afghanistan</td>\n",
       "      <td>AFG</td>\n",
       "      <td>2003</td>\n",
       "      <td>NaN</td>\n",
       "      <td>NaN</td>\n",
       "      <td>NaN</td>\n",
       "      <td>NaN</td>\n",
       "      <td>NaN</td>\n",
       "      <td>NaN</td>\n",
       "      <td>NaN</td>\n",
       "      <td>...</td>\n",
       "      <td>NaN</td>\n",
       "      <td>NaN</td>\n",
       "      <td>NaN</td>\n",
       "      <td>NaN</td>\n",
       "      <td>NaN</td>\n",
       "      <td>NaN</td>\n",
       "      <td>NaN</td>\n",
       "      <td>NaN</td>\n",
       "      <td>NaN</td>\n",
       "      <td>NaN</td>\n",
       "    </tr>\n",
       "    <tr>\n",
       "      <th>4</th>\n",
       "      <td>Afghanistan</td>\n",
       "      <td>AFG</td>\n",
       "      <td>2004</td>\n",
       "      <td>NaN</td>\n",
       "      <td>NaN</td>\n",
       "      <td>NaN</td>\n",
       "      <td>NaN</td>\n",
       "      <td>NaN</td>\n",
       "      <td>NaN</td>\n",
       "      <td>NaN</td>\n",
       "      <td>...</td>\n",
       "      <td>NaN</td>\n",
       "      <td>NaN</td>\n",
       "      <td>NaN</td>\n",
       "      <td>NaN</td>\n",
       "      <td>NaN</td>\n",
       "      <td>NaN</td>\n",
       "      <td>NaN</td>\n",
       "      <td>NaN</td>\n",
       "      <td>NaN</td>\n",
       "      <td>NaN</td>\n",
       "    </tr>\n",
       "  </tbody>\n",
       "</table>\n",
       "<p>5 rows × 3668 columns</p>\n",
       "</div>"
      ],
      "text/plain": [
       "Indicator Name Country Name Country Code  Year  \\\n",
       "0               Afghanistan          AFG  2000   \n",
       "1               Afghanistan          AFG  2001   \n",
       "2               Afghanistan          AFG  2002   \n",
       "3               Afghanistan          AFG  2003   \n",
       "4               Afghanistan          AFG  2004   \n",
       "\n",
       "Indicator Name  Adjusted net enrolment rate, lower secondary, both sexes (%)  \\\n",
       "0                                                             NaN              \n",
       "1                                                             NaN              \n",
       "2                                                             NaN              \n",
       "3                                                             NaN              \n",
       "4                                                             NaN              \n",
       "\n",
       "Indicator Name  Adjusted net enrolment rate, lower secondary, female (%)  \\\n",
       "0                                                             NaN          \n",
       "1                                                             NaN          \n",
       "2                                                             NaN          \n",
       "3                                                             NaN          \n",
       "4                                                             NaN          \n",
       "\n",
       "Indicator Name  Adjusted net enrolment rate, lower secondary, gender parity index (GPI)  \\\n",
       "0                                                             NaN                         \n",
       "1                                                             NaN                         \n",
       "2                                                             NaN                         \n",
       "3                                                             NaN                         \n",
       "4                                                             NaN                         \n",
       "\n",
       "Indicator Name  Adjusted net enrolment rate, lower secondary, male (%)  \\\n",
       "0                                                             NaN        \n",
       "1                                                             NaN        \n",
       "2                                                             NaN        \n",
       "3                                                             NaN        \n",
       "4                                                             NaN        \n",
       "\n",
       "Indicator Name  Adjusted net enrolment rate, primary, both sexes (%)  \\\n",
       "0                                                             NaN      \n",
       "1                                                             NaN      \n",
       "2                                                             NaN      \n",
       "3                                                             NaN      \n",
       "4                                                             NaN      \n",
       "\n",
       "Indicator Name  Adjusted net enrolment rate, primary, female (%)  \\\n",
       "0                                                            NaN   \n",
       "1                                                            NaN   \n",
       "2                                                            NaN   \n",
       "3                                                            NaN   \n",
       "4                                                            NaN   \n",
       "\n",
       "Indicator Name  Adjusted net enrolment rate, primary, gender parity index (GPI)  \\\n",
       "0                                                             NaN                 \n",
       "1                                                             NaN                 \n",
       "2                                                             NaN                 \n",
       "3                                                             NaN                 \n",
       "4                                                             NaN                 \n",
       "\n",
       "Indicator Name  ...  \\\n",
       "0               ...   \n",
       "1               ...   \n",
       "2               ...   \n",
       "3               ...   \n",
       "4               ...   \n",
       "\n",
       "Indicator Name  Wittgenstein Projection: Population in thousands by highest level of educational attainment. Upper Secondary. Male  \\\n",
       "0                                                             NaN                                                                    \n",
       "1                                                             NaN                                                                    \n",
       "2                                                             NaN                                                                    \n",
       "3                                                             NaN                                                                    \n",
       "4                                                             NaN                                                                    \n",
       "\n",
       "Indicator Name  Wittgenstein Projection: Population in thousands by highest level of educational attainment. Upper Secondary. Total  \\\n",
       "0                                                             NaN                                                                     \n",
       "1                                                             NaN                                                                     \n",
       "2                                                             NaN                                                                     \n",
       "3                                                             NaN                                                                     \n",
       "4                                                             NaN                                                                     \n",
       "\n",
       "Indicator Name  Youth illiterate population, 15-24 years, % female  \\\n",
       "0                                                             NaN    \n",
       "1                                                             NaN    \n",
       "2                                                             NaN    \n",
       "3                                                             NaN    \n",
       "4                                                             NaN    \n",
       "\n",
       "Indicator Name  Youth illiterate population, 15-24 years, both sexes (number)  \\\n",
       "0                                                             NaN               \n",
       "1                                                             NaN               \n",
       "2                                                             NaN               \n",
       "3                                                             NaN               \n",
       "4                                                             NaN               \n",
       "\n",
       "Indicator Name  Youth illiterate population, 15-24 years, female (number)  \\\n",
       "0                                                             NaN           \n",
       "1                                                             NaN           \n",
       "2                                                             NaN           \n",
       "3                                                             NaN           \n",
       "4                                                             NaN           \n",
       "\n",
       "Indicator Name  Youth illiterate population, 15-24 years, male (number)  \\\n",
       "0                                                             NaN         \n",
       "1                                                             NaN         \n",
       "2                                                             NaN         \n",
       "3                                                             NaN         \n",
       "4                                                             NaN         \n",
       "\n",
       "Indicator Name  Youth literacy rate, population 15-24 years, both sexes (%)  \\\n",
       "0                                                             NaN             \n",
       "1                                                             NaN             \n",
       "2                                                             NaN             \n",
       "3                                                             NaN             \n",
       "4                                                             NaN             \n",
       "\n",
       "Indicator Name  Youth literacy rate, population 15-24 years, female (%)  \\\n",
       "0                                                             NaN         \n",
       "1                                                             NaN         \n",
       "2                                                             NaN         \n",
       "3                                                             NaN         \n",
       "4                                                             NaN         \n",
       "\n",
       "Indicator Name  Youth literacy rate, population 15-24 years, gender parity index (GPI)  \\\n",
       "0                                                             NaN                        \n",
       "1                                                             NaN                        \n",
       "2                                                             NaN                        \n",
       "3                                                             NaN                        \n",
       "4                                                             NaN                        \n",
       "\n",
       "Indicator Name  Youth literacy rate, population 15-24 years, male (%)  \n",
       "0                                                             NaN      \n",
       "1                                                             NaN      \n",
       "2                                                             NaN      \n",
       "3                                                             NaN      \n",
       "4                                                             NaN      \n",
       "\n",
       "[5 rows x 3668 columns]"
      ]
     },
     "execution_count": 14,
     "metadata": {},
     "output_type": "execute_result"
    }
   ],
   "source": [
    "EdStatsData.head()"
   ]
  },
  {
   "cell_type": "code",
   "execution_count": 15,
   "id": "2de8f288",
   "metadata": {},
   "outputs": [
    {
     "name": "stdout",
     "output_type": "stream",
     "text": [
      "<class 'pandas.core.frame.DataFrame'>\n",
      "RangeIndex: 5082 entries, 0 to 5081\n",
      "Columns: 3668 entries, Country Name to Youth literacy rate, population 15-24 years, male (%)\n",
      "dtypes: float64(3665), int64(1), object(2)\n",
      "memory usage: 142.2+ MB\n"
     ]
    }
   ],
   "source": [
    "EdStatsData.info()"
   ]
  },
  {
   "cell_type": "code",
   "execution_count": 16,
   "id": "4c3e776e",
   "metadata": {},
   "outputs": [
    {
     "data": {
      "text/markdown": [
       "Notre base de données contient désormais 3,668 colonnes représentant l'ensemble des indicateurs, et 5,082 lignes représentant des couples (pays, année)."
      ],
      "text/plain": [
       "<IPython.core.display.Markdown object>"
      ]
     },
     "metadata": {},
     "output_type": "display_data"
    }
   ],
   "source": [
    "display(Markdown(f\"Notre base de données contient désormais {EdStatsData.shape[1]:,.0f} colonnes représentant l'ensemble des indicateurs, et {EdStatsData.shape[0]:,.0f} lignes représentant des couples (pays, année).\"))"
   ]
  },
  {
   "cell_type": "markdown",
   "id": "ba5e8dd1",
   "metadata": {},
   "source": [
    "## Filtrage des pays"
   ]
  },
  {
   "cell_type": "markdown",
   "id": "56804a06",
   "metadata": {},
   "source": [
    "Pour notre analyse à venir, nous avons besoin d'identifier les pays au sein des observations disponibles. Pour ce faire, nous allons utiliser une seconde base de données contenant la liste des pays et quelques identifiants associés."
   ]
  },
  {
   "cell_type": "code",
   "execution_count": 17,
   "id": "02eb146f",
   "metadata": {},
   "outputs": [
    {
     "data": {
      "text/html": [
       "<div>\n",
       "<style scoped>\n",
       "    .dataframe tbody tr th:only-of-type {\n",
       "        vertical-align: middle;\n",
       "    }\n",
       "\n",
       "    .dataframe tbody tr th {\n",
       "        vertical-align: top;\n",
       "    }\n",
       "\n",
       "    .dataframe thead th {\n",
       "        text-align: right;\n",
       "    }\n",
       "</style>\n",
       "<table border=\"1\" class=\"dataframe\">\n",
       "  <thead>\n",
       "    <tr style=\"text-align: right;\">\n",
       "      <th></th>\n",
       "      <th>Country Code</th>\n",
       "      <th>Short Name</th>\n",
       "      <th>Table Name</th>\n",
       "      <th>Long Name</th>\n",
       "      <th>2-alpha code</th>\n",
       "      <th>Currency Unit</th>\n",
       "      <th>Special Notes</th>\n",
       "      <th>Region</th>\n",
       "      <th>Income Group</th>\n",
       "      <th>WB-2 code</th>\n",
       "      <th>...</th>\n",
       "      <th>IMF data dissemination standard</th>\n",
       "      <th>Latest population census</th>\n",
       "      <th>Latest household survey</th>\n",
       "      <th>Source of most recent Income and expenditure data</th>\n",
       "      <th>Vital registration complete</th>\n",
       "      <th>Latest agricultural census</th>\n",
       "      <th>Latest industrial data</th>\n",
       "      <th>Latest trade data</th>\n",
       "      <th>Latest water withdrawal data</th>\n",
       "      <th>Unnamed: 31</th>\n",
       "    </tr>\n",
       "  </thead>\n",
       "  <tbody>\n",
       "    <tr>\n",
       "      <th>0</th>\n",
       "      <td>ABW</td>\n",
       "      <td>Aruba</td>\n",
       "      <td>Aruba</td>\n",
       "      <td>Aruba</td>\n",
       "      <td>AW</td>\n",
       "      <td>Aruban florin</td>\n",
       "      <td>SNA data for 2000-2011 are updated from offici...</td>\n",
       "      <td>Latin America &amp; Caribbean</td>\n",
       "      <td>High income: nonOECD</td>\n",
       "      <td>AW</td>\n",
       "      <td>...</td>\n",
       "      <td>NaN</td>\n",
       "      <td>2010</td>\n",
       "      <td>NaN</td>\n",
       "      <td>NaN</td>\n",
       "      <td>Yes</td>\n",
       "      <td>NaN</td>\n",
       "      <td>NaN</td>\n",
       "      <td>2012.0</td>\n",
       "      <td>NaN</td>\n",
       "      <td>NaN</td>\n",
       "    </tr>\n",
       "    <tr>\n",
       "      <th>1</th>\n",
       "      <td>AFG</td>\n",
       "      <td>Afghanistan</td>\n",
       "      <td>Afghanistan</td>\n",
       "      <td>Islamic State of Afghanistan</td>\n",
       "      <td>AF</td>\n",
       "      <td>Afghan afghani</td>\n",
       "      <td>Fiscal year end: March 20; reporting period fo...</td>\n",
       "      <td>South Asia</td>\n",
       "      <td>Low income</td>\n",
       "      <td>AF</td>\n",
       "      <td>...</td>\n",
       "      <td>General Data Dissemination System (GDDS)</td>\n",
       "      <td>1979</td>\n",
       "      <td>Multiple Indicator Cluster Survey (MICS), 2010/11</td>\n",
       "      <td>Integrated household survey (IHS), 2008</td>\n",
       "      <td>NaN</td>\n",
       "      <td>2013/14</td>\n",
       "      <td>NaN</td>\n",
       "      <td>2012.0</td>\n",
       "      <td>2000</td>\n",
       "      <td>NaN</td>\n",
       "    </tr>\n",
       "    <tr>\n",
       "      <th>2</th>\n",
       "      <td>AGO</td>\n",
       "      <td>Angola</td>\n",
       "      <td>Angola</td>\n",
       "      <td>People's Republic of Angola</td>\n",
       "      <td>AO</td>\n",
       "      <td>Angolan kwanza</td>\n",
       "      <td>April 2013 database update: Based on IMF data,...</td>\n",
       "      <td>Sub-Saharan Africa</td>\n",
       "      <td>Upper middle income</td>\n",
       "      <td>AO</td>\n",
       "      <td>...</td>\n",
       "      <td>General Data Dissemination System (GDDS)</td>\n",
       "      <td>1970</td>\n",
       "      <td>Malaria Indicator Survey (MIS), 2011</td>\n",
       "      <td>Integrated household survey (IHS), 2008</td>\n",
       "      <td>NaN</td>\n",
       "      <td>2015</td>\n",
       "      <td>NaN</td>\n",
       "      <td>NaN</td>\n",
       "      <td>2005</td>\n",
       "      <td>NaN</td>\n",
       "    </tr>\n",
       "    <tr>\n",
       "      <th>3</th>\n",
       "      <td>ALB</td>\n",
       "      <td>Albania</td>\n",
       "      <td>Albania</td>\n",
       "      <td>Republic of Albania</td>\n",
       "      <td>AL</td>\n",
       "      <td>Albanian lek</td>\n",
       "      <td>NaN</td>\n",
       "      <td>Europe &amp; Central Asia</td>\n",
       "      <td>Upper middle income</td>\n",
       "      <td>AL</td>\n",
       "      <td>...</td>\n",
       "      <td>General Data Dissemination System (GDDS)</td>\n",
       "      <td>2011</td>\n",
       "      <td>Demographic and Health Survey (DHS), 2008/09</td>\n",
       "      <td>Living Standards Measurement Study Survey (LSM...</td>\n",
       "      <td>Yes</td>\n",
       "      <td>2012</td>\n",
       "      <td>2010.0</td>\n",
       "      <td>2012.0</td>\n",
       "      <td>2006</td>\n",
       "      <td>NaN</td>\n",
       "    </tr>\n",
       "    <tr>\n",
       "      <th>4</th>\n",
       "      <td>AND</td>\n",
       "      <td>Andorra</td>\n",
       "      <td>Andorra</td>\n",
       "      <td>Principality of Andorra</td>\n",
       "      <td>AD</td>\n",
       "      <td>Euro</td>\n",
       "      <td>NaN</td>\n",
       "      <td>Europe &amp; Central Asia</td>\n",
       "      <td>High income: nonOECD</td>\n",
       "      <td>AD</td>\n",
       "      <td>...</td>\n",
       "      <td>NaN</td>\n",
       "      <td>2011. Population figures compiled from adminis...</td>\n",
       "      <td>NaN</td>\n",
       "      <td>NaN</td>\n",
       "      <td>Yes</td>\n",
       "      <td>NaN</td>\n",
       "      <td>NaN</td>\n",
       "      <td>2006.0</td>\n",
       "      <td>NaN</td>\n",
       "      <td>NaN</td>\n",
       "    </tr>\n",
       "  </tbody>\n",
       "</table>\n",
       "<p>5 rows × 32 columns</p>\n",
       "</div>"
      ],
      "text/plain": [
       "  Country Code   Short Name   Table Name                     Long Name  \\\n",
       "0          ABW        Aruba        Aruba                         Aruba   \n",
       "1          AFG  Afghanistan  Afghanistan  Islamic State of Afghanistan   \n",
       "2          AGO       Angola       Angola   People's Republic of Angola   \n",
       "3          ALB      Albania      Albania           Republic of Albania   \n",
       "4          AND      Andorra      Andorra       Principality of Andorra   \n",
       "\n",
       "  2-alpha code   Currency Unit  \\\n",
       "0           AW   Aruban florin   \n",
       "1           AF  Afghan afghani   \n",
       "2           AO  Angolan kwanza   \n",
       "3           AL    Albanian lek   \n",
       "4           AD            Euro   \n",
       "\n",
       "                                       Special Notes  \\\n",
       "0  SNA data for 2000-2011 are updated from offici...   \n",
       "1  Fiscal year end: March 20; reporting period fo...   \n",
       "2  April 2013 database update: Based on IMF data,...   \n",
       "3                                                NaN   \n",
       "4                                                NaN   \n",
       "\n",
       "                      Region          Income Group WB-2 code  ...  \\\n",
       "0  Latin America & Caribbean  High income: nonOECD        AW  ...   \n",
       "1                 South Asia            Low income        AF  ...   \n",
       "2         Sub-Saharan Africa   Upper middle income        AO  ...   \n",
       "3      Europe & Central Asia   Upper middle income        AL  ...   \n",
       "4      Europe & Central Asia  High income: nonOECD        AD  ...   \n",
       "\n",
       "            IMF data dissemination standard  \\\n",
       "0                                       NaN   \n",
       "1  General Data Dissemination System (GDDS)   \n",
       "2  General Data Dissemination System (GDDS)   \n",
       "3  General Data Dissemination System (GDDS)   \n",
       "4                                       NaN   \n",
       "\n",
       "                            Latest population census  \\\n",
       "0                                               2010   \n",
       "1                                               1979   \n",
       "2                                               1970   \n",
       "3                                               2011   \n",
       "4  2011. Population figures compiled from adminis...   \n",
       "\n",
       "                             Latest household survey  \\\n",
       "0                                                NaN   \n",
       "1  Multiple Indicator Cluster Survey (MICS), 2010/11   \n",
       "2               Malaria Indicator Survey (MIS), 2011   \n",
       "3       Demographic and Health Survey (DHS), 2008/09   \n",
       "4                                                NaN   \n",
       "\n",
       "   Source of most recent Income and expenditure data  \\\n",
       "0                                                NaN   \n",
       "1            Integrated household survey (IHS), 2008   \n",
       "2            Integrated household survey (IHS), 2008   \n",
       "3  Living Standards Measurement Study Survey (LSM...   \n",
       "4                                                NaN   \n",
       "\n",
       "  Vital registration complete Latest agricultural census  \\\n",
       "0                         Yes                        NaN   \n",
       "1                         NaN                    2013/14   \n",
       "2                         NaN                       2015   \n",
       "3                         Yes                       2012   \n",
       "4                         Yes                        NaN   \n",
       "\n",
       "  Latest industrial data Latest trade data Latest water withdrawal data  \\\n",
       "0                    NaN            2012.0                          NaN   \n",
       "1                    NaN            2012.0                         2000   \n",
       "2                    NaN               NaN                         2005   \n",
       "3                 2010.0            2012.0                         2006   \n",
       "4                    NaN            2006.0                          NaN   \n",
       "\n",
       "  Unnamed: 31  \n",
       "0         NaN  \n",
       "1         NaN  \n",
       "2         NaN  \n",
       "3         NaN  \n",
       "4         NaN  \n",
       "\n",
       "[5 rows x 32 columns]"
      ]
     },
     "execution_count": 17,
     "metadata": {},
     "output_type": "execute_result"
    }
   ],
   "source": [
    "EdStatsCountry = pd.read_csv(\"data/EdStatsCountry.csv\")\n",
    "EdStatsCountry.head()"
   ]
  },
  {
   "cell_type": "code",
   "execution_count": 18,
   "id": "de761c90",
   "metadata": {},
   "outputs": [
    {
     "name": "stdout",
     "output_type": "stream",
     "text": [
      "<class 'pandas.core.frame.DataFrame'>\n",
      "RangeIndex: 241 entries, 0 to 240\n",
      "Data columns (total 32 columns):\n",
      " #   Column                                             Non-Null Count  Dtype  \n",
      "---  ------                                             --------------  -----  \n",
      " 0   Country Code                                       241 non-null    object \n",
      " 1   Short Name                                         241 non-null    object \n",
      " 2   Table Name                                         241 non-null    object \n",
      " 3   Long Name                                          241 non-null    object \n",
      " 4   2-alpha code                                       238 non-null    object \n",
      " 5   Currency Unit                                      215 non-null    object \n",
      " 6   Special Notes                                      145 non-null    object \n",
      " 7   Region                                             214 non-null    object \n",
      " 8   Income Group                                       214 non-null    object \n",
      " 9   WB-2 code                                          240 non-null    object \n",
      " 10  National accounts base year                        205 non-null    object \n",
      " 11  National accounts reference year                   32 non-null     float64\n",
      " 12  SNA price valuation                                197 non-null    object \n",
      " 13  Lending category                                   144 non-null    object \n",
      " 14  Other groups                                       58 non-null     object \n",
      " 15  System of National Accounts                        215 non-null    object \n",
      " 16  Alternative conversion factor                      47 non-null     object \n",
      " 17  PPP survey year                                    145 non-null    object \n",
      " 18  Balance of Payments Manual in use                  181 non-null    object \n",
      " 19  External debt Reporting status                     124 non-null    object \n",
      " 20  System of trade                                    200 non-null    object \n",
      " 21  Government Accounting concept                      161 non-null    object \n",
      " 22  IMF data dissemination standard                    181 non-null    object \n",
      " 23  Latest population census                           213 non-null    object \n",
      " 24  Latest household survey                            141 non-null    object \n",
      " 25  Source of most recent Income and expenditure data  160 non-null    object \n",
      " 26  Vital registration complete                        111 non-null    object \n",
      " 27  Latest agricultural census                         142 non-null    object \n",
      " 28  Latest industrial data                             107 non-null    float64\n",
      " 29  Latest trade data                                  185 non-null    float64\n",
      " 30  Latest water withdrawal data                       179 non-null    object \n",
      " 31  Unnamed: 31                                        0 non-null      float64\n",
      "dtypes: float64(4), object(28)\n",
      "memory usage: 60.4+ KB\n"
     ]
    }
   ],
   "source": [
    "EdStatsCountry.info()"
   ]
  },
  {
   "cell_type": "markdown",
   "id": "90246f6b",
   "metadata": {},
   "source": [
    "Parmi ces identifiants, nous allons nous intéresser au code pays, à la région géographique associée, et à la classification économique du pays."
   ]
  },
  {
   "cell_type": "code",
   "execution_count": 19,
   "id": "7c90ae11",
   "metadata": {},
   "outputs": [],
   "source": [
    "EdStatsCountry = EdStatsCountry.loc[:,['Country Code', 'Region', 'Income Group']]"
   ]
  },
  {
   "cell_type": "markdown",
   "id": "d2e0bff1",
   "metadata": {},
   "source": [
    "Nous utilisons la fonction `df.merge()` de pandas pour compléter notre base initiale en ajoutant les informations de cette seconde base de données. La méthode `\"left\"` est utilisée pour préciser que nous ne souhaitons extraire que les éléments présents dans notre base initiale."
   ]
  },
  {
   "cell_type": "code",
   "execution_count": 20,
   "id": "02f7fedc",
   "metadata": {},
   "outputs": [],
   "source": [
    "EdStatsData = EdStatsData.merge(\n",
    "    right = EdStatsCountry,\n",
    "    how = 'left',\n",
    "    on = 'Country Code'\n",
    ")"
   ]
  },
  {
   "cell_type": "code",
   "execution_count": 21,
   "id": "d2ebd833",
   "metadata": {},
   "outputs": [
    {
     "data": {
      "text/plain": [
       "['Arab World',\n",
       " 'British Virgin Islands',\n",
       " 'East Asia & Pacific',\n",
       " 'East Asia & Pacific (excluding high income)',\n",
       " 'Euro area',\n",
       " 'Europe & Central Asia',\n",
       " 'Europe & Central Asia (excluding high income)',\n",
       " 'European Union',\n",
       " 'Gibraltar',\n",
       " 'Heavily indebted poor countries (HIPC)',\n",
       " 'High income',\n",
       " 'Latin America & Caribbean',\n",
       " 'Latin America & Caribbean (excluding high income)',\n",
       " 'Least developed countries: UN classification',\n",
       " 'Low & middle income',\n",
       " 'Low income',\n",
       " 'Lower middle income',\n",
       " 'Middle East & North Africa',\n",
       " 'Middle East & North Africa (excluding high income)',\n",
       " 'Middle income',\n",
       " 'Nauru',\n",
       " 'North America',\n",
       " 'OECD members',\n",
       " 'South Asia',\n",
       " 'Sub-Saharan Africa',\n",
       " 'Sub-Saharan Africa (excluding high income)',\n",
       " 'Upper middle income',\n",
       " 'World']"
      ]
     },
     "execution_count": 21,
     "metadata": {},
     "output_type": "execute_result"
    }
   ],
   "source": [
    "EdStatsData.loc[EdStatsData['Region'].isna(),\"Country Name\"].unique().tolist()"
   ]
  },
  {
   "cell_type": "code",
   "execution_count": 22,
   "id": "5377a464",
   "metadata": {},
   "outputs": [
    {
     "data": {
      "text/plain": [
       "Population, total    34408.0\n",
       "dtype: float64"
      ]
     },
     "execution_count": 22,
     "metadata": {},
     "output_type": "execute_result"
    }
   ],
   "source": [
    "EdStatsData.loc[EdStatsData['Country Name'].isin(['British Virgin Islands','Gibraltar','Nauru']),[\"Population, total\"]].max()"
   ]
  },
  {
   "cell_type": "markdown",
   "id": "43df3d2b",
   "metadata": {},
   "source": [
    "Nous voyons alors que les groupements géographiques qui ne sont pas des pays n'ont pas d'indicateur `Region` associé, ce qui nous permet de facilement les identifier et les retirer de notre base de données. On peut noter que 3 territoires, British Virgin Islands, Gibraltar et Nauru, seront aussi retirés en procédant ainsi. Compte tenu de leur taille et de leur population, leur absence ne devrait pas impacter matériellement notre analyse, et nous proposons de procéder quand même."
   ]
  },
  {
   "cell_type": "code",
   "execution_count": 23,
   "id": "623ba588",
   "metadata": {},
   "outputs": [],
   "source": [
    "EdStatsData.dropna(axis = 0, subset = ['Region'], inplace = True)\n",
    "EdStatsData.reset_index(inplace = True, drop = True)"
   ]
  },
  {
   "cell_type": "code",
   "execution_count": 24,
   "id": "a09a9aca",
   "metadata": {},
   "outputs": [],
   "source": [
    "del EdStatsCountry"
   ]
  },
  {
   "cell_type": "code",
   "execution_count": 25,
   "id": "3cf1ac17-c252-48f7-b2d5-7f5f472dbdf8",
   "metadata": {},
   "outputs": [
    {
     "data": {
      "text/html": [
       "<div>\n",
       "<style scoped>\n",
       "    .dataframe tbody tr th:only-of-type {\n",
       "        vertical-align: middle;\n",
       "    }\n",
       "\n",
       "    .dataframe tbody tr th {\n",
       "        vertical-align: top;\n",
       "    }\n",
       "\n",
       "    .dataframe thead th {\n",
       "        text-align: right;\n",
       "    }\n",
       "</style>\n",
       "<table border=\"1\" class=\"dataframe\">\n",
       "  <thead>\n",
       "    <tr style=\"text-align: right;\">\n",
       "      <th></th>\n",
       "      <th>Country Name</th>\n",
       "      <th>Country Code</th>\n",
       "      <th>Year</th>\n",
       "      <th>Adjusted net enrolment rate, lower secondary, both sexes (%)</th>\n",
       "      <th>Adjusted net enrolment rate, lower secondary, female (%)</th>\n",
       "      <th>Adjusted net enrolment rate, lower secondary, gender parity index (GPI)</th>\n",
       "      <th>Adjusted net enrolment rate, lower secondary, male (%)</th>\n",
       "      <th>Adjusted net enrolment rate, primary, both sexes (%)</th>\n",
       "      <th>Adjusted net enrolment rate, primary, female (%)</th>\n",
       "      <th>Adjusted net enrolment rate, primary, gender parity index (GPI)</th>\n",
       "      <th>...</th>\n",
       "      <th>Youth illiterate population, 15-24 years, % female</th>\n",
       "      <th>Youth illiterate population, 15-24 years, both sexes (number)</th>\n",
       "      <th>Youth illiterate population, 15-24 years, female (number)</th>\n",
       "      <th>Youth illiterate population, 15-24 years, male (number)</th>\n",
       "      <th>Youth literacy rate, population 15-24 years, both sexes (%)</th>\n",
       "      <th>Youth literacy rate, population 15-24 years, female (%)</th>\n",
       "      <th>Youth literacy rate, population 15-24 years, gender parity index (GPI)</th>\n",
       "      <th>Youth literacy rate, population 15-24 years, male (%)</th>\n",
       "      <th>Region</th>\n",
       "      <th>Income Group</th>\n",
       "    </tr>\n",
       "  </thead>\n",
       "  <tbody>\n",
       "    <tr>\n",
       "      <th>0</th>\n",
       "      <td>Afghanistan</td>\n",
       "      <td>AFG</td>\n",
       "      <td>2000</td>\n",
       "      <td>NaN</td>\n",
       "      <td>NaN</td>\n",
       "      <td>NaN</td>\n",
       "      <td>NaN</td>\n",
       "      <td>NaN</td>\n",
       "      <td>NaN</td>\n",
       "      <td>NaN</td>\n",
       "      <td>...</td>\n",
       "      <td>NaN</td>\n",
       "      <td>NaN</td>\n",
       "      <td>NaN</td>\n",
       "      <td>NaN</td>\n",
       "      <td>NaN</td>\n",
       "      <td>NaN</td>\n",
       "      <td>NaN</td>\n",
       "      <td>NaN</td>\n",
       "      <td>South Asia</td>\n",
       "      <td>Low income</td>\n",
       "    </tr>\n",
       "    <tr>\n",
       "      <th>1</th>\n",
       "      <td>Afghanistan</td>\n",
       "      <td>AFG</td>\n",
       "      <td>2001</td>\n",
       "      <td>NaN</td>\n",
       "      <td>NaN</td>\n",
       "      <td>NaN</td>\n",
       "      <td>NaN</td>\n",
       "      <td>NaN</td>\n",
       "      <td>NaN</td>\n",
       "      <td>NaN</td>\n",
       "      <td>...</td>\n",
       "      <td>NaN</td>\n",
       "      <td>NaN</td>\n",
       "      <td>NaN</td>\n",
       "      <td>NaN</td>\n",
       "      <td>NaN</td>\n",
       "      <td>NaN</td>\n",
       "      <td>NaN</td>\n",
       "      <td>NaN</td>\n",
       "      <td>South Asia</td>\n",
       "      <td>Low income</td>\n",
       "    </tr>\n",
       "    <tr>\n",
       "      <th>2</th>\n",
       "      <td>Afghanistan</td>\n",
       "      <td>AFG</td>\n",
       "      <td>2002</td>\n",
       "      <td>NaN</td>\n",
       "      <td>NaN</td>\n",
       "      <td>NaN</td>\n",
       "      <td>NaN</td>\n",
       "      <td>NaN</td>\n",
       "      <td>NaN</td>\n",
       "      <td>NaN</td>\n",
       "      <td>...</td>\n",
       "      <td>NaN</td>\n",
       "      <td>NaN</td>\n",
       "      <td>NaN</td>\n",
       "      <td>NaN</td>\n",
       "      <td>NaN</td>\n",
       "      <td>NaN</td>\n",
       "      <td>NaN</td>\n",
       "      <td>NaN</td>\n",
       "      <td>South Asia</td>\n",
       "      <td>Low income</td>\n",
       "    </tr>\n",
       "    <tr>\n",
       "      <th>3</th>\n",
       "      <td>Afghanistan</td>\n",
       "      <td>AFG</td>\n",
       "      <td>2003</td>\n",
       "      <td>NaN</td>\n",
       "      <td>NaN</td>\n",
       "      <td>NaN</td>\n",
       "      <td>NaN</td>\n",
       "      <td>NaN</td>\n",
       "      <td>NaN</td>\n",
       "      <td>NaN</td>\n",
       "      <td>...</td>\n",
       "      <td>NaN</td>\n",
       "      <td>NaN</td>\n",
       "      <td>NaN</td>\n",
       "      <td>NaN</td>\n",
       "      <td>NaN</td>\n",
       "      <td>NaN</td>\n",
       "      <td>NaN</td>\n",
       "      <td>NaN</td>\n",
       "      <td>South Asia</td>\n",
       "      <td>Low income</td>\n",
       "    </tr>\n",
       "    <tr>\n",
       "      <th>4</th>\n",
       "      <td>Afghanistan</td>\n",
       "      <td>AFG</td>\n",
       "      <td>2004</td>\n",
       "      <td>NaN</td>\n",
       "      <td>NaN</td>\n",
       "      <td>NaN</td>\n",
       "      <td>NaN</td>\n",
       "      <td>NaN</td>\n",
       "      <td>NaN</td>\n",
       "      <td>NaN</td>\n",
       "      <td>...</td>\n",
       "      <td>NaN</td>\n",
       "      <td>NaN</td>\n",
       "      <td>NaN</td>\n",
       "      <td>NaN</td>\n",
       "      <td>NaN</td>\n",
       "      <td>NaN</td>\n",
       "      <td>NaN</td>\n",
       "      <td>NaN</td>\n",
       "      <td>South Asia</td>\n",
       "      <td>Low income</td>\n",
       "    </tr>\n",
       "  </tbody>\n",
       "</table>\n",
       "<p>5 rows × 3670 columns</p>\n",
       "</div>"
      ],
      "text/plain": [
       "  Country Name Country Code  Year  \\\n",
       "0  Afghanistan          AFG  2000   \n",
       "1  Afghanistan          AFG  2001   \n",
       "2  Afghanistan          AFG  2002   \n",
       "3  Afghanistan          AFG  2003   \n",
       "4  Afghanistan          AFG  2004   \n",
       "\n",
       "   Adjusted net enrolment rate, lower secondary, both sexes (%)  \\\n",
       "0                                                NaN              \n",
       "1                                                NaN              \n",
       "2                                                NaN              \n",
       "3                                                NaN              \n",
       "4                                                NaN              \n",
       "\n",
       "   Adjusted net enrolment rate, lower secondary, female (%)  \\\n",
       "0                                                NaN          \n",
       "1                                                NaN          \n",
       "2                                                NaN          \n",
       "3                                                NaN          \n",
       "4                                                NaN          \n",
       "\n",
       "   Adjusted net enrolment rate, lower secondary, gender parity index (GPI)  \\\n",
       "0                                                NaN                         \n",
       "1                                                NaN                         \n",
       "2                                                NaN                         \n",
       "3                                                NaN                         \n",
       "4                                                NaN                         \n",
       "\n",
       "   Adjusted net enrolment rate, lower secondary, male (%)  \\\n",
       "0                                                NaN        \n",
       "1                                                NaN        \n",
       "2                                                NaN        \n",
       "3                                                NaN        \n",
       "4                                                NaN        \n",
       "\n",
       "   Adjusted net enrolment rate, primary, both sexes (%)  \\\n",
       "0                                                NaN      \n",
       "1                                                NaN      \n",
       "2                                                NaN      \n",
       "3                                                NaN      \n",
       "4                                                NaN      \n",
       "\n",
       "   Adjusted net enrolment rate, primary, female (%)  \\\n",
       "0                                               NaN   \n",
       "1                                               NaN   \n",
       "2                                               NaN   \n",
       "3                                               NaN   \n",
       "4                                               NaN   \n",
       "\n",
       "   Adjusted net enrolment rate, primary, gender parity index (GPI)  ...  \\\n",
       "0                                                NaN                ...   \n",
       "1                                                NaN                ...   \n",
       "2                                                NaN                ...   \n",
       "3                                                NaN                ...   \n",
       "4                                                NaN                ...   \n",
       "\n",
       "   Youth illiterate population, 15-24 years, % female  \\\n",
       "0                                                NaN    \n",
       "1                                                NaN    \n",
       "2                                                NaN    \n",
       "3                                                NaN    \n",
       "4                                                NaN    \n",
       "\n",
       "   Youth illiterate population, 15-24 years, both sexes (number)  \\\n",
       "0                                                NaN               \n",
       "1                                                NaN               \n",
       "2                                                NaN               \n",
       "3                                                NaN               \n",
       "4                                                NaN               \n",
       "\n",
       "   Youth illiterate population, 15-24 years, female (number)  \\\n",
       "0                                                NaN           \n",
       "1                                                NaN           \n",
       "2                                                NaN           \n",
       "3                                                NaN           \n",
       "4                                                NaN           \n",
       "\n",
       "   Youth illiterate population, 15-24 years, male (number)  \\\n",
       "0                                                NaN         \n",
       "1                                                NaN         \n",
       "2                                                NaN         \n",
       "3                                                NaN         \n",
       "4                                                NaN         \n",
       "\n",
       "   Youth literacy rate, population 15-24 years, both sexes (%)  \\\n",
       "0                                                NaN             \n",
       "1                                                NaN             \n",
       "2                                                NaN             \n",
       "3                                                NaN             \n",
       "4                                                NaN             \n",
       "\n",
       "   Youth literacy rate, population 15-24 years, female (%)  \\\n",
       "0                                                NaN         \n",
       "1                                                NaN         \n",
       "2                                                NaN         \n",
       "3                                                NaN         \n",
       "4                                                NaN         \n",
       "\n",
       "   Youth literacy rate, population 15-24 years, gender parity index (GPI)  \\\n",
       "0                                                NaN                        \n",
       "1                                                NaN                        \n",
       "2                                                NaN                        \n",
       "3                                                NaN                        \n",
       "4                                                NaN                        \n",
       "\n",
       "   Youth literacy rate, population 15-24 years, male (%)      Region  \\\n",
       "0                                                NaN      South Asia   \n",
       "1                                                NaN      South Asia   \n",
       "2                                                NaN      South Asia   \n",
       "3                                                NaN      South Asia   \n",
       "4                                                NaN      South Asia   \n",
       "\n",
       "   Income Group  \n",
       "0    Low income  \n",
       "1    Low income  \n",
       "2    Low income  \n",
       "3    Low income  \n",
       "4    Low income  \n",
       "\n",
       "[5 rows x 3670 columns]"
      ]
     },
     "execution_count": 25,
     "metadata": {},
     "output_type": "execute_result"
    }
   ],
   "source": [
    "EdStatsData.head()"
   ]
  },
  {
   "cell_type": "code",
   "execution_count": 26,
   "id": "488e23fc-7a8b-486b-8d39-fe49e1a76e0f",
   "metadata": {},
   "outputs": [
    {
     "data": {
      "text/plain": [
       "(4494, 3670)"
      ]
     },
     "execution_count": 26,
     "metadata": {},
     "output_type": "execute_result"
    }
   ],
   "source": [
    "EdStatsData.shape"
   ]
  },
  {
   "cell_type": "code",
   "execution_count": 27,
   "id": "8260f818-7ad4-42c6-b1c1-a2483b2ee084",
   "metadata": {},
   "outputs": [],
   "source": [
    "nb_countries = EdStatsData.loc[:,[\"Country Name\",\"Income Group\"]].groupby(\"Income Group\").nunique()\n",
    "nb_countries.columns = ['Original data']"
   ]
  },
  {
   "cell_type": "markdown",
   "id": "8abe9ae9",
   "metadata": {},
   "source": [
    "## Exclusion des pays soumis à sanctions économiques ou diplomatiques UE"
   ]
  },
  {
   "cell_type": "markdown",
   "id": "d254d668-fbec-4727-be20-5d319afef059",
   "metadata": {},
   "source": [
    "Avant de continuer notre analyse, nous pouvons nous interroger sur la pertinence de conserver l'ensemble des pays du monde dans notre base de données. \n",
    "\n",
    "Il est en effet probable que pour cette première expansion à l'international, notre attention se tourne vers les pays dans lesquels relativement peu de freins existent à la mise en place de notre activité depuis la France.\n",
    "\n",
    "Dans ce but, nous proposons donc d'exclure dès à présent de notre analyse les pays soumis à des sanctions économiques ou diplomatiques de la part de l'Union Européenne. Bien que ces sanctions ne s'appliquent pas toujours à notre domaine d'activité, la présence sur cette liste indique néanmoins doit des relations complexes avec l'UE, soit une situation locale dégradée, ce qui peut rendre complexe l'accès au marché."
   ]
  },
  {
   "cell_type": "markdown",
   "id": "22414447-d443-4229-9e87-a8bb44f1147d",
   "metadata": {},
   "source": [
    "Un [site internet officiel de la Commission Européenne](https://sanctionsmap.eu/#/main) reprend une liste d'Etats pour lesquels des sanctions sont en place."
   ]
  },
  {
   "cell_type": "code",
   "execution_count": 28,
   "id": "a5b27218",
   "metadata": {},
   "outputs": [],
   "source": [
    "url = \"https://sanctionsmap.eu/#/main\""
   ]
  },
  {
   "cell_type": "code",
   "execution_count": 29,
   "id": "e1408e3a",
   "metadata": {},
   "outputs": [
    {
     "data": {
      "text/plain": [
       "200"
      ]
     },
     "execution_count": 29,
     "metadata": {},
     "output_type": "execute_result"
    }
   ],
   "source": [
    "response = requests.get(url)\n",
    "response.status_code"
   ]
  },
  {
   "cell_type": "markdown",
   "id": "0dbe24f1-1382-4a14-b9a5-3dc3958fae63",
   "metadata": {},
   "source": [
    "La donnée dont nous avons besoin étant chargée au travers d'un script JavaScript, nous allons utiliser `selenium` pour créer une instance de navigateur avec `geckodriver` afin de charger la page intégralement, avant de procéder à l'extraction des données contenues."
   ]
  },
  {
   "cell_type": "code",
   "execution_count": 30,
   "id": "99f509ae",
   "metadata": {},
   "outputs": [],
   "source": [
    "options = webdriver.FirefoxOptions()\n",
    "options.add_argument('--headless')\n",
    "browser = webdriver.Firefox(options=options)"
   ]
  },
  {
   "cell_type": "code",
   "execution_count": 31,
   "id": "8e20d9bc",
   "metadata": {},
   "outputs": [],
   "source": [
    "browser.get(url)\n",
    "time.sleep(5)"
   ]
  },
  {
   "cell_type": "code",
   "execution_count": 32,
   "id": "7a81dcf6",
   "metadata": {},
   "outputs": [],
   "source": [
    "html = browser.page_source"
   ]
  },
  {
   "cell_type": "code",
   "execution_count": 33,
   "id": "1159c533",
   "metadata": {},
   "outputs": [],
   "source": [
    "response_BS = BeautifulSoup(html, 'html5lib')"
   ]
  },
  {
   "cell_type": "markdown",
   "id": "a860546a-d28b-47c5-b233-c75c7d12cc72",
   "metadata": {},
   "source": [
    "En sélectionnant les tags qui contiennent les noms de pays, nous obtenons une liste d'Etats."
   ]
  },
  {
   "cell_type": "code",
   "execution_count": 34,
   "id": "33fd3b35",
   "metadata": {},
   "outputs": [],
   "source": [
    "country_html = response_BS.find_all('li', attrs={'_ngcontent-c5':\"\", 'data-heading':\"Country or Category\"})"
   ]
  },
  {
   "cell_type": "code",
   "execution_count": 35,
   "id": "2b908c0e",
   "metadata": {},
   "outputs": [
    {
     "data": {
      "text/plain": [
       "['Afghanistan',\n",
       " 'Belarus',\n",
       " 'Bosnia & Herzegovina',\n",
       " 'Burundi',\n",
       " 'Central African Republic',\n",
       " 'Chemical weapons',\n",
       " 'China',\n",
       " 'Cyber-attacks',\n",
       " \"Democratic People's Republic of Korea (DPRK – North Korea)\",\n",
       " 'Democratic Republic of the Congo',\n",
       " 'Guinea',\n",
       " 'Guinea-Bissau',\n",
       " 'Haiti',\n",
       " 'Human rights',\n",
       " 'Iran',\n",
       " 'Iraq',\n",
       " 'Lebanon',\n",
       " 'Libya',\n",
       " 'Mali',\n",
       " 'Moldova',\n",
       " 'Montenegro',\n",
       " 'Myanmar (Burma)',\n",
       " 'Nicaragua',\n",
       " 'Russia',\n",
       " 'Serbia',\n",
       " 'Somalia',\n",
       " 'South Sudan',\n",
       " 'Sudan',\n",
       " 'Syria',\n",
       " 'Terrorism',\n",
       " 'Tunisia',\n",
       " 'Turkey',\n",
       " 'Ukraine',\n",
       " 'United States',\n",
       " 'Venezuela',\n",
       " 'Yemen',\n",
       " 'Zimbabwe']"
      ]
     },
     "execution_count": 35,
     "metadata": {},
     "output_type": "execute_result"
    }
   ],
   "source": [
    "country_list = []\n",
    "for country in country_html:\n",
    "    country_list.append(country.a.text)\n",
    "\n",
    "country_list = pd.unique(country_list).tolist()\n",
    "country_list"
   ]
  },
  {
   "cell_type": "markdown",
   "id": "69af91fc-d293-4325-a4ce-1b5520915e7e",
   "metadata": {},
   "source": [
    "Cette liste est comparée à la liste d'Etats contenue dans notre base de données. Les Etats qui n'apparaissent pas dans notre base sont identifiés, et nous cherchons ensuite des noms proches afin de les corriger."
   ]
  },
  {
   "cell_type": "code",
   "execution_count": 36,
   "id": "61c84ae7",
   "metadata": {},
   "outputs": [
    {
     "data": {
      "text/plain": [
       "['Bosnia & Herzegovina',\n",
       " 'Chemical weapons',\n",
       " 'Cyber-attacks',\n",
       " \"Democratic People's Republic of Korea (DPRK – North Korea)\",\n",
       " 'Democratic Republic of the Congo',\n",
       " 'Human rights',\n",
       " 'Iran',\n",
       " 'Myanmar (Burma)',\n",
       " 'Russia',\n",
       " 'Syria',\n",
       " 'Terrorism',\n",
       " 'Venezuela',\n",
       " 'Yemen']"
      ]
     },
     "execution_count": 36,
     "metadata": {},
     "output_type": "execute_result"
    }
   ],
   "source": [
    "EdStatsData_countries = pd.Series(EdStatsData['Country Name'].unique())\n",
    "\n",
    "country_diff = np.setdiff1d(country_list, EdStatsData_countries)\n",
    "country_diff.tolist()"
   ]
  },
  {
   "cell_type": "code",
   "execution_count": 37,
   "id": "eaad7bad",
   "metadata": {},
   "outputs": [
    {
     "data": {
      "text/plain": [
       "['Bosnia and Herzegovina',\n",
       " 'Central African Republic',\n",
       " 'Czech Republic',\n",
       " 'Dominican Republic',\n",
       " 'Kyrgyz Republic',\n",
       " 'Slovak Republic',\n",
       " 'Syrian Arab Republic',\n",
       " 'Isle of Man',\n",
       " 'Korea, Dem. People’s Rep.',\n",
       " 'Korea, Rep.',\n",
       " 'Northern Mariana Islands',\n",
       " 'Netherlands',\n",
       " 'St. Vincent and the Grenadines',\n",
       " 'Congo, Dem. Rep.',\n",
       " 'Congo, Rep.',\n",
       " 'Iran, Islamic Rep.',\n",
       " 'Myanmar',\n",
       " 'Russian Federation',\n",
       " 'Venezuela, RB',\n",
       " 'Yemen, Rep.']"
      ]
     },
     "execution_count": 37,
     "metadata": {},
     "output_type": "execute_result"
    }
   ],
   "source": [
    "close_names = []\n",
    "for country in country_diff:\n",
    "    for string in country.split(sep = \" \"):\n",
    "        temp = EdStatsData_countries[EdStatsData_countries.str.contains(string.replace('(',\"\").replace(')',\"\"))]\n",
    "        close_names.extend(temp)\n",
    "    \n",
    "close_names = pd.unique(close_names).tolist()\n",
    "close_names"
   ]
  },
  {
   "cell_type": "code",
   "execution_count": 38,
   "id": "63bd1d25",
   "metadata": {},
   "outputs": [],
   "source": [
    "for country in country_diff:\n",
    "    country_list.remove(country)\n",
    "    \n",
    "country_list.extend([\n",
    "    'Bosnia and Herzegovina',\n",
    "    'Congo, Dem. Rep.',\n",
    "    'Iran, Islamic Rep.',\n",
    "    'Korea, Dem. People’s Rep.',\n",
    "    'Myanmar',\n",
    "    'Russian Federation',\n",
    "    'Syrian Arab Republic',\n",
    "    'Venezuela, RB',\n",
    "    'Yemen, Rep.'\n",
    "])"
   ]
  },
  {
   "cell_type": "markdown",
   "id": "611c74a2-df3b-4d96-ba74-dcb2c21292cc",
   "metadata": {},
   "source": [
    "En ayant corrigé les noms de certains pays pour refléter ceux qui sont présents dans notre base, nous obtenons une liste d'Etats à exclure."
   ]
  },
  {
   "cell_type": "code",
   "execution_count": 39,
   "id": "e182fe88",
   "metadata": {},
   "outputs": [
    {
     "data": {
      "text/plain": [
       "['Afghanistan',\n",
       " 'Belarus',\n",
       " 'Burundi',\n",
       " 'Central African Republic',\n",
       " 'China',\n",
       " 'Guinea',\n",
       " 'Guinea-Bissau',\n",
       " 'Haiti',\n",
       " 'Iraq',\n",
       " 'Lebanon',\n",
       " 'Libya',\n",
       " 'Mali',\n",
       " 'Moldova',\n",
       " 'Montenegro',\n",
       " 'Nicaragua',\n",
       " 'Serbia',\n",
       " 'Somalia',\n",
       " 'South Sudan',\n",
       " 'Sudan',\n",
       " 'Tunisia',\n",
       " 'Turkey',\n",
       " 'Ukraine',\n",
       " 'United States',\n",
       " 'Zimbabwe',\n",
       " 'Bosnia and Herzegovina',\n",
       " 'Congo, Dem. Rep.',\n",
       " 'Iran, Islamic Rep.',\n",
       " 'Korea, Dem. People’s Rep.',\n",
       " 'Myanmar',\n",
       " 'Russian Federation',\n",
       " 'Syrian Arab Republic',\n",
       " 'Venezuela, RB',\n",
       " 'Yemen, Rep.']"
      ]
     },
     "execution_count": 39,
     "metadata": {},
     "output_type": "execute_result"
    }
   ],
   "source": [
    "country_list"
   ]
  },
  {
   "cell_type": "markdown",
   "id": "4ea291f8-93c6-4e5e-a5cf-97d77805bf4c",
   "metadata": {},
   "source": [
    "Bien qu'ils apparaissent dans la liste, nous conservons Etats-Unis et Chine dans notre base : le premier car les seules mesures concernent la protection contre l'extra-territorialité de certaines décisions de justice du pays, le second car les sanctions ne s'appliquent qu'au commerce d'armes."
   ]
  },
  {
   "cell_type": "code",
   "execution_count": 40,
   "id": "df41345c",
   "metadata": {},
   "outputs": [
    {
     "data": {
      "text/plain": [
       "['Afghanistan',\n",
       " 'Belarus',\n",
       " 'Burundi',\n",
       " 'Central African Republic',\n",
       " 'Guinea',\n",
       " 'Guinea-Bissau',\n",
       " 'Haiti',\n",
       " 'Iraq',\n",
       " 'Lebanon',\n",
       " 'Libya',\n",
       " 'Mali',\n",
       " 'Moldova',\n",
       " 'Montenegro',\n",
       " 'Nicaragua',\n",
       " 'Serbia',\n",
       " 'Somalia',\n",
       " 'South Sudan',\n",
       " 'Sudan',\n",
       " 'Tunisia',\n",
       " 'Turkey',\n",
       " 'Ukraine',\n",
       " 'Zimbabwe',\n",
       " 'Bosnia and Herzegovina',\n",
       " 'Congo, Dem. Rep.',\n",
       " 'Iran, Islamic Rep.',\n",
       " 'Korea, Dem. People’s Rep.',\n",
       " 'Myanmar',\n",
       " 'Russian Federation',\n",
       " 'Syrian Arab Republic',\n",
       " 'Venezuela, RB',\n",
       " 'Yemen, Rep.']"
      ]
     },
     "execution_count": 40,
     "metadata": {},
     "output_type": "execute_result"
    }
   ],
   "source": [
    "kept_countries = ['United States', 'China']\n",
    "country_list = [country for country in country_list if country not in kept_countries]\n",
    "country_list"
   ]
  },
  {
   "cell_type": "markdown",
   "id": "45dc1dcf-f00d-45e5-abb4-f5a0b359cf4f",
   "metadata": {},
   "source": [
    "Nous pouvons désormais excluire ces pays de notre base de données."
   ]
  },
  {
   "cell_type": "code",
   "execution_count": 41,
   "id": "8c9fa6ac",
   "metadata": {},
   "outputs": [],
   "source": [
    "EdStatsData = EdStatsData.loc[~EdStatsData['Country Name'].isin(country_list),:]"
   ]
  },
  {
   "cell_type": "code",
   "execution_count": 42,
   "id": "93961140",
   "metadata": {},
   "outputs": [],
   "source": [
    "del country_list, kept_countries, country_diff, close_names, html, browser, response, response_BS"
   ]
  },
  {
   "cell_type": "code",
   "execution_count": 43,
   "id": "bb409e82-35a3-4067-b917-e12f4d8eea88",
   "metadata": {},
   "outputs": [
    {
     "data": {
      "text/html": [
       "<div>\n",
       "<style scoped>\n",
       "    .dataframe tbody tr th:only-of-type {\n",
       "        vertical-align: middle;\n",
       "    }\n",
       "\n",
       "    .dataframe tbody tr th {\n",
       "        vertical-align: top;\n",
       "    }\n",
       "\n",
       "    .dataframe thead th {\n",
       "        text-align: right;\n",
       "    }\n",
       "</style>\n",
       "<table border=\"1\" class=\"dataframe\">\n",
       "  <thead>\n",
       "    <tr style=\"text-align: right;\">\n",
       "      <th></th>\n",
       "      <th>Country Name</th>\n",
       "      <th>Country Code</th>\n",
       "      <th>Year</th>\n",
       "      <th>Adjusted net enrolment rate, lower secondary, both sexes (%)</th>\n",
       "      <th>Adjusted net enrolment rate, lower secondary, female (%)</th>\n",
       "      <th>Adjusted net enrolment rate, lower secondary, gender parity index (GPI)</th>\n",
       "      <th>Adjusted net enrolment rate, lower secondary, male (%)</th>\n",
       "      <th>Adjusted net enrolment rate, primary, both sexes (%)</th>\n",
       "      <th>Adjusted net enrolment rate, primary, female (%)</th>\n",
       "      <th>Adjusted net enrolment rate, primary, gender parity index (GPI)</th>\n",
       "      <th>...</th>\n",
       "      <th>Youth illiterate population, 15-24 years, % female</th>\n",
       "      <th>Youth illiterate population, 15-24 years, both sexes (number)</th>\n",
       "      <th>Youth illiterate population, 15-24 years, female (number)</th>\n",
       "      <th>Youth illiterate population, 15-24 years, male (number)</th>\n",
       "      <th>Youth literacy rate, population 15-24 years, both sexes (%)</th>\n",
       "      <th>Youth literacy rate, population 15-24 years, female (%)</th>\n",
       "      <th>Youth literacy rate, population 15-24 years, gender parity index (GPI)</th>\n",
       "      <th>Youth literacy rate, population 15-24 years, male (%)</th>\n",
       "      <th>Region</th>\n",
       "      <th>Income Group</th>\n",
       "    </tr>\n",
       "  </thead>\n",
       "  <tbody>\n",
       "    <tr>\n",
       "      <th>21</th>\n",
       "      <td>Albania</td>\n",
       "      <td>ALB</td>\n",
       "      <td>2000</td>\n",
       "      <td>84.558281</td>\n",
       "      <td>83.848213</td>\n",
       "      <td>0.98360</td>\n",
       "      <td>85.246353</td>\n",
       "      <td>95.889877</td>\n",
       "      <td>95.191872</td>\n",
       "      <td>0.98591</td>\n",
       "      <td>...</td>\n",
       "      <td>NaN</td>\n",
       "      <td>NaN</td>\n",
       "      <td>NaN</td>\n",
       "      <td>NaN</td>\n",
       "      <td>NaN</td>\n",
       "      <td>NaN</td>\n",
       "      <td>NaN</td>\n",
       "      <td>NaN</td>\n",
       "      <td>Europe &amp; Central Asia</td>\n",
       "      <td>Upper middle income</td>\n",
       "    </tr>\n",
       "    <tr>\n",
       "      <th>22</th>\n",
       "      <td>Albania</td>\n",
       "      <td>ALB</td>\n",
       "      <td>2001</td>\n",
       "      <td>85.306610</td>\n",
       "      <td>84.769829</td>\n",
       "      <td>0.98771</td>\n",
       "      <td>85.824432</td>\n",
       "      <td>94.327347</td>\n",
       "      <td>94.161636</td>\n",
       "      <td>0.99659</td>\n",
       "      <td>...</td>\n",
       "      <td>45.34702</td>\n",
       "      <td>2994.0</td>\n",
       "      <td>1358.0</td>\n",
       "      <td>1636.0</td>\n",
       "      <td>99.43515</td>\n",
       "      <td>99.49808</td>\n",
       "      <td>1.0013</td>\n",
       "      <td>99.36846</td>\n",
       "      <td>Europe &amp; Central Asia</td>\n",
       "      <td>Upper middle income</td>\n",
       "    </tr>\n",
       "    <tr>\n",
       "      <th>23</th>\n",
       "      <td>Albania</td>\n",
       "      <td>ALB</td>\n",
       "      <td>2002</td>\n",
       "      <td>NaN</td>\n",
       "      <td>NaN</td>\n",
       "      <td>NaN</td>\n",
       "      <td>NaN</td>\n",
       "      <td>NaN</td>\n",
       "      <td>NaN</td>\n",
       "      <td>NaN</td>\n",
       "      <td>...</td>\n",
       "      <td>NaN</td>\n",
       "      <td>NaN</td>\n",
       "      <td>NaN</td>\n",
       "      <td>NaN</td>\n",
       "      <td>NaN</td>\n",
       "      <td>NaN</td>\n",
       "      <td>NaN</td>\n",
       "      <td>NaN</td>\n",
       "      <td>Europe &amp; Central Asia</td>\n",
       "      <td>Upper middle income</td>\n",
       "    </tr>\n",
       "    <tr>\n",
       "      <th>24</th>\n",
       "      <td>Albania</td>\n",
       "      <td>ALB</td>\n",
       "      <td>2003</td>\n",
       "      <td>NaN</td>\n",
       "      <td>NaN</td>\n",
       "      <td>NaN</td>\n",
       "      <td>NaN</td>\n",
       "      <td>91.710312</td>\n",
       "      <td>91.469643</td>\n",
       "      <td>0.99494</td>\n",
       "      <td>...</td>\n",
       "      <td>NaN</td>\n",
       "      <td>NaN</td>\n",
       "      <td>NaN</td>\n",
       "      <td>NaN</td>\n",
       "      <td>NaN</td>\n",
       "      <td>NaN</td>\n",
       "      <td>NaN</td>\n",
       "      <td>NaN</td>\n",
       "      <td>Europe &amp; Central Asia</td>\n",
       "      <td>Upper middle income</td>\n",
       "    </tr>\n",
       "    <tr>\n",
       "      <th>25</th>\n",
       "      <td>Albania</td>\n",
       "      <td>ALB</td>\n",
       "      <td>2004</td>\n",
       "      <td>NaN</td>\n",
       "      <td>NaN</td>\n",
       "      <td>NaN</td>\n",
       "      <td>NaN</td>\n",
       "      <td>91.111290</td>\n",
       "      <td>91.431938</td>\n",
       "      <td>1.00682</td>\n",
       "      <td>...</td>\n",
       "      <td>NaN</td>\n",
       "      <td>NaN</td>\n",
       "      <td>NaN</td>\n",
       "      <td>NaN</td>\n",
       "      <td>NaN</td>\n",
       "      <td>NaN</td>\n",
       "      <td>NaN</td>\n",
       "      <td>NaN</td>\n",
       "      <td>Europe &amp; Central Asia</td>\n",
       "      <td>Upper middle income</td>\n",
       "    </tr>\n",
       "  </tbody>\n",
       "</table>\n",
       "<p>5 rows × 3670 columns</p>\n",
       "</div>"
      ],
      "text/plain": [
       "   Country Name Country Code  Year  \\\n",
       "21      Albania          ALB  2000   \n",
       "22      Albania          ALB  2001   \n",
       "23      Albania          ALB  2002   \n",
       "24      Albania          ALB  2003   \n",
       "25      Albania          ALB  2004   \n",
       "\n",
       "    Adjusted net enrolment rate, lower secondary, both sexes (%)  \\\n",
       "21                                          84.558281              \n",
       "22                                          85.306610              \n",
       "23                                                NaN              \n",
       "24                                                NaN              \n",
       "25                                                NaN              \n",
       "\n",
       "    Adjusted net enrolment rate, lower secondary, female (%)  \\\n",
       "21                                          83.848213          \n",
       "22                                          84.769829          \n",
       "23                                                NaN          \n",
       "24                                                NaN          \n",
       "25                                                NaN          \n",
       "\n",
       "    Adjusted net enrolment rate, lower secondary, gender parity index (GPI)  \\\n",
       "21                                            0.98360                         \n",
       "22                                            0.98771                         \n",
       "23                                                NaN                         \n",
       "24                                                NaN                         \n",
       "25                                                NaN                         \n",
       "\n",
       "    Adjusted net enrolment rate, lower secondary, male (%)  \\\n",
       "21                                          85.246353        \n",
       "22                                          85.824432        \n",
       "23                                                NaN        \n",
       "24                                                NaN        \n",
       "25                                                NaN        \n",
       "\n",
       "    Adjusted net enrolment rate, primary, both sexes (%)  \\\n",
       "21                                          95.889877      \n",
       "22                                          94.327347      \n",
       "23                                                NaN      \n",
       "24                                          91.710312      \n",
       "25                                          91.111290      \n",
       "\n",
       "    Adjusted net enrolment rate, primary, female (%)  \\\n",
       "21                                         95.191872   \n",
       "22                                         94.161636   \n",
       "23                                               NaN   \n",
       "24                                         91.469643   \n",
       "25                                         91.431938   \n",
       "\n",
       "    Adjusted net enrolment rate, primary, gender parity index (GPI)  ...  \\\n",
       "21                                            0.98591                ...   \n",
       "22                                            0.99659                ...   \n",
       "23                                                NaN                ...   \n",
       "24                                            0.99494                ...   \n",
       "25                                            1.00682                ...   \n",
       "\n",
       "    Youth illiterate population, 15-24 years, % female  \\\n",
       "21                                                NaN    \n",
       "22                                           45.34702    \n",
       "23                                                NaN    \n",
       "24                                                NaN    \n",
       "25                                                NaN    \n",
       "\n",
       "    Youth illiterate population, 15-24 years, both sexes (number)  \\\n",
       "21                                                NaN               \n",
       "22                                             2994.0               \n",
       "23                                                NaN               \n",
       "24                                                NaN               \n",
       "25                                                NaN               \n",
       "\n",
       "    Youth illiterate population, 15-24 years, female (number)  \\\n",
       "21                                                NaN           \n",
       "22                                             1358.0           \n",
       "23                                                NaN           \n",
       "24                                                NaN           \n",
       "25                                                NaN           \n",
       "\n",
       "    Youth illiterate population, 15-24 years, male (number)  \\\n",
       "21                                                NaN         \n",
       "22                                             1636.0         \n",
       "23                                                NaN         \n",
       "24                                                NaN         \n",
       "25                                                NaN         \n",
       "\n",
       "    Youth literacy rate, population 15-24 years, both sexes (%)  \\\n",
       "21                                                NaN             \n",
       "22                                           99.43515             \n",
       "23                                                NaN             \n",
       "24                                                NaN             \n",
       "25                                                NaN             \n",
       "\n",
       "    Youth literacy rate, population 15-24 years, female (%)  \\\n",
       "21                                                NaN         \n",
       "22                                           99.49808         \n",
       "23                                                NaN         \n",
       "24                                                NaN         \n",
       "25                                                NaN         \n",
       "\n",
       "    Youth literacy rate, population 15-24 years, gender parity index (GPI)  \\\n",
       "21                                                NaN                        \n",
       "22                                             1.0013                        \n",
       "23                                                NaN                        \n",
       "24                                                NaN                        \n",
       "25                                                NaN                        \n",
       "\n",
       "    Youth literacy rate, population 15-24 years, male (%)  \\\n",
       "21                                                NaN       \n",
       "22                                           99.36846       \n",
       "23                                                NaN       \n",
       "24                                                NaN       \n",
       "25                                                NaN       \n",
       "\n",
       "                   Region         Income Group  \n",
       "21  Europe & Central Asia  Upper middle income  \n",
       "22  Europe & Central Asia  Upper middle income  \n",
       "23  Europe & Central Asia  Upper middle income  \n",
       "24  Europe & Central Asia  Upper middle income  \n",
       "25  Europe & Central Asia  Upper middle income  \n",
       "\n",
       "[5 rows x 3670 columns]"
      ]
     },
     "execution_count": 43,
     "metadata": {},
     "output_type": "execute_result"
    }
   ],
   "source": [
    "EdStatsData.head()"
   ]
  },
  {
   "cell_type": "code",
   "execution_count": 44,
   "id": "5436defe-e101-4954-988f-117af9ceacac",
   "metadata": {},
   "outputs": [
    {
     "data": {
      "text/plain": [
       "(3843, 3670)"
      ]
     },
     "execution_count": 44,
     "metadata": {},
     "output_type": "execute_result"
    }
   ],
   "source": [
    "EdStatsData.shape"
   ]
  },
  {
   "cell_type": "code",
   "execution_count": 45,
   "id": "c94c871a-ef82-4020-9c4e-84cbc5ca1fe4",
   "metadata": {},
   "outputs": [
    {
     "data": {
      "text/html": [
       "<div>\n",
       "<style scoped>\n",
       "    .dataframe tbody tr th:only-of-type {\n",
       "        vertical-align: middle;\n",
       "    }\n",
       "\n",
       "    .dataframe tbody tr th {\n",
       "        vertical-align: top;\n",
       "    }\n",
       "\n",
       "    .dataframe thead th {\n",
       "        text-align: right;\n",
       "    }\n",
       "</style>\n",
       "<table border=\"1\" class=\"dataframe\">\n",
       "  <thead>\n",
       "    <tr style=\"text-align: right;\">\n",
       "      <th></th>\n",
       "      <th>Country Name</th>\n",
       "    </tr>\n",
       "    <tr>\n",
       "      <th>Income Group</th>\n",
       "      <th></th>\n",
       "    </tr>\n",
       "  </thead>\n",
       "  <tbody>\n",
       "    <tr>\n",
       "      <th>High income: OECD</th>\n",
       "      <td>31</td>\n",
       "    </tr>\n",
       "    <tr>\n",
       "      <th>High income: nonOECD</th>\n",
       "      <td>43</td>\n",
       "    </tr>\n",
       "    <tr>\n",
       "      <th>Low income</th>\n",
       "      <td>22</td>\n",
       "    </tr>\n",
       "    <tr>\n",
       "      <th>Lower middle income</th>\n",
       "      <td>43</td>\n",
       "    </tr>\n",
       "    <tr>\n",
       "      <th>Upper middle income</th>\n",
       "      <td>44</td>\n",
       "    </tr>\n",
       "  </tbody>\n",
       "</table>\n",
       "</div>"
      ],
      "text/plain": [
       "                      Country Name\n",
       "Income Group                      \n",
       "High income: OECD               31\n",
       "High income: nonOECD            43\n",
       "Low income                      22\n",
       "Lower middle income             43\n",
       "Upper middle income             44"
      ]
     },
     "execution_count": 45,
     "metadata": {},
     "output_type": "execute_result"
    }
   ],
   "source": [
    "EdStatsData.loc[:,[\"Country Name\",\"Income Group\"]].groupby(\"Income Group\").nunique()"
   ]
  },
  {
   "cell_type": "code",
   "execution_count": 46,
   "id": "214ba39d-ddaa-46a8-9a37-be295347e9a6",
   "metadata": {},
   "outputs": [],
   "source": [
    "nb_countries_add = EdStatsData.loc[:,[\"Country Name\",\"Income Group\"]].groupby(\"Income Group\").nunique()\n",
    "nb_countries_add.columns = ['No sanctions']\n",
    "nb_countries = nb_countries.merge(nb_countries_add, how = 'left', on = 'Income Group')"
   ]
  },
  {
   "cell_type": "markdown",
   "id": "074a8eb6",
   "metadata": {
    "tags": []
   },
   "source": [
    "## Langages par pays"
   ]
  },
  {
   "cell_type": "markdown",
   "id": "fbf92238",
   "metadata": {},
   "source": [
    "Une autre information qui pourrait s'avérer utile pour l'élaboration d'une stratégie est la langue pratiquée dans le pays. Bien que cette information de soit pas disponible dans les bases de données éducatives à notre disposition, c'est un élément qui peut se trouver sur internet.\n",
    "Nous allons utiliser l'information disponible sur le [CIA factbook](https://www.cia.gov/the-world-factbook/field/languages/) pour ce faire, grâce à un peu de web scraping, en utilisant BeautifulSoup."
   ]
  },
  {
   "cell_type": "code",
   "execution_count": 47,
   "id": "a8eeae7c",
   "metadata": {},
   "outputs": [],
   "source": [
    "url = \"https://www.cia.gov/the-world-factbook/field/languages/\""
   ]
  },
  {
   "cell_type": "code",
   "execution_count": 48,
   "id": "26be7fed",
   "metadata": {},
   "outputs": [
    {
     "data": {
      "text/plain": [
       "200"
      ]
     },
     "execution_count": 48,
     "metadata": {},
     "output_type": "execute_result"
    }
   ],
   "source": [
    "response = requests.get(url)\n",
    "response.status_code"
   ]
  },
  {
   "cell_type": "code",
   "execution_count": 49,
   "id": "4839f0b9",
   "metadata": {},
   "outputs": [],
   "source": [
    "response_BS = BeautifulSoup(response.text, 'html5lib')"
   ]
  },
  {
   "cell_type": "markdown",
   "id": "ac46f0b2",
   "metadata": {},
   "source": [
    "Après nous être assurés que la page web est disponible, nous avons pu utiliser l'inspecteur d'éléments du navigateur pour identifier les tags et classes html qui contiennent les données que nous recherchons. Nous allons utiliser une boucle `for` pour les extraire sous forme de list, que nous convertirons ensuite en DataFrame pour faciliter sa lecture et sa manipulation."
   ]
  },
  {
   "cell_type": "code",
   "execution_count": 50,
   "id": "59d3f690",
   "metadata": {},
   "outputs": [],
   "source": [
    "country_fields = response_BS.find_all('li', attrs = {'class':\"\"})"
   ]
  },
  {
   "cell_type": "code",
   "execution_count": 51,
   "id": "1f8232fb",
   "metadata": {},
   "outputs": [],
   "source": [
    "country_lang = []\n",
    "for country in country_fields:\n",
    "    country_name = country.find_all(\"h2\")[0].a.text\n",
    "    \n",
    "    #La lecture du code html montre qu'au moins un des éléments itérés ne contient pas de child, donc nous utilisons une instruction try: except: pour gérer ces situations.    \n",
    "    try:\n",
    "        country_languages = list(country.find_all(\"p\")[0].strings)[0]\n",
    "    except:\n",
    "        country_languages = np.nan\n",
    "        \n",
    "    country_lang.append([country_name, country_languages])"
   ]
  },
  {
   "cell_type": "code",
   "execution_count": 52,
   "id": "225574e3",
   "metadata": {},
   "outputs": [
    {
     "data": {
      "text/html": [
       "<div>\n",
       "<style scoped>\n",
       "    .dataframe tbody tr th:only-of-type {\n",
       "        vertical-align: middle;\n",
       "    }\n",
       "\n",
       "    .dataframe tbody tr th {\n",
       "        vertical-align: top;\n",
       "    }\n",
       "\n",
       "    .dataframe thead th {\n",
       "        text-align: right;\n",
       "    }\n",
       "</style>\n",
       "<table border=\"1\" class=\"dataframe\">\n",
       "  <thead>\n",
       "    <tr style=\"text-align: right;\">\n",
       "      <th></th>\n",
       "      <th>CIA Country</th>\n",
       "      <th>Languages</th>\n",
       "    </tr>\n",
       "  </thead>\n",
       "  <tbody>\n",
       "    <tr>\n",
       "      <th>0</th>\n",
       "      <td>Afghanistan</td>\n",
       "      <td>Afghan Persian or Dari (official, lingua franc...</td>\n",
       "    </tr>\n",
       "    <tr>\n",
       "      <th>1</th>\n",
       "      <td>Akrotiri</td>\n",
       "      <td>English, Greek</td>\n",
       "    </tr>\n",
       "    <tr>\n",
       "      <th>2</th>\n",
       "      <td>Albania</td>\n",
       "      <td>Albanian 98.8% (official - derived from Tosk d...</td>\n",
       "    </tr>\n",
       "    <tr>\n",
       "      <th>3</th>\n",
       "      <td>Algeria</td>\n",
       "      <td>Arabic (official), French (lingua franca), Ber...</td>\n",
       "    </tr>\n",
       "    <tr>\n",
       "      <th>4</th>\n",
       "      <td>American Samoa</td>\n",
       "      <td>Samoan 88.6% (closely related to Hawaiian and ...</td>\n",
       "    </tr>\n",
       "  </tbody>\n",
       "</table>\n",
       "</div>"
      ],
      "text/plain": [
       "      CIA Country                                          Languages\n",
       "0     Afghanistan  Afghan Persian or Dari (official, lingua franc...\n",
       "1        Akrotiri                                     English, Greek\n",
       "2         Albania  Albanian 98.8% (official - derived from Tosk d...\n",
       "3         Algeria  Arabic (official), French (lingua franca), Ber...\n",
       "4  American Samoa  Samoan 88.6% (closely related to Hawaiian and ..."
      ]
     },
     "execution_count": 52,
     "metadata": {},
     "output_type": "execute_result"
    }
   ],
   "source": [
    "country_lang = pd.DataFrame(country_lang, columns = [\"CIA Country\", \"Languages\"])\n",
    "country_lang.head()"
   ]
  },
  {
   "cell_type": "code",
   "execution_count": 53,
   "id": "f2ca979f",
   "metadata": {},
   "outputs": [
    {
     "name": "stdout",
     "output_type": "stream",
     "text": [
      "<class 'pandas.core.frame.DataFrame'>\n",
      "RangeIndex: 240 entries, 0 to 239\n",
      "Data columns (total 2 columns):\n",
      " #   Column       Non-Null Count  Dtype \n",
      "---  ------       --------------  ----- \n",
      " 0   CIA Country  240 non-null    object\n",
      " 1   Languages    238 non-null    object\n",
      "dtypes: object(2)\n",
      "memory usage: 3.9+ KB\n"
     ]
    }
   ],
   "source": [
    "country_lang.info()"
   ]
  },
  {
   "cell_type": "code",
   "execution_count": 54,
   "id": "f7663f07-bfc7-4239-87df-109a2ddfe136",
   "metadata": {},
   "outputs": [
    {
     "data": {
      "text/markdown": [
       "Nous avons maintenant à notre disposition une base contenant 240 observations avec le nom du pays et les langues qui y sont parlées."
      ],
      "text/plain": [
       "<IPython.core.display.Markdown object>"
      ]
     },
     "metadata": {},
     "output_type": "display_data"
    }
   ],
   "source": [
    "display(Markdown(f\"Nous avons maintenant à notre disposition une base contenant {country_lang.shape[0]} observations avec le nom du pays et les langues qui y sont parlées.\"))"
   ]
  },
  {
   "cell_type": "markdown",
   "id": "a84ea424",
   "metadata": {},
   "source": [
    "Cependant, cette base ayant une source différente de notre base centrale, nous allons procéder avec précaution pour les joindre. En effet, rien ne garantit à ce stade que les noms des pays sont saisis de façon identique dans les deux cas.\n",
    "Pour ce faire, nous allons extraire la liste des pays de notre base de données éducative, et créer une colonne dédiée à être une clé commune aux deux bases."
   ]
  },
  {
   "cell_type": "code",
   "execution_count": 55,
   "id": "2ee61210",
   "metadata": {},
   "outputs": [],
   "source": [
    "EdStatsData_lang = pd.DataFrame(EdStatsData['Country Name'].unique(), columns = [\"Country Name\"])"
   ]
  },
  {
   "cell_type": "code",
   "execution_count": 56,
   "id": "ba0b3e55",
   "metadata": {},
   "outputs": [],
   "source": [
    "EdStatsData_lang.loc[:,\"CIA Country\"] = EdStatsData_lang['Country Name']"
   ]
  },
  {
   "cell_type": "code",
   "execution_count": 57,
   "id": "1326e530",
   "metadata": {},
   "outputs": [],
   "source": [
    "pd.set_option('display.max_rows', None)\n",
    "pd.set_option('display.max_colwidth', None)"
   ]
  },
  {
   "cell_type": "code",
   "execution_count": 58,
   "id": "2e3131f8",
   "metadata": {},
   "outputs": [
    {
     "data": {
      "text/plain": [
       "['Brunei Darussalam',\n",
       " 'Channel Islands',\n",
       " 'Congo, Rep.',\n",
       " 'Czech Republic',\n",
       " 'Egypt, Arab Rep.',\n",
       " 'Hong Kong SAR, China',\n",
       " 'Korea, Rep.',\n",
       " 'Kyrgyz Republic',\n",
       " 'Lao PDR',\n",
       " 'Macao SAR, China',\n",
       " 'Macedonia, FYR',\n",
       " 'Micronesia, Fed. Sts.',\n",
       " 'Sint Maarten (Dutch part)',\n",
       " 'Slovak Republic',\n",
       " 'St. Kitts and Nevis',\n",
       " 'St. Lucia',\n",
       " 'St. Martin (French part)',\n",
       " 'St. Vincent and the Grenadines',\n",
       " 'Swaziland',\n",
       " 'Virgin Islands (U.S.)',\n",
       " 'West Bank and Gaza']"
      ]
     },
     "execution_count": 58,
     "metadata": {},
     "output_type": "execute_result"
    }
   ],
   "source": [
    "np.setdiff1d(EdStatsData_lang[\"CIA Country\"], country_lang[\"CIA Country\"]).tolist()"
   ]
  },
  {
   "cell_type": "markdown",
   "id": "4140e5bf",
   "metadata": {},
   "source": [
    "Cette liste de pays apparaît dans notre base de données éducatives, mais ne porte vraisemblablement pas le même nom dans la base contenants les informations sur les langues parlées."
   ]
  },
  {
   "cell_type": "code",
   "execution_count": 59,
   "id": "e4c810c8",
   "metadata": {},
   "outputs": [
    {
     "data": {
      "text/plain": [
       "['Afghanistan',\n",
       " 'Akrotiri',\n",
       " 'Anguilla',\n",
       " 'Belarus',\n",
       " 'Bosnia and Herzegovina',\n",
       " 'British Virgin Islands',\n",
       " 'Brunei',\n",
       " 'Burma',\n",
       " 'Burundi',\n",
       " 'Central African Republic',\n",
       " 'Christmas Island',\n",
       " 'Cocos (Keeling) Islands',\n",
       " 'Congo, Democratic Republic of the',\n",
       " 'Congo, Republic of the',\n",
       " 'Cook Islands',\n",
       " 'Czechia',\n",
       " 'Dhekelia',\n",
       " 'Egypt',\n",
       " 'Eswatini',\n",
       " 'European Union',\n",
       " 'Falkland Islands (Islas Malvinas)',\n",
       " 'Gaza Strip',\n",
       " 'Gibraltar',\n",
       " 'Guernsey',\n",
       " 'Guinea',\n",
       " 'Guinea-Bissau',\n",
       " 'Haiti',\n",
       " 'Holy See (Vatican City)',\n",
       " 'Hong Kong',\n",
       " 'Iran',\n",
       " 'Iraq',\n",
       " 'Jersey',\n",
       " 'Korea, North',\n",
       " 'Korea, South',\n",
       " 'Kyrgyzstan',\n",
       " 'Laos',\n",
       " 'Lebanon',\n",
       " 'Libya',\n",
       " 'Macau',\n",
       " 'Mali',\n",
       " 'Micronesia, Federated States of',\n",
       " 'Moldova',\n",
       " 'Montenegro',\n",
       " 'Montserrat',\n",
       " 'Nauru',\n",
       " 'Nicaragua',\n",
       " 'Niue',\n",
       " 'Norfolk Island',\n",
       " 'North Macedonia',\n",
       " 'Pitcairn Islands',\n",
       " 'Russia',\n",
       " 'Saint Barthelemy',\n",
       " 'Saint Helena, Ascension, and Tristan da Cunha',\n",
       " 'Saint Kitts and Nevis',\n",
       " 'Saint Lucia',\n",
       " 'Saint Martin',\n",
       " 'Saint Pierre and Miquelon',\n",
       " 'Saint Vincent and the Grenadines',\n",
       " 'Serbia',\n",
       " 'Sint Maarten',\n",
       " 'Slovakia',\n",
       " 'Somalia',\n",
       " 'South Sudan',\n",
       " 'Sudan',\n",
       " 'Svalbard',\n",
       " 'Syria',\n",
       " 'Taiwan',\n",
       " 'Tokelau',\n",
       " 'Tunisia',\n",
       " 'Turkey',\n",
       " 'Ukraine',\n",
       " 'Venezuela',\n",
       " 'Virgin Islands',\n",
       " 'Wallis and Futuna',\n",
       " 'West Bank',\n",
       " 'World',\n",
       " 'Yemen',\n",
       " 'Zimbabwe']"
      ]
     },
     "execution_count": 59,
     "metadata": {},
     "output_type": "execute_result"
    }
   ],
   "source": [
    "np.setdiff1d(country_lang[\"CIA Country\"], EdStatsData_lang[\"CIA Country\"]).tolist()"
   ]
  },
  {
   "cell_type": "markdown",
   "id": "2f48274e",
   "metadata": {},
   "source": [
    "A l'inverse, cette liste de pays apparaît dans la base contenants les informations sur les langues parlées, mais ne porte vraisemblablement pas le même nom dans la base de données éducatives qui nous intéresse."
   ]
  },
  {
   "cell_type": "code",
   "execution_count": 60,
   "id": "024779b3",
   "metadata": {},
   "outputs": [],
   "source": [
    "pd.set_option('display.max_rows', 15)\n",
    "pd.set_option('display.max_colwidth', 15)"
   ]
  },
  {
   "cell_type": "markdown",
   "id": "9708c93b",
   "metadata": {},
   "source": [
    "Nous allons donc associer les noms entre les deux bases, sur une colonne dédiée de notre base de données éducative, en complétant manuellement les noms différents pour refléter ceux de la base contenant les données linguistiques."
   ]
  },
  {
   "cell_type": "code",
   "execution_count": 61,
   "id": "5103be23",
   "metadata": {
    "tags": []
   },
   "outputs": [],
   "source": [
    "EdStatsData_lang.loc[~EdStatsData_lang['Country Name'].isin(country_lang[\"CIA Country\"]),'CIA Country'] = [\n",
    "    \"Brunei\",\n",
    "    \"United Kingdom\",\n",
    "    \"Congo, Republic of the\",\n",
    "    \"Czechia\",\n",
    "    \"Egypt\",\n",
    "    \"Hong Kong\",\n",
    "    \"Korea, South\",\n",
    "    \"Kyrgyzstan\",\n",
    "    \"Laos\",\n",
    "    \"Macau\",\n",
    "    \"North Macedonia\",\n",
    "    \"Micronesia, Federated States of\",\n",
    "    \"Sint Maarten\",\n",
    "    \"Slovakia\",\n",
    "    \"Saint Kitts and Nevis\",\n",
    "    \"Saint Lucia\",\n",
    "    \"Saint Martin\",\n",
    "    \"Saint Vincent and the Grenadines\",\n",
    "    \"Eswatini\",\n",
    "    \"Virgin Islands\",\n",
    "    \"West Bank\"\n",
    "]"
   ]
  },
  {
   "cell_type": "markdown",
   "id": "5d59ae7e",
   "metadata": {},
   "source": [
    "Ces deux bases peuvent maintenant être associées, afin de compléter notre base de pays provenant de la base de données éducatives avec l'information sur les langues parlées."
   ]
  },
  {
   "cell_type": "code",
   "execution_count": 62,
   "id": "e2921f78",
   "metadata": {},
   "outputs": [],
   "source": [
    "EdStatsData_lang = EdStatsData_lang.merge(\n",
    "    right = country_lang,\n",
    "    on = \"CIA Country\",\n",
    "    how = \"left\"\n",
    ")"
   ]
  },
  {
   "cell_type": "code",
   "execution_count": 63,
   "id": "9e7f2c67",
   "metadata": {},
   "outputs": [
    {
     "data": {
      "text/plain": [
       "0"
      ]
     },
     "execution_count": 63,
     "metadata": {},
     "output_type": "execute_result"
    }
   ],
   "source": [
    "EdStatsData_lang['Languages'].isna().sum()"
   ]
  },
  {
   "cell_type": "markdown",
   "id": "9956b974",
   "metadata": {},
   "source": [
    "On peut voir qu'il n'y a pas de données manquantes dans la nouvelle colonne indiquant les langues."
   ]
  },
  {
   "cell_type": "code",
   "execution_count": 64,
   "id": "5c23acba",
   "metadata": {},
   "outputs": [
    {
     "data": {
      "text/html": [
       "<div>\n",
       "<style scoped>\n",
       "    .dataframe tbody tr th:only-of-type {\n",
       "        vertical-align: middle;\n",
       "    }\n",
       "\n",
       "    .dataframe tbody tr th {\n",
       "        vertical-align: top;\n",
       "    }\n",
       "\n",
       "    .dataframe thead th {\n",
       "        text-align: right;\n",
       "    }\n",
       "</style>\n",
       "<table border=\"1\" class=\"dataframe\">\n",
       "  <thead>\n",
       "    <tr style=\"text-align: right;\">\n",
       "      <th></th>\n",
       "      <th>Country Name</th>\n",
       "      <th>CIA Country</th>\n",
       "      <th>Languages</th>\n",
       "    </tr>\n",
       "  </thead>\n",
       "  <tbody>\n",
       "    <tr>\n",
       "      <th>0</th>\n",
       "      <td>Albania</td>\n",
       "      <td>Albania</td>\n",
       "      <td>Albanian 98...</td>\n",
       "    </tr>\n",
       "    <tr>\n",
       "      <th>1</th>\n",
       "      <td>Algeria</td>\n",
       "      <td>Algeria</td>\n",
       "      <td>Arabic (off...</td>\n",
       "    </tr>\n",
       "    <tr>\n",
       "      <th>2</th>\n",
       "      <td>American Samoa</td>\n",
       "      <td>American Samoa</td>\n",
       "      <td>Samoan 88.6...</td>\n",
       "    </tr>\n",
       "    <tr>\n",
       "      <th>3</th>\n",
       "      <td>Andorra</td>\n",
       "      <td>Andorra</td>\n",
       "      <td>Catalan (of...</td>\n",
       "    </tr>\n",
       "    <tr>\n",
       "      <th>4</th>\n",
       "      <td>Angola</td>\n",
       "      <td>Angola</td>\n",
       "      <td>Portuguese ...</td>\n",
       "    </tr>\n",
       "  </tbody>\n",
       "</table>\n",
       "</div>"
      ],
      "text/plain": [
       "     Country Name     CIA Country       Languages\n",
       "0         Albania         Albania  Albanian 98...\n",
       "1         Algeria         Algeria  Arabic (off...\n",
       "2  American Samoa  American Samoa  Samoan 88.6...\n",
       "3         Andorra         Andorra  Catalan (of...\n",
       "4          Angola          Angola  Portuguese ..."
      ]
     },
     "execution_count": 64,
     "metadata": {},
     "output_type": "execute_result"
    }
   ],
   "source": [
    "EdStatsData_lang.head()"
   ]
  },
  {
   "cell_type": "markdown",
   "id": "a78bc025",
   "metadata": {},
   "source": [
    "La colonne \"CIA Country\" n'étant désormais plus utile, nous la retirons de la base de données."
   ]
  },
  {
   "cell_type": "code",
   "execution_count": 65,
   "id": "3a0835d7",
   "metadata": {},
   "outputs": [],
   "source": [
    "EdStatsData_lang.drop(\"CIA Country\", axis = 1, inplace  = True)"
   ]
  },
  {
   "cell_type": "markdown",
   "id": "1e62f5d3",
   "metadata": {},
   "source": [
    "On peut désormais joindre notre base de données éducatives à la base de données par pays, afin de compléter la première avec l'information sur les langues parlées."
   ]
  },
  {
   "cell_type": "code",
   "execution_count": 66,
   "id": "08ebffb2",
   "metadata": {},
   "outputs": [],
   "source": [
    "EdStatsData = EdStatsData.merge(\n",
    "    right = EdStatsData_lang,\n",
    "    how = 'left',\n",
    "    on = 'Country Name'\n",
    ")"
   ]
  },
  {
   "cell_type": "code",
   "execution_count": 67,
   "id": "61b06113",
   "metadata": {},
   "outputs": [],
   "source": [
    "del EdStatsData_lang, country_lang"
   ]
  },
  {
   "cell_type": "code",
   "execution_count": 68,
   "id": "c97f2e9c-ae1e-4968-9377-e037b59a6a8c",
   "metadata": {},
   "outputs": [
    {
     "data": {
      "text/html": [
       "<div>\n",
       "<style scoped>\n",
       "    .dataframe tbody tr th:only-of-type {\n",
       "        vertical-align: middle;\n",
       "    }\n",
       "\n",
       "    .dataframe tbody tr th {\n",
       "        vertical-align: top;\n",
       "    }\n",
       "\n",
       "    .dataframe thead th {\n",
       "        text-align: right;\n",
       "    }\n",
       "</style>\n",
       "<table border=\"1\" class=\"dataframe\">\n",
       "  <thead>\n",
       "    <tr style=\"text-align: right;\">\n",
       "      <th></th>\n",
       "      <th>Country Name</th>\n",
       "      <th>Country Code</th>\n",
       "      <th>Year</th>\n",
       "      <th>Adjusted net enrolment rate, lower secondary, both sexes (%)</th>\n",
       "      <th>Adjusted net enrolment rate, lower secondary, female (%)</th>\n",
       "      <th>Adjusted net enrolment rate, lower secondary, gender parity index (GPI)</th>\n",
       "      <th>Adjusted net enrolment rate, lower secondary, male (%)</th>\n",
       "      <th>Adjusted net enrolment rate, primary, both sexes (%)</th>\n",
       "      <th>Adjusted net enrolment rate, primary, female (%)</th>\n",
       "      <th>Adjusted net enrolment rate, primary, gender parity index (GPI)</th>\n",
       "      <th>...</th>\n",
       "      <th>Youth illiterate population, 15-24 years, both sexes (number)</th>\n",
       "      <th>Youth illiterate population, 15-24 years, female (number)</th>\n",
       "      <th>Youth illiterate population, 15-24 years, male (number)</th>\n",
       "      <th>Youth literacy rate, population 15-24 years, both sexes (%)</th>\n",
       "      <th>Youth literacy rate, population 15-24 years, female (%)</th>\n",
       "      <th>Youth literacy rate, population 15-24 years, gender parity index (GPI)</th>\n",
       "      <th>Youth literacy rate, population 15-24 years, male (%)</th>\n",
       "      <th>Region</th>\n",
       "      <th>Income Group</th>\n",
       "      <th>Languages</th>\n",
       "    </tr>\n",
       "  </thead>\n",
       "  <tbody>\n",
       "    <tr>\n",
       "      <th>0</th>\n",
       "      <td>Albania</td>\n",
       "      <td>ALB</td>\n",
       "      <td>2000</td>\n",
       "      <td>84.558281</td>\n",
       "      <td>83.848213</td>\n",
       "      <td>0.98360</td>\n",
       "      <td>85.246353</td>\n",
       "      <td>95.889877</td>\n",
       "      <td>95.191872</td>\n",
       "      <td>0.98591</td>\n",
       "      <td>...</td>\n",
       "      <td>NaN</td>\n",
       "      <td>NaN</td>\n",
       "      <td>NaN</td>\n",
       "      <td>NaN</td>\n",
       "      <td>NaN</td>\n",
       "      <td>NaN</td>\n",
       "      <td>NaN</td>\n",
       "      <td>Europe &amp; Ce...</td>\n",
       "      <td>Upper middl...</td>\n",
       "      <td>Albanian 98...</td>\n",
       "    </tr>\n",
       "    <tr>\n",
       "      <th>1</th>\n",
       "      <td>Albania</td>\n",
       "      <td>ALB</td>\n",
       "      <td>2001</td>\n",
       "      <td>85.306610</td>\n",
       "      <td>84.769829</td>\n",
       "      <td>0.98771</td>\n",
       "      <td>85.824432</td>\n",
       "      <td>94.327347</td>\n",
       "      <td>94.161636</td>\n",
       "      <td>0.99659</td>\n",
       "      <td>...</td>\n",
       "      <td>2994.0</td>\n",
       "      <td>1358.0</td>\n",
       "      <td>1636.0</td>\n",
       "      <td>99.43515</td>\n",
       "      <td>99.49808</td>\n",
       "      <td>1.0013</td>\n",
       "      <td>99.36846</td>\n",
       "      <td>Europe &amp; Ce...</td>\n",
       "      <td>Upper middl...</td>\n",
       "      <td>Albanian 98...</td>\n",
       "    </tr>\n",
       "    <tr>\n",
       "      <th>2</th>\n",
       "      <td>Albania</td>\n",
       "      <td>ALB</td>\n",
       "      <td>2002</td>\n",
       "      <td>NaN</td>\n",
       "      <td>NaN</td>\n",
       "      <td>NaN</td>\n",
       "      <td>NaN</td>\n",
       "      <td>NaN</td>\n",
       "      <td>NaN</td>\n",
       "      <td>NaN</td>\n",
       "      <td>...</td>\n",
       "      <td>NaN</td>\n",
       "      <td>NaN</td>\n",
       "      <td>NaN</td>\n",
       "      <td>NaN</td>\n",
       "      <td>NaN</td>\n",
       "      <td>NaN</td>\n",
       "      <td>NaN</td>\n",
       "      <td>Europe &amp; Ce...</td>\n",
       "      <td>Upper middl...</td>\n",
       "      <td>Albanian 98...</td>\n",
       "    </tr>\n",
       "    <tr>\n",
       "      <th>3</th>\n",
       "      <td>Albania</td>\n",
       "      <td>ALB</td>\n",
       "      <td>2003</td>\n",
       "      <td>NaN</td>\n",
       "      <td>NaN</td>\n",
       "      <td>NaN</td>\n",
       "      <td>NaN</td>\n",
       "      <td>91.710312</td>\n",
       "      <td>91.469643</td>\n",
       "      <td>0.99494</td>\n",
       "      <td>...</td>\n",
       "      <td>NaN</td>\n",
       "      <td>NaN</td>\n",
       "      <td>NaN</td>\n",
       "      <td>NaN</td>\n",
       "      <td>NaN</td>\n",
       "      <td>NaN</td>\n",
       "      <td>NaN</td>\n",
       "      <td>Europe &amp; Ce...</td>\n",
       "      <td>Upper middl...</td>\n",
       "      <td>Albanian 98...</td>\n",
       "    </tr>\n",
       "    <tr>\n",
       "      <th>4</th>\n",
       "      <td>Albania</td>\n",
       "      <td>ALB</td>\n",
       "      <td>2004</td>\n",
       "      <td>NaN</td>\n",
       "      <td>NaN</td>\n",
       "      <td>NaN</td>\n",
       "      <td>NaN</td>\n",
       "      <td>91.111290</td>\n",
       "      <td>91.431938</td>\n",
       "      <td>1.00682</td>\n",
       "      <td>...</td>\n",
       "      <td>NaN</td>\n",
       "      <td>NaN</td>\n",
       "      <td>NaN</td>\n",
       "      <td>NaN</td>\n",
       "      <td>NaN</td>\n",
       "      <td>NaN</td>\n",
       "      <td>NaN</td>\n",
       "      <td>Europe &amp; Ce...</td>\n",
       "      <td>Upper middl...</td>\n",
       "      <td>Albanian 98...</td>\n",
       "    </tr>\n",
       "  </tbody>\n",
       "</table>\n",
       "<p>5 rows × 3671 columns</p>\n",
       "</div>"
      ],
      "text/plain": [
       "  Country Name Country Code  Year  \\\n",
       "0      Albania          ALB  2000   \n",
       "1      Albania          ALB  2001   \n",
       "2      Albania          ALB  2002   \n",
       "3      Albania          ALB  2003   \n",
       "4      Albania          ALB  2004   \n",
       "\n",
       "   Adjusted net enrolment rate, lower secondary, both sexes (%)  \\\n",
       "0       84.558281                                                 \n",
       "1       85.306610                                                 \n",
       "2             NaN                                                 \n",
       "3             NaN                                                 \n",
       "4             NaN                                                 \n",
       "\n",
       "   Adjusted net enrolment rate, lower secondary, female (%)  \\\n",
       "0       83.848213                                             \n",
       "1       84.769829                                             \n",
       "2             NaN                                             \n",
       "3             NaN                                             \n",
       "4             NaN                                             \n",
       "\n",
       "   Adjusted net enrolment rate, lower secondary, gender parity index (GPI)  \\\n",
       "0         0.98360                                                            \n",
       "1         0.98771                                                            \n",
       "2             NaN                                                            \n",
       "3             NaN                                                            \n",
       "4             NaN                                                            \n",
       "\n",
       "   Adjusted net enrolment rate, lower secondary, male (%)  \\\n",
       "0       85.246353                                           \n",
       "1       85.824432                                           \n",
       "2             NaN                                           \n",
       "3             NaN                                           \n",
       "4             NaN                                           \n",
       "\n",
       "   Adjusted net enrolment rate, primary, both sexes (%)  \\\n",
       "0       95.889877                                         \n",
       "1       94.327347                                         \n",
       "2             NaN                                         \n",
       "3       91.710312                                         \n",
       "4       91.111290                                         \n",
       "\n",
       "   Adjusted net enrolment rate, primary, female (%)  \\\n",
       "0       95.191872                                     \n",
       "1       94.161636                                     \n",
       "2             NaN                                     \n",
       "3       91.469643                                     \n",
       "4       91.431938                                     \n",
       "\n",
       "   Adjusted net enrolment rate, primary, gender parity index (GPI)  ...  \\\n",
       "0         0.98591                                                   ...   \n",
       "1         0.99659                                                   ...   \n",
       "2             NaN                                                   ...   \n",
       "3         0.99494                                                   ...   \n",
       "4         1.00682                                                   ...   \n",
       "\n",
       "   Youth illiterate population, 15-24 years, both sexes (number)  \\\n",
       "0             NaN                                                  \n",
       "1          2994.0                                                  \n",
       "2             NaN                                                  \n",
       "3             NaN                                                  \n",
       "4             NaN                                                  \n",
       "\n",
       "   Youth illiterate population, 15-24 years, female (number)  \\\n",
       "0             NaN                                              \n",
       "1          1358.0                                              \n",
       "2             NaN                                              \n",
       "3             NaN                                              \n",
       "4             NaN                                              \n",
       "\n",
       "   Youth illiterate population, 15-24 years, male (number)  \\\n",
       "0             NaN                                            \n",
       "1          1636.0                                            \n",
       "2             NaN                                            \n",
       "3             NaN                                            \n",
       "4             NaN                                            \n",
       "\n",
       "   Youth literacy rate, population 15-24 years, both sexes (%)  \\\n",
       "0             NaN                                                \n",
       "1        99.43515                                                \n",
       "2             NaN                                                \n",
       "3             NaN                                                \n",
       "4             NaN                                                \n",
       "\n",
       "   Youth literacy rate, population 15-24 years, female (%)  \\\n",
       "0             NaN                                            \n",
       "1        99.49808                                            \n",
       "2             NaN                                            \n",
       "3             NaN                                            \n",
       "4             NaN                                            \n",
       "\n",
       "   Youth literacy rate, population 15-24 years, gender parity index (GPI)  \\\n",
       "0             NaN                                                           \n",
       "1          1.0013                                                           \n",
       "2             NaN                                                           \n",
       "3             NaN                                                           \n",
       "4             NaN                                                           \n",
       "\n",
       "   Youth literacy rate, population 15-24 years, male (%)          Region  \\\n",
       "0             NaN                                         Europe & Ce...   \n",
       "1        99.36846                                         Europe & Ce...   \n",
       "2             NaN                                         Europe & Ce...   \n",
       "3             NaN                                         Europe & Ce...   \n",
       "4             NaN                                         Europe & Ce...   \n",
       "\n",
       "     Income Group       Languages  \n",
       "0  Upper middl...  Albanian 98...  \n",
       "1  Upper middl...  Albanian 98...  \n",
       "2  Upper middl...  Albanian 98...  \n",
       "3  Upper middl...  Albanian 98...  \n",
       "4  Upper middl...  Albanian 98...  \n",
       "\n",
       "[5 rows x 3671 columns]"
      ]
     },
     "execution_count": 68,
     "metadata": {},
     "output_type": "execute_result"
    }
   ],
   "source": [
    "EdStatsData.head()"
   ]
  },
  {
   "cell_type": "code",
   "execution_count": 69,
   "id": "d60c0319-f536-417d-bd02-992bda262ca8",
   "metadata": {},
   "outputs": [
    {
     "data": {
      "text/plain": [
       "(3843, 3671)"
      ]
     },
     "execution_count": 69,
     "metadata": {},
     "output_type": "execute_result"
    }
   ],
   "source": [
    "EdStatsData.shape"
   ]
  },
  {
   "cell_type": "markdown",
   "id": "de842e46",
   "metadata": {
    "tags": []
   },
   "source": [
    "## Sélection des indicateurs"
   ]
  },
  {
   "cell_type": "markdown",
   "id": "5455b40d",
   "metadata": {},
   "source": [
    "Afin de rationaliser la sélection des indicateurs qui nous seront utiles pour l'analyse, nous allons commencer par regarder lesquels sont suffisamment complétés pour pouvoir différencier les pays entre eux."
   ]
  },
  {
   "cell_type": "code",
   "execution_count": 70,
   "id": "d13e029a",
   "metadata": {},
   "outputs": [
    {
     "data": {
      "text/plain": [
       "Country Name                                                              0.000000\n",
       "Country Code                                                              0.000000\n",
       "Year                                                                      0.000000\n",
       "Adjusted net enrolment rate, lower secondary, both sexes (%)              0.651054\n",
       "Adjusted net enrolment rate, lower secondary, female (%)                  0.660161\n",
       "                                                                            ...   \n",
       "Youth literacy rate, population 15-24 years, gender parity index (GPI)    0.886027\n",
       "Youth literacy rate, population 15-24 years, male (%)                     0.886027\n",
       "Region                                                                    0.000000\n",
       "Income Group                                                              0.000000\n",
       "Languages                                                                 0.000000\n",
       "Length: 3671, dtype: float64"
      ]
     },
     "execution_count": 70,
     "metadata": {},
     "output_type": "execute_result"
    }
   ],
   "source": [
    "EdStatsData.isna().sum()/EdStatsData.shape[0]"
   ]
  },
  {
   "cell_type": "markdown",
   "id": "7ed92df1",
   "metadata": {},
   "source": [
    "On voit dans cet échantillon que certains indicateurs sont remplis à moins de 20% sur les années retenues, ce qui risque de limiter leur utilité. Par ailleurs, on peut voir que certains indicateurs sont limités à un sexe en particulier, ce qui ne va pas nous être utile à ce stade pour déterminer les pays à plus fort potentiel."
   ]
  },
  {
   "cell_type": "markdown",
   "id": "9bcc1e00",
   "metadata": {},
   "source": [
    "Afin d'automatiser l'approche avec python, nous allons créer une fonction pour faire une pré-sélection d'indicateurs selon les critères suivants :\n",
    "- ratio maximal d'observations manquantes que nous acceptons\n",
    "- mots que nous souhaitons exclure des indicateurs"
   ]
  },
  {
   "cell_type": "code",
   "execution_count": 71,
   "id": "c19261ff",
   "metadata": {},
   "outputs": [],
   "source": [
    "def indicator_filter(data, na_threshold, filtered_words = []):\n",
    "    \n",
    "    '''\n",
    "    Fonction filtrant la liste de colonnes (= les indicateurs) en fonction du nombre de valeurs manquantes et d'une liste de mots à exclure.\n",
    "    \n",
    "    Paramètres\n",
    "    ----------\n",
    "    data : données à filtrer, format DataFrame, dont les noms de colonnes sont uniques.\n",
    "    na_threshold : ratio maximal de valeurs manquantes au-delà duquel l'indicateur est rejeté.\n",
    "    filtered_words : mots ou liste de mots à exclure, format itérable (list, ndarray, tuple, dict).\n",
    "    \n",
    "    Résultat\n",
    "    --------\n",
    "    ndarray contenant l'ensemble des indicateurs passant les deux filtres.\n",
    "    \n",
    "    '''\n",
    "    \n",
    "    length = data.shape[0]\n",
    "    filtered_words = '|'.join(filtered_words)\n",
    "    \n",
    "    if EdStatsData.columns.nunique() != len(data.columns):\n",
    "        raise ValueError(\"La liste d'indicateurs (noms de colonnes) ne doit contenir que des valeurs uniques.\")\n",
    "    \n",
    "    indicators_retained = data.loc[:,~data.columns.str.contains(filtered_words, case = False)]\n",
    "    \n",
    "    indicators_retained = indicators_retained.dropna(axis = 1, thresh = int((1-na_threshold) * length))\n",
    "    \n",
    "    indicators_retained = indicators_retained.columns.tolist()\n",
    "    \n",
    "    return np.array(indicators_retained)"
   ]
  },
  {
   "cell_type": "markdown",
   "id": "21fe37ee",
   "metadata": {},
   "source": [
    "Nous savons que la base de données contient des données réelles et des projections. Il se peut que certains indicateurs seulement soient projetés, tandis que d'autres contiennent uniquement des valeurs observées. Afin de différencier les deux, nous allons définir une année pivot au-delà de laquelle les données sont considérées comme projetées. Nous avons pu repérer que les mesures annuelles cessent en 2017, année que nous allons considérer comme pivot."
   ]
  },
  {
   "cell_type": "code",
   "execution_count": 72,
   "id": "6ad5d2bb",
   "metadata": {},
   "outputs": [],
   "source": [
    "max_actuals = 2017"
   ]
  },
  {
   "cell_type": "markdown",
   "id": "b96d52a1",
   "metadata": {},
   "source": [
    "Nous définissons ensuite le ratio maximal d'observations manquantes que nous acceptons, ainsi que des listes de mots à exclure.\n",
    "\n",
    "Afin de définir le ratio maximal d'observations manquantes, nous allons observer le nombre d'indicateurs restant sur différents ratios allant de 10% à 70%. Nous cherchons à conserver une liste d'environ 50 indicateurs, en conservant ainsi un nombre suffisant d'indicateurs pour pouvoir faire une sélection plus avancée en fonction des besoins de notre analyse."
   ]
  },
  {
   "cell_type": "code",
   "execution_count": 73,
   "id": "1e2384a0",
   "metadata": {},
   "outputs": [],
   "source": [
    "words_actuals = [\"male\", \"primary\", \"parity\", \"Population, age\", \"grade\", \"GNI\", \"PPP\", \"constant\"]\n",
    "words_forecasts = [\"male\", \"primary\", \"mean\", \"no education\", \"percentage\"]"
   ]
  },
  {
   "cell_type": "code",
   "execution_count": 74,
   "id": "b20b57c7",
   "metadata": {},
   "outputs": [
    {
     "data": {
      "text/html": [
       "<div>\n",
       "<style scoped>\n",
       "    .dataframe tbody tr th:only-of-type {\n",
       "        vertical-align: middle;\n",
       "    }\n",
       "\n",
       "    .dataframe tbody tr th {\n",
       "        vertical-align: top;\n",
       "    }\n",
       "\n",
       "    .dataframe thead th {\n",
       "        text-align: right;\n",
       "    }\n",
       "</style>\n",
       "<table border=\"1\" class=\"dataframe\">\n",
       "  <thead>\n",
       "    <tr style=\"text-align: right;\">\n",
       "      <th></th>\n",
       "      <th>missing threshold</th>\n",
       "      <th>remaining actuals</th>\n",
       "      <th>remaining forecasts</th>\n",
       "    </tr>\n",
       "  </thead>\n",
       "  <tbody>\n",
       "    <tr>\n",
       "      <th>0</th>\n",
       "      <td>0.1</td>\n",
       "      <td>8</td>\n",
       "      <td>6</td>\n",
       "    </tr>\n",
       "    <tr>\n",
       "      <th>1</th>\n",
       "      <td>0.2</td>\n",
       "      <td>23</td>\n",
       "      <td>6</td>\n",
       "    </tr>\n",
       "    <tr>\n",
       "      <th>2</th>\n",
       "      <td>0.3</td>\n",
       "      <td>26</td>\n",
       "      <td>18</td>\n",
       "    </tr>\n",
       "    <tr>\n",
       "      <th>3</th>\n",
       "      <td>0.4</td>\n",
       "      <td>40</td>\n",
       "      <td>18</td>\n",
       "    </tr>\n",
       "    <tr>\n",
       "      <th>4</th>\n",
       "      <td>0.5</td>\n",
       "      <td>53</td>\n",
       "      <td>18</td>\n",
       "    </tr>\n",
       "    <tr>\n",
       "      <th>5</th>\n",
       "      <td>0.6</td>\n",
       "      <td>74</td>\n",
       "      <td>18</td>\n",
       "    </tr>\n",
       "    <tr>\n",
       "      <th>6</th>\n",
       "      <td>0.7</td>\n",
       "      <td>120</td>\n",
       "      <td>18</td>\n",
       "    </tr>\n",
       "  </tbody>\n",
       "</table>\n",
       "</div>"
      ],
      "text/plain": [
       "   missing threshold  remaining actuals  remaining forecasts\n",
       "0             0.1                  8                  6     \n",
       "1             0.2                 23                  6     \n",
       "2             0.3                 26                 18     \n",
       "3             0.4                 40                 18     \n",
       "4             0.5                 53                 18     \n",
       "5             0.6                 74                 18     \n",
       "6             0.7                120                 18     "
      ]
     },
     "execution_count": 74,
     "metadata": {},
     "output_type": "execute_result"
    }
   ],
   "source": [
    "actuals_thresh = []\n",
    "forecasts_thresh = []\n",
    "\n",
    "for i in np.arange(0.1, 0.8, 0.1):\n",
    "    actuals_thresh.append(len(indicator_filter(EdStatsData[EdStatsData['Year'] <= max_actuals], i, words_actuals)))\n",
    "    forecasts_thresh.append(len(indicator_filter(EdStatsData[EdStatsData['Year'] > max_actuals], i, words_forecasts)))\n",
    "    \n",
    "    thresholds = {\n",
    "        'missing threshold': np.arange(0.1, 0.8, 0.1),\n",
    "        'remaining actuals': actuals_thresh,\n",
    "        'remaining forecasts': forecasts_thresh\n",
    "    }\n",
    "\n",
    "pd.DataFrame(thresholds)"
   ]
  },
  {
   "cell_type": "markdown",
   "id": "5b975aa5-192d-4321-9f6c-cc6e152464ad",
   "metadata": {},
   "source": [
    "Nous pouvons voir qu'à partir de 50% d'éléments manquants pour les valeurs réelles, nous obtenons environ 50 indicateurs à analyser. Concernant les données prospectives, il n'y a pas de changement à partir de 30% de valeurs manquantes."
   ]
  },
  {
   "cell_type": "code",
   "execution_count": 75,
   "id": "31063f63",
   "metadata": {},
   "outputs": [],
   "source": [
    "actuals_indicators = indicator_filter(EdStatsData[EdStatsData['Year'] <= max_actuals], 0.5, words_actuals)\n",
    "forecasts_indicators = indicator_filter(EdStatsData[EdStatsData['Year'] > max_actuals], 0.3, words_forecasts)"
   ]
  },
  {
   "cell_type": "code",
   "execution_count": 76,
   "id": "623e6421",
   "metadata": {},
   "outputs": [
    {
     "name": "stdout",
     "output_type": "stream",
     "text": [
      "Nombre d'indicateurs retenus pour les valeurs observées : 53\n",
      "Nombre d'indicateurs retenus pour les valeurs projetées : 18\n"
     ]
    }
   ],
   "source": [
    "print(f\"Nombre d'indicateurs retenus pour les valeurs observées : {len(actuals_indicators)}\")\n",
    "print(f\"Nombre d'indicateurs retenus pour les valeurs projetées : {len(forecasts_indicators)}\")"
   ]
  },
  {
   "cell_type": "markdown",
   "id": "ef94aa2f",
   "metadata": {},
   "source": [
    "Cette première étape nous a permis de réduire fortement le nombre d'indicateurs à étudier. Nous pouvons maintenant continuer à réduire cette liste en sélectionnant manuellement les indicateurs que nous pensons les plus utiles."
   ]
  },
  {
   "cell_type": "code",
   "execution_count": 77,
   "id": "2e4f3c85",
   "metadata": {},
   "outputs": [],
   "source": [
    "pd.set_option('display.max_rows', None)\n",
    "pd.set_option('display.max_colwidth', None)"
   ]
  },
  {
   "cell_type": "code",
   "execution_count": 78,
   "id": "4adad96f",
   "metadata": {
    "tags": []
   },
   "outputs": [
    {
     "data": {
      "text/html": [
       "<div>\n",
       "<style scoped>\n",
       "    .dataframe tbody tr th:only-of-type {\n",
       "        vertical-align: middle;\n",
       "    }\n",
       "\n",
       "    .dataframe tbody tr th {\n",
       "        vertical-align: top;\n",
       "    }\n",
       "\n",
       "    .dataframe thead th {\n",
       "        text-align: right;\n",
       "    }\n",
       "</style>\n",
       "<table border=\"1\" class=\"dataframe\">\n",
       "  <thead>\n",
       "    <tr style=\"text-align: right;\">\n",
       "      <th></th>\n",
       "      <th>Indicators</th>\n",
       "    </tr>\n",
       "  </thead>\n",
       "  <tbody>\n",
       "    <tr>\n",
       "      <th>0</th>\n",
       "      <td>Country Name</td>\n",
       "    </tr>\n",
       "    <tr>\n",
       "      <th>1</th>\n",
       "      <td>Country Code</td>\n",
       "    </tr>\n",
       "    <tr>\n",
       "      <th>2</th>\n",
       "      <td>Year</td>\n",
       "    </tr>\n",
       "    <tr>\n",
       "      <th>3</th>\n",
       "      <td>Duration of compulsory education (years)</td>\n",
       "    </tr>\n",
       "    <tr>\n",
       "      <th>4</th>\n",
       "      <td>Enrolment in lower secondary education, both sexes (number)</td>\n",
       "    </tr>\n",
       "    <tr>\n",
       "      <th>5</th>\n",
       "      <td>Enrolment in lower secondary education, public institutions, both sexes (number)</td>\n",
       "    </tr>\n",
       "    <tr>\n",
       "      <th>6</th>\n",
       "      <td>Enrolment in lower secondary general, both sexes (number)</td>\n",
       "    </tr>\n",
       "    <tr>\n",
       "      <th>7</th>\n",
       "      <td>Enrolment in secondary education, both sexes (number)</td>\n",
       "    </tr>\n",
       "    <tr>\n",
       "      <th>8</th>\n",
       "      <td>Enrolment in secondary general, both sexes (number)</td>\n",
       "    </tr>\n",
       "    <tr>\n",
       "      <th>9</th>\n",
       "      <td>Enrolment in secondary vocational, both sexes (number)</td>\n",
       "    </tr>\n",
       "    <tr>\n",
       "      <th>10</th>\n",
       "      <td>Enrolment in tertiary education, all programmes, both sexes (number)</td>\n",
       "    </tr>\n",
       "    <tr>\n",
       "      <th>11</th>\n",
       "      <td>Enrolment in upper secondary education, both sexes (number)</td>\n",
       "    </tr>\n",
       "    <tr>\n",
       "      <th>12</th>\n",
       "      <td>Enrolment in upper secondary education, public institutions, both sexes (number)</td>\n",
       "    </tr>\n",
       "    <tr>\n",
       "      <th>13</th>\n",
       "      <td>Enrolment in upper secondary general, both sexes (number)</td>\n",
       "    </tr>\n",
       "    <tr>\n",
       "      <th>14</th>\n",
       "      <td>GDP at market prices (current US$)</td>\n",
       "    </tr>\n",
       "    <tr>\n",
       "      <th>15</th>\n",
       "      <td>GDP per capita (current US$)</td>\n",
       "    </tr>\n",
       "    <tr>\n",
       "      <th>16</th>\n",
       "      <td>Gross enrolment ratio, lower secondary, both sexes (%)</td>\n",
       "    </tr>\n",
       "    <tr>\n",
       "      <th>17</th>\n",
       "      <td>Gross enrolment ratio, secondary, both sexes (%)</td>\n",
       "    </tr>\n",
       "    <tr>\n",
       "      <th>18</th>\n",
       "      <td>Gross enrolment ratio, tertiary, both sexes (%)</td>\n",
       "    </tr>\n",
       "    <tr>\n",
       "      <th>19</th>\n",
       "      <td>Gross enrolment ratio, upper secondary, both sexes (%)</td>\n",
       "    </tr>\n",
       "    <tr>\n",
       "      <th>20</th>\n",
       "      <td>Gross outbound enrolment ratio, all regions, both sexes (%)</td>\n",
       "    </tr>\n",
       "    <tr>\n",
       "      <th>21</th>\n",
       "      <td>Internet users (per 100 people)</td>\n",
       "    </tr>\n",
       "    <tr>\n",
       "      <th>22</th>\n",
       "      <td>Labor force, total</td>\n",
       "    </tr>\n",
       "    <tr>\n",
       "      <th>23</th>\n",
       "      <td>Mortality rate, under-5 (per 1,000)</td>\n",
       "    </tr>\n",
       "    <tr>\n",
       "      <th>24</th>\n",
       "      <td>Official entrance age to compulsory education (years)</td>\n",
       "    </tr>\n",
       "    <tr>\n",
       "      <th>25</th>\n",
       "      <td>Official entrance age to lower secondary education (years)</td>\n",
       "    </tr>\n",
       "    <tr>\n",
       "      <th>26</th>\n",
       "      <td>Official entrance age to post-secondary non-tertiary education (years)</td>\n",
       "    </tr>\n",
       "    <tr>\n",
       "      <th>27</th>\n",
       "      <td>Official entrance age to upper secondary education (years)</td>\n",
       "    </tr>\n",
       "    <tr>\n",
       "      <th>28</th>\n",
       "      <td>Percentage of enrolment in secondary education in private institutions (%)</td>\n",
       "    </tr>\n",
       "    <tr>\n",
       "      <th>29</th>\n",
       "      <td>Percentage of students in lower secondary education enrolled in general programmes, both sexes (%)</td>\n",
       "    </tr>\n",
       "    <tr>\n",
       "      <th>30</th>\n",
       "      <td>Percentage of students in secondary education enrolled in general programmes, both sexes (%)</td>\n",
       "    </tr>\n",
       "    <tr>\n",
       "      <th>31</th>\n",
       "      <td>Percentage of students in secondary education enrolled in vocational programmes, both sexes (%)</td>\n",
       "    </tr>\n",
       "    <tr>\n",
       "      <th>32</th>\n",
       "      <td>Percentage of students in upper secondary education enrolled in general programmes, both sexes (%)</td>\n",
       "    </tr>\n",
       "    <tr>\n",
       "      <th>33</th>\n",
       "      <td>Population growth (annual %)</td>\n",
       "    </tr>\n",
       "    <tr>\n",
       "      <th>34</th>\n",
       "      <td>Population of compulsory school age, both sexes (number)</td>\n",
       "    </tr>\n",
       "    <tr>\n",
       "      <th>35</th>\n",
       "      <td>Population of the official age for lower secondary education, both sexes (number)</td>\n",
       "    </tr>\n",
       "    <tr>\n",
       "      <th>36</th>\n",
       "      <td>Population of the official age for post-secondary non-tertiary education, both sexes (number)</td>\n",
       "    </tr>\n",
       "    <tr>\n",
       "      <th>37</th>\n",
       "      <td>Population of the official age for secondary education, both sexes (number)</td>\n",
       "    </tr>\n",
       "    <tr>\n",
       "      <th>38</th>\n",
       "      <td>Population of the official age for tertiary education, both sexes (number)</td>\n",
       "    </tr>\n",
       "    <tr>\n",
       "      <th>39</th>\n",
       "      <td>Population of the official age for upper secondary education, both sexes (number)</td>\n",
       "    </tr>\n",
       "    <tr>\n",
       "      <th>40</th>\n",
       "      <td>Population of the official entrance age to secondary general education, both sexes (number)</td>\n",
       "    </tr>\n",
       "    <tr>\n",
       "      <th>41</th>\n",
       "      <td>Population, total</td>\n",
       "    </tr>\n",
       "    <tr>\n",
       "      <th>42</th>\n",
       "      <td>Prevalence of HIV, total (% of population ages 15-49)</td>\n",
       "    </tr>\n",
       "    <tr>\n",
       "      <th>43</th>\n",
       "      <td>School life expectancy, secondary, both sexes (years)</td>\n",
       "    </tr>\n",
       "    <tr>\n",
       "      <th>44</th>\n",
       "      <td>Theoretical duration of lower secondary education (years)</td>\n",
       "    </tr>\n",
       "    <tr>\n",
       "      <th>45</th>\n",
       "      <td>Theoretical duration of post-secondary non-tertiary education (years)</td>\n",
       "    </tr>\n",
       "    <tr>\n",
       "      <th>46</th>\n",
       "      <td>Theoretical duration of secondary education (years)</td>\n",
       "    </tr>\n",
       "    <tr>\n",
       "      <th>47</th>\n",
       "      <td>Theoretical duration of upper secondary education (years)</td>\n",
       "    </tr>\n",
       "    <tr>\n",
       "      <th>48</th>\n",
       "      <td>Total outbound internationally mobile tertiary students studying abroad, all countries, both sexes (number)</td>\n",
       "    </tr>\n",
       "    <tr>\n",
       "      <th>49</th>\n",
       "      <td>Unemployment, total (% of total labor force)</td>\n",
       "    </tr>\n",
       "    <tr>\n",
       "      <th>50</th>\n",
       "      <td>Region</td>\n",
       "    </tr>\n",
       "    <tr>\n",
       "      <th>51</th>\n",
       "      <td>Income Group</td>\n",
       "    </tr>\n",
       "    <tr>\n",
       "      <th>52</th>\n",
       "      <td>Languages</td>\n",
       "    </tr>\n",
       "  </tbody>\n",
       "</table>\n",
       "</div>"
      ],
      "text/plain": [
       "                                                                                                     Indicators\n",
       "0                                                                                                  Country Name\n",
       "1                                                                                                  Country Code\n",
       "2                                                                                                          Year\n",
       "3                                                                      Duration of compulsory education (years)\n",
       "4                                                   Enrolment in lower secondary education, both sexes (number)\n",
       "5                              Enrolment in lower secondary education, public institutions, both sexes (number)\n",
       "6                                                     Enrolment in lower secondary general, both sexes (number)\n",
       "7                                                         Enrolment in secondary education, both sexes (number)\n",
       "8                                                           Enrolment in secondary general, both sexes (number)\n",
       "9                                                        Enrolment in secondary vocational, both sexes (number)\n",
       "10                                         Enrolment in tertiary education, all programmes, both sexes (number)\n",
       "11                                                  Enrolment in upper secondary education, both sexes (number)\n",
       "12                             Enrolment in upper secondary education, public institutions, both sexes (number)\n",
       "13                                                    Enrolment in upper secondary general, both sexes (number)\n",
       "14                                                                           GDP at market prices (current US$)\n",
       "15                                                                                 GDP per capita (current US$)\n",
       "16                                                       Gross enrolment ratio, lower secondary, both sexes (%)\n",
       "17                                                             Gross enrolment ratio, secondary, both sexes (%)\n",
       "18                                                              Gross enrolment ratio, tertiary, both sexes (%)\n",
       "19                                                       Gross enrolment ratio, upper secondary, both sexes (%)\n",
       "20                                                  Gross outbound enrolment ratio, all regions, both sexes (%)\n",
       "21                                                                              Internet users (per 100 people)\n",
       "22                                                                                           Labor force, total\n",
       "23                                                                          Mortality rate, under-5 (per 1,000)\n",
       "24                                                        Official entrance age to compulsory education (years)\n",
       "25                                                   Official entrance age to lower secondary education (years)\n",
       "26                                       Official entrance age to post-secondary non-tertiary education (years)\n",
       "27                                                   Official entrance age to upper secondary education (years)\n",
       "28                                   Percentage of enrolment in secondary education in private institutions (%)\n",
       "29           Percentage of students in lower secondary education enrolled in general programmes, both sexes (%)\n",
       "30                 Percentage of students in secondary education enrolled in general programmes, both sexes (%)\n",
       "31              Percentage of students in secondary education enrolled in vocational programmes, both sexes (%)\n",
       "32           Percentage of students in upper secondary education enrolled in general programmes, both sexes (%)\n",
       "33                                                                                 Population growth (annual %)\n",
       "34                                                     Population of compulsory school age, both sexes (number)\n",
       "35                            Population of the official age for lower secondary education, both sexes (number)\n",
       "36                Population of the official age for post-secondary non-tertiary education, both sexes (number)\n",
       "37                                  Population of the official age for secondary education, both sexes (number)\n",
       "38                                   Population of the official age for tertiary education, both sexes (number)\n",
       "39                            Population of the official age for upper secondary education, both sexes (number)\n",
       "40                  Population of the official entrance age to secondary general education, both sexes (number)\n",
       "41                                                                                            Population, total\n",
       "42                                                        Prevalence of HIV, total (% of population ages 15-49)\n",
       "43                                                        School life expectancy, secondary, both sexes (years)\n",
       "44                                                    Theoretical duration of lower secondary education (years)\n",
       "45                                        Theoretical duration of post-secondary non-tertiary education (years)\n",
       "46                                                          Theoretical duration of secondary education (years)\n",
       "47                                                    Theoretical duration of upper secondary education (years)\n",
       "48  Total outbound internationally mobile tertiary students studying abroad, all countries, both sexes (number)\n",
       "49                                                                 Unemployment, total (% of total labor force)\n",
       "50                                                                                                       Region\n",
       "51                                                                                                 Income Group\n",
       "52                                                                                                    Languages"
      ]
     },
     "execution_count": 78,
     "metadata": {},
     "output_type": "execute_result"
    }
   ],
   "source": [
    "pd.DataFrame(actuals_indicators, columns = ['Indicators'])"
   ]
  },
  {
   "cell_type": "code",
   "execution_count": 79,
   "id": "32d13306",
   "metadata": {},
   "outputs": [
    {
     "data": {
      "text/html": [
       "<div>\n",
       "<style scoped>\n",
       "    .dataframe tbody tr th:only-of-type {\n",
       "        vertical-align: middle;\n",
       "    }\n",
       "\n",
       "    .dataframe tbody tr th {\n",
       "        vertical-align: top;\n",
       "    }\n",
       "\n",
       "    .dataframe thead th {\n",
       "        text-align: right;\n",
       "    }\n",
       "</style>\n",
       "<table border=\"1\" class=\"dataframe\">\n",
       "  <thead>\n",
       "    <tr style=\"text-align: right;\">\n",
       "      <th></th>\n",
       "      <th>Indicators</th>\n",
       "    </tr>\n",
       "  </thead>\n",
       "  <tbody>\n",
       "    <tr>\n",
       "      <th>0</th>\n",
       "      <td>Country Name</td>\n",
       "    </tr>\n",
       "    <tr>\n",
       "      <th>1</th>\n",
       "      <td>Country Code</td>\n",
       "    </tr>\n",
       "    <tr>\n",
       "      <th>2</th>\n",
       "      <td>Year</td>\n",
       "    </tr>\n",
       "    <tr>\n",
       "      <th>3</th>\n",
       "      <td>Wittgenstein Projection: Population age 15-19 in thousands by highest level of educational attainment. Lower Secondary. Total</td>\n",
       "    </tr>\n",
       "    <tr>\n",
       "      <th>4</th>\n",
       "      <td>Wittgenstein Projection: Population age 15-19 in thousands by highest level of educational attainment. Post Secondary. Total</td>\n",
       "    </tr>\n",
       "    <tr>\n",
       "      <th>5</th>\n",
       "      <td>Wittgenstein Projection: Population age 15-19 in thousands by highest level of educational attainment. Upper Secondary. Total</td>\n",
       "    </tr>\n",
       "    <tr>\n",
       "      <th>6</th>\n",
       "      <td>Wittgenstein Projection: Population age 20-24 in thousands by highest level of educational attainment. Lower Secondary. Total</td>\n",
       "    </tr>\n",
       "    <tr>\n",
       "      <th>7</th>\n",
       "      <td>Wittgenstein Projection: Population age 20-24 in thousands by highest level of educational attainment. Post Secondary. Total</td>\n",
       "    </tr>\n",
       "    <tr>\n",
       "      <th>8</th>\n",
       "      <td>Wittgenstein Projection: Population age 20-24 in thousands by highest level of educational attainment. Upper Secondary. Total</td>\n",
       "    </tr>\n",
       "    <tr>\n",
       "      <th>9</th>\n",
       "      <td>Wittgenstein Projection: Population age 25-29 in thousands by highest level of educational attainment. Lower Secondary. Total</td>\n",
       "    </tr>\n",
       "    <tr>\n",
       "      <th>10</th>\n",
       "      <td>Wittgenstein Projection: Population age 25-29 in thousands by highest level of educational attainment. Post Secondary. Total</td>\n",
       "    </tr>\n",
       "    <tr>\n",
       "      <th>11</th>\n",
       "      <td>Wittgenstein Projection: Population age 25-29 in thousands by highest level of educational attainment. Upper Secondary. Total</td>\n",
       "    </tr>\n",
       "    <tr>\n",
       "      <th>12</th>\n",
       "      <td>Wittgenstein Projection: Population in thousands by highest level of educational attainment. Lower Secondary. Total</td>\n",
       "    </tr>\n",
       "    <tr>\n",
       "      <th>13</th>\n",
       "      <td>Wittgenstein Projection: Population in thousands by highest level of educational attainment. Post Secondary. Total</td>\n",
       "    </tr>\n",
       "    <tr>\n",
       "      <th>14</th>\n",
       "      <td>Wittgenstein Projection: Population in thousands by highest level of educational attainment. Upper Secondary. Total</td>\n",
       "    </tr>\n",
       "    <tr>\n",
       "      <th>15</th>\n",
       "      <td>Region</td>\n",
       "    </tr>\n",
       "    <tr>\n",
       "      <th>16</th>\n",
       "      <td>Income Group</td>\n",
       "    </tr>\n",
       "    <tr>\n",
       "      <th>17</th>\n",
       "      <td>Languages</td>\n",
       "    </tr>\n",
       "  </tbody>\n",
       "</table>\n",
       "</div>"
      ],
      "text/plain": [
       "                                                                                                                       Indicators\n",
       "0                                                                                                                    Country Name\n",
       "1                                                                                                                    Country Code\n",
       "2                                                                                                                            Year\n",
       "3   Wittgenstein Projection: Population age 15-19 in thousands by highest level of educational attainment. Lower Secondary. Total\n",
       "4    Wittgenstein Projection: Population age 15-19 in thousands by highest level of educational attainment. Post Secondary. Total\n",
       "5   Wittgenstein Projection: Population age 15-19 in thousands by highest level of educational attainment. Upper Secondary. Total\n",
       "6   Wittgenstein Projection: Population age 20-24 in thousands by highest level of educational attainment. Lower Secondary. Total\n",
       "7    Wittgenstein Projection: Population age 20-24 in thousands by highest level of educational attainment. Post Secondary. Total\n",
       "8   Wittgenstein Projection: Population age 20-24 in thousands by highest level of educational attainment. Upper Secondary. Total\n",
       "9   Wittgenstein Projection: Population age 25-29 in thousands by highest level of educational attainment. Lower Secondary. Total\n",
       "10   Wittgenstein Projection: Population age 25-29 in thousands by highest level of educational attainment. Post Secondary. Total\n",
       "11  Wittgenstein Projection: Population age 25-29 in thousands by highest level of educational attainment. Upper Secondary. Total\n",
       "12            Wittgenstein Projection: Population in thousands by highest level of educational attainment. Lower Secondary. Total\n",
       "13             Wittgenstein Projection: Population in thousands by highest level of educational attainment. Post Secondary. Total\n",
       "14            Wittgenstein Projection: Population in thousands by highest level of educational attainment. Upper Secondary. Total\n",
       "15                                                                                                                         Region\n",
       "16                                                                                                                   Income Group\n",
       "17                                                                                                                      Languages"
      ]
     },
     "execution_count": 79,
     "metadata": {},
     "output_type": "execute_result"
    }
   ],
   "source": [
    "pd.DataFrame(forecasts_indicators, columns = ['Indicators'])"
   ]
  },
  {
   "cell_type": "markdown",
   "id": "cfb887c0-6afb-419a-b971-1cebb8b89da4",
   "metadata": {},
   "source": [
    "Sur la base de ce premier filtre, nous pouvons désormais sélectionner une liste d'indicateurs qui pourront être utiles pour estimer l'opportunité dans chacun des pays.\n",
    "\n",
    "Pour ce faire, nous proposons de retenir les indicateurs suivants \n",
    "- Indicateurs d'identification : Nom du pays, code pays, région, zone économique\n",
    "- Langues parlées, afin d'étudier si une approche par langue est possible\n",
    "- Année de l'observation\n",
    "- PIB (en US\\\\$ courants), Population totale, PIB par habitant (en US\\\\$ courants), afin d'affiner le type d'approche possible pour chaque pays retenu\n",
    "- Nombre d'utilisateurs d'internet pour 100 habitants, pour estimer le marché potentiel pour notre service en ligne\n",
    "- Nombre d'élèves du secondaire, pour estimer le marché potentiel total sur ce segment\n",
    "- Nombre d'élèves du tertiaire, pour estimer le marché potentiel total sur ce segment\n",
    "- Données prospectives en nombre, couvrant la population entre 15 et 29 ans et estimant leur niveau maximal d'étude atteint entre secondaire et tertiaire, afin d'essayer de construire des projections du nombre d'élèves"
   ]
  },
  {
   "cell_type": "markdown",
   "id": "dcbaa8f7-17ea-4eab-a6d4-c257912fb41d",
   "metadata": {},
   "source": [
    "Nous pouvons dans un premier temps observer une matrice de corrélation entre les indicateurs identifiés pour les années passées."
   ]
  },
  {
   "cell_type": "code",
   "execution_count": 80,
   "id": "e0699a2b-80ef-44b3-97ed-147d383b3a51",
   "metadata": {},
   "outputs": [
    {
     "data": {
      "image/png": "[encoded data removed]",
      "text/plain": [
       "<Figure size 720x720 with 2 Axes>"
      ]
     },
     "metadata": {
      "needs_background": "light"
     },
     "output_type": "display_data"
    }
   ],
   "source": [
    "EdStatsData_corr = EdStatsData.loc[EdStatsData['Year'] <= max_actuals,actuals_indicators].corr()\n",
    "\n",
    "fig, ax = plt.subplots(figsize = (10,10))\n",
    "\n",
    "sns.heatmap(\n",
    "    data = EdStatsData_corr,\n",
    "    cmap = \"coolwarm\",\n",
    "    center = 0)\n",
    "\n",
    "plt.show()"
   ]
  },
  {
   "cell_type": "code",
   "execution_count": 81,
   "id": "7a1bb208",
   "metadata": {},
   "outputs": [],
   "source": [
    "country_indicators = actuals_indicators[[0,1,-3,-2,-1,2]].tolist()\n",
    "actuals_indicators = actuals_indicators[[14,41,15,21,7,10]].tolist()\n",
    "forecasts_indicators = forecasts_indicators[[3,5,8,4,7,10]].tolist()\n",
    "indicators_retained = country_indicators + actuals_indicators + forecasts_indicators"
   ]
  },
  {
   "cell_type": "code",
   "execution_count": 82,
   "id": "110d112b-a5b5-4512-8112-fa1659a4cfc5",
   "metadata": {},
   "outputs": [
    {
     "data": {
      "text/markdown": [
       "Nous retenons donc les indicateurs suivants:"
      ],
      "text/plain": [
       "<IPython.core.display.Markdown object>"
      ]
     },
     "metadata": {},
     "output_type": "display_data"
    },
    {
     "data": {
      "text/markdown": [
       "- Country Name"
      ],
      "text/plain": [
       "<IPython.core.display.Markdown object>"
      ]
     },
     "metadata": {},
     "output_type": "display_data"
    },
    {
     "data": {
      "text/markdown": [
       "- Country Code"
      ],
      "text/plain": [
       "<IPython.core.display.Markdown object>"
      ]
     },
     "metadata": {},
     "output_type": "display_data"
    },
    {
     "data": {
      "text/markdown": [
       "- Region"
      ],
      "text/plain": [
       "<IPython.core.display.Markdown object>"
      ]
     },
     "metadata": {},
     "output_type": "display_data"
    },
    {
     "data": {
      "text/markdown": [
       "- Income Group"
      ],
      "text/plain": [
       "<IPython.core.display.Markdown object>"
      ]
     },
     "metadata": {},
     "output_type": "display_data"
    },
    {
     "data": {
      "text/markdown": [
       "- Languages"
      ],
      "text/plain": [
       "<IPython.core.display.Markdown object>"
      ]
     },
     "metadata": {},
     "output_type": "display_data"
    },
    {
     "data": {
      "text/markdown": [
       "- Year"
      ],
      "text/plain": [
       "<IPython.core.display.Markdown object>"
      ]
     },
     "metadata": {},
     "output_type": "display_data"
    },
    {
     "data": {
      "text/markdown": [
       "- GDP at market prices (current US$)"
      ],
      "text/plain": [
       "<IPython.core.display.Markdown object>"
      ]
     },
     "metadata": {},
     "output_type": "display_data"
    },
    {
     "data": {
      "text/markdown": [
       "- Population, total"
      ],
      "text/plain": [
       "<IPython.core.display.Markdown object>"
      ]
     },
     "metadata": {},
     "output_type": "display_data"
    },
    {
     "data": {
      "text/markdown": [
       "- GDP per capita (current US$)"
      ],
      "text/plain": [
       "<IPython.core.display.Markdown object>"
      ]
     },
     "metadata": {},
     "output_type": "display_data"
    },
    {
     "data": {
      "text/markdown": [
       "- Internet users (per 100 people)"
      ],
      "text/plain": [
       "<IPython.core.display.Markdown object>"
      ]
     },
     "metadata": {},
     "output_type": "display_data"
    },
    {
     "data": {
      "text/markdown": [
       "- Enrolment in secondary education, both sexes (number)"
      ],
      "text/plain": [
       "<IPython.core.display.Markdown object>"
      ]
     },
     "metadata": {},
     "output_type": "display_data"
    },
    {
     "data": {
      "text/markdown": [
       "- Enrolment in tertiary education, all programmes, both sexes (number)"
      ],
      "text/plain": [
       "<IPython.core.display.Markdown object>"
      ]
     },
     "metadata": {},
     "output_type": "display_data"
    },
    {
     "data": {
      "text/markdown": [
       "- Wittgenstein Projection: Population age 15-19 in thousands by highest level of educational attainment. Lower Secondary. Total"
      ],
      "text/plain": [
       "<IPython.core.display.Markdown object>"
      ]
     },
     "metadata": {},
     "output_type": "display_data"
    },
    {
     "data": {
      "text/markdown": [
       "- Wittgenstein Projection: Population age 15-19 in thousands by highest level of educational attainment. Upper Secondary. Total"
      ],
      "text/plain": [
       "<IPython.core.display.Markdown object>"
      ]
     },
     "metadata": {},
     "output_type": "display_data"
    },
    {
     "data": {
      "text/markdown": [
       "- Wittgenstein Projection: Population age 20-24 in thousands by highest level of educational attainment. Upper Secondary. Total"
      ],
      "text/plain": [
       "<IPython.core.display.Markdown object>"
      ]
     },
     "metadata": {},
     "output_type": "display_data"
    },
    {
     "data": {
      "text/markdown": [
       "- Wittgenstein Projection: Population age 15-19 in thousands by highest level of educational attainment. Post Secondary. Total"
      ],
      "text/plain": [
       "<IPython.core.display.Markdown object>"
      ]
     },
     "metadata": {},
     "output_type": "display_data"
    },
    {
     "data": {
      "text/markdown": [
       "- Wittgenstein Projection: Population age 20-24 in thousands by highest level of educational attainment. Post Secondary. Total"
      ],
      "text/plain": [
       "<IPython.core.display.Markdown object>"
      ]
     },
     "metadata": {},
     "output_type": "display_data"
    },
    {
     "data": {
      "text/markdown": [
       "- Wittgenstein Projection: Population age 25-29 in thousands by highest level of educational attainment. Post Secondary. Total"
      ],
      "text/plain": [
       "<IPython.core.display.Markdown object>"
      ]
     },
     "metadata": {},
     "output_type": "display_data"
    }
   ],
   "source": [
    "display(Markdown(f\"Nous retenons donc les indicateurs suivants:\"))\n",
    "for indicator in indicators_retained:\n",
    "    display(Markdown(f\"- {indicator}\"))"
   ]
  },
  {
   "cell_type": "markdown",
   "id": "652bc76a",
   "metadata": {},
   "source": [
    "Nous pouvons maintenant revoir notre base de données en ne conservant que les colonnes contenant les indicateurs retenus."
   ]
  },
  {
   "cell_type": "code",
   "execution_count": 83,
   "id": "843da236",
   "metadata": {},
   "outputs": [],
   "source": [
    "EdStatsData = EdStatsData.loc[:, indicators_retained].reset_index(drop = True)"
   ]
  },
  {
   "cell_type": "code",
   "execution_count": 84,
   "id": "3ef1b825",
   "metadata": {},
   "outputs": [],
   "source": [
    "pd.set_option('display.max_rows', 15)\n",
    "pd.set_option('display.max_colwidth', 15)"
   ]
  },
  {
   "cell_type": "code",
   "execution_count": 85,
   "id": "c3789724-3f04-40ca-8138-ddc36cbed1ae",
   "metadata": {},
   "outputs": [
    {
     "data": {
      "text/html": [
       "<div>\n",
       "<style scoped>\n",
       "    .dataframe tbody tr th:only-of-type {\n",
       "        vertical-align: middle;\n",
       "    }\n",
       "\n",
       "    .dataframe tbody tr th {\n",
       "        vertical-align: top;\n",
       "    }\n",
       "\n",
       "    .dataframe thead th {\n",
       "        text-align: right;\n",
       "    }\n",
       "</style>\n",
       "<table border=\"1\" class=\"dataframe\">\n",
       "  <thead>\n",
       "    <tr style=\"text-align: right;\">\n",
       "      <th></th>\n",
       "      <th>Country Name</th>\n",
       "      <th>Country Code</th>\n",
       "      <th>Region</th>\n",
       "      <th>Income Group</th>\n",
       "      <th>Languages</th>\n",
       "      <th>Year</th>\n",
       "      <th>GDP at market prices (current US$)</th>\n",
       "      <th>Population, total</th>\n",
       "      <th>GDP per capita (current US$)</th>\n",
       "      <th>Internet users (per 100 people)</th>\n",
       "      <th>Enrolment in secondary education, both sexes (number)</th>\n",
       "      <th>Enrolment in tertiary education, all programmes, both sexes (number)</th>\n",
       "      <th>Wittgenstein Projection: Population age 15-19 in thousands by highest level of educational attainment. Lower Secondary. Total</th>\n",
       "      <th>Wittgenstein Projection: Population age 15-19 in thousands by highest level of educational attainment. Upper Secondary. Total</th>\n",
       "      <th>Wittgenstein Projection: Population age 20-24 in thousands by highest level of educational attainment. Upper Secondary. Total</th>\n",
       "      <th>Wittgenstein Projection: Population age 15-19 in thousands by highest level of educational attainment. Post Secondary. Total</th>\n",
       "      <th>Wittgenstein Projection: Population age 20-24 in thousands by highest level of educational attainment. Post Secondary. Total</th>\n",
       "      <th>Wittgenstein Projection: Population age 25-29 in thousands by highest level of educational attainment. Post Secondary. Total</th>\n",
       "    </tr>\n",
       "  </thead>\n",
       "  <tbody>\n",
       "    <tr>\n",
       "      <th>0</th>\n",
       "      <td>Albania</td>\n",
       "      <td>ALB</td>\n",
       "      <td>Europe &amp; Ce...</td>\n",
       "      <td>Upper middl...</td>\n",
       "      <td>Albanian 98...</td>\n",
       "      <td>2000</td>\n",
       "      <td>3.632044e+09</td>\n",
       "      <td>3089027.0</td>\n",
       "      <td>1175.788981</td>\n",
       "      <td>0.114097</td>\n",
       "      <td>365664.0</td>\n",
       "      <td>40125.0</td>\n",
       "      <td>NaN</td>\n",
       "      <td>NaN</td>\n",
       "      <td>NaN</td>\n",
       "      <td>NaN</td>\n",
       "      <td>NaN</td>\n",
       "      <td>NaN</td>\n",
       "    </tr>\n",
       "    <tr>\n",
       "      <th>1</th>\n",
       "      <td>Albania</td>\n",
       "      <td>ALB</td>\n",
       "      <td>Europe &amp; Ce...</td>\n",
       "      <td>Upper middl...</td>\n",
       "      <td>Albanian 98...</td>\n",
       "      <td>2001</td>\n",
       "      <td>4.060759e+09</td>\n",
       "      <td>3060173.0</td>\n",
       "      <td>1326.970339</td>\n",
       "      <td>0.325798</td>\n",
       "      <td>377936.0</td>\n",
       "      <td>40859.0</td>\n",
       "      <td>NaN</td>\n",
       "      <td>NaN</td>\n",
       "      <td>NaN</td>\n",
       "      <td>NaN</td>\n",
       "      <td>NaN</td>\n",
       "      <td>NaN</td>\n",
       "    </tr>\n",
       "    <tr>\n",
       "      <th>2</th>\n",
       "      <td>Albania</td>\n",
       "      <td>ALB</td>\n",
       "      <td>Europe &amp; Ce...</td>\n",
       "      <td>Upper middl...</td>\n",
       "      <td>Albanian 98...</td>\n",
       "      <td>2002</td>\n",
       "      <td>4.435079e+09</td>\n",
       "      <td>3051010.0</td>\n",
       "      <td>1453.642777</td>\n",
       "      <td>0.390081</td>\n",
       "      <td>382205.0</td>\n",
       "      <td>42160.0</td>\n",
       "      <td>NaN</td>\n",
       "      <td>NaN</td>\n",
       "      <td>NaN</td>\n",
       "      <td>NaN</td>\n",
       "      <td>NaN</td>\n",
       "      <td>NaN</td>\n",
       "    </tr>\n",
       "    <tr>\n",
       "      <th>3</th>\n",
       "      <td>Albania</td>\n",
       "      <td>ALB</td>\n",
       "      <td>Europe &amp; Ce...</td>\n",
       "      <td>Upper middl...</td>\n",
       "      <td>Albanian 98...</td>\n",
       "      <td>2003</td>\n",
       "      <td>5.746946e+09</td>\n",
       "      <td>3039616.0</td>\n",
       "      <td>1890.681557</td>\n",
       "      <td>0.971900</td>\n",
       "      <td>396095.0</td>\n",
       "      <td>43600.0</td>\n",
       "      <td>NaN</td>\n",
       "      <td>NaN</td>\n",
       "      <td>NaN</td>\n",
       "      <td>NaN</td>\n",
       "      <td>NaN</td>\n",
       "      <td>NaN</td>\n",
       "    </tr>\n",
       "    <tr>\n",
       "      <th>4</th>\n",
       "      <td>Albania</td>\n",
       "      <td>ALB</td>\n",
       "      <td>Europe &amp; Ce...</td>\n",
       "      <td>Upper middl...</td>\n",
       "      <td>Albanian 98...</td>\n",
       "      <td>2004</td>\n",
       "      <td>7.314865e+09</td>\n",
       "      <td>3026939.0</td>\n",
       "      <td>2416.588235</td>\n",
       "      <td>2.420388</td>\n",
       "      <td>393503.0</td>\n",
       "      <td>53014.0</td>\n",
       "      <td>NaN</td>\n",
       "      <td>NaN</td>\n",
       "      <td>NaN</td>\n",
       "      <td>NaN</td>\n",
       "      <td>NaN</td>\n",
       "      <td>NaN</td>\n",
       "    </tr>\n",
       "  </tbody>\n",
       "</table>\n",
       "</div>"
      ],
      "text/plain": [
       "  Country Name Country Code          Region    Income Group       Languages  \\\n",
       "0      Albania          ALB  Europe & Ce...  Upper middl...  Albanian 98...   \n",
       "1      Albania          ALB  Europe & Ce...  Upper middl...  Albanian 98...   \n",
       "2      Albania          ALB  Europe & Ce...  Upper middl...  Albanian 98...   \n",
       "3      Albania          ALB  Europe & Ce...  Upper middl...  Albanian 98...   \n",
       "4      Albania          ALB  Europe & Ce...  Upper middl...  Albanian 98...   \n",
       "\n",
       "   Year  GDP at market prices (current US$)  Population, total  \\\n",
       "0  2000    3.632044e+09                           3089027.0      \n",
       "1  2001    4.060759e+09                           3060173.0      \n",
       "2  2002    4.435079e+09                           3051010.0      \n",
       "3  2003    5.746946e+09                           3039616.0      \n",
       "4  2004    7.314865e+09                           3026939.0      \n",
       "\n",
       "   GDP per capita (current US$)  Internet users (per 100 people)  \\\n",
       "0     1175.788981                      0.114097                    \n",
       "1     1326.970339                      0.325798                    \n",
       "2     1453.642777                      0.390081                    \n",
       "3     1890.681557                      0.971900                    \n",
       "4     2416.588235                      2.420388                    \n",
       "\n",
       "   Enrolment in secondary education, both sexes (number)  \\\n",
       "0        365664.0                                          \n",
       "1        377936.0                                          \n",
       "2        382205.0                                          \n",
       "3        396095.0                                          \n",
       "4        393503.0                                          \n",
       "\n",
       "   Enrolment in tertiary education, all programmes, both sexes (number)  \\\n",
       "0         40125.0                                                         \n",
       "1         40859.0                                                         \n",
       "2         42160.0                                                         \n",
       "3         43600.0                                                         \n",
       "4         53014.0                                                         \n",
       "\n",
       "   Wittgenstein Projection: Population age 15-19 in thousands by highest level of educational attainment. Lower Secondary. Total  \\\n",
       "0             NaN                                                                                                                  \n",
       "1             NaN                                                                                                                  \n",
       "2             NaN                                                                                                                  \n",
       "3             NaN                                                                                                                  \n",
       "4             NaN                                                                                                                  \n",
       "\n",
       "   Wittgenstein Projection: Population age 15-19 in thousands by highest level of educational attainment. Upper Secondary. Total  \\\n",
       "0             NaN                                                                                                                  \n",
       "1             NaN                                                                                                                  \n",
       "2             NaN                                                                                                                  \n",
       "3             NaN                                                                                                                  \n",
       "4             NaN                                                                                                                  \n",
       "\n",
       "   Wittgenstein Projection: Population age 20-24 in thousands by highest level of educational attainment. Upper Secondary. Total  \\\n",
       "0             NaN                                                                                                                  \n",
       "1             NaN                                                                                                                  \n",
       "2             NaN                                                                                                                  \n",
       "3             NaN                                                                                                                  \n",
       "4             NaN                                                                                                                  \n",
       "\n",
       "   Wittgenstein Projection: Population age 15-19 in thousands by highest level of educational attainment. Post Secondary. Total  \\\n",
       "0             NaN                                                                                                                 \n",
       "1             NaN                                                                                                                 \n",
       "2             NaN                                                                                                                 \n",
       "3             NaN                                                                                                                 \n",
       "4             NaN                                                                                                                 \n",
       "\n",
       "   Wittgenstein Projection: Population age 20-24 in thousands by highest level of educational attainment. Post Secondary. Total  \\\n",
       "0             NaN                                                                                                                 \n",
       "1             NaN                                                                                                                 \n",
       "2             NaN                                                                                                                 \n",
       "3             NaN                                                                                                                 \n",
       "4             NaN                                                                                                                 \n",
       "\n",
       "   Wittgenstein Projection: Population age 25-29 in thousands by highest level of educational attainment. Post Secondary. Total  \n",
       "0             NaN                                                                                                                \n",
       "1             NaN                                                                                                                \n",
       "2             NaN                                                                                                                \n",
       "3             NaN                                                                                                                \n",
       "4             NaN                                                                                                                "
      ]
     },
     "execution_count": 85,
     "metadata": {},
     "output_type": "execute_result"
    }
   ],
   "source": [
    "EdStatsData.head()"
   ]
  },
  {
   "cell_type": "code",
   "execution_count": 86,
   "id": "03b7be87-b141-4a40-8135-b525261427f3",
   "metadata": {},
   "outputs": [
    {
     "data": {
      "text/plain": [
       "(3843, 18)"
      ]
     },
     "execution_count": 86,
     "metadata": {},
     "output_type": "execute_result"
    }
   ],
   "source": [
    "EdStatsData.shape"
   ]
  },
  {
   "cell_type": "markdown",
   "id": "d8991942-b864-4077-8e44-bba75fe6d2cf",
   "metadata": {},
   "source": [
    "## Sélection d'un indicateur clé"
   ]
  },
  {
   "cell_type": "markdown",
   "id": "a8625a15-ce08-49e2-b2ff-9952260d55ef",
   "metadata": {},
   "source": [
    "Nous avons retenu deux indicateurs centraux que nous estimons être les plus importants pour la première étape d'estimation du potentiel du marché. Ces indicateurs sont:\n",
    "- Le nombre d'élèves inscrits au secondaire\n",
    "- Le nombre d'élèves inscrits au tertiaire\n",
    "\n",
    "Néanmoins, il est possible qu'un de ces deux indicateurs soit plus complet que l'autre."
   ]
  },
  {
   "cell_type": "code",
   "execution_count": 87,
   "id": "81995aea-b125-4c22-8024-845f4c232ab7",
   "metadata": {},
   "outputs": [],
   "source": [
    "indicator_secondary = 'Enrolment in secondary education, both sexes (number)'\n",
    "indicator_tertiary = 'Enrolment in tertiary education, all programmes, both sexes (number)'"
   ]
  },
  {
   "cell_type": "code",
   "execution_count": 88,
   "id": "a5adb4ee-17b8-4b85-9cbc-a5d8c9ef98a1",
   "metadata": {},
   "outputs": [
    {
     "data": {
      "text/plain": [
       "Enrolment in secondary education, both sexes (number)                   1789\n",
       "Enrolment in tertiary education, all programmes, both sexes (number)    2036\n",
       "dtype: int64"
      ]
     },
     "execution_count": 88,
     "metadata": {},
     "output_type": "execute_result"
    }
   ],
   "source": [
    "EdStatsData.loc[:,[indicator_secondary, indicator_tertiary]].isna().sum()"
   ]
  },
  {
   "cell_type": "markdown",
   "id": "fae81d2d-6bed-481a-8916-8f6ecbbb41b5",
   "metadata": {},
   "source": [
    "On peut voir que l'indicateur donnant le nombre d'élèves inscrits au secondaire contient moins de données manquantes que celui donnant le nombre d'élèves inscrits dans un parcours tertiaire.\n",
    "\n",
    "Cependant, il est probable que ces deux indicateurs soient corrélés : en effet, il est probable qu'un pays qui contient beaucoup d'élèves de secondaire ait aussi une forte population scolarisée dans le tertiaire. Si cela était le cas, nous pourrions nous baser sur le premier indicateur pour définir notre stratégie géographique. Pour étudier cela, nous allons dans un premier temps présenter les deux données dans un nuage de points, afin d'observer la forme générale de la relation entre ces indicateurs, avant d'étudier plus en détail la corrélation entre les données au travers des coefficients de Pearson et Spearman."
   ]
  },
  {
   "cell_type": "code",
   "execution_count": 89,
   "id": "74623abf-2e0b-4f5f-aae1-4d4fcec6e88a",
   "metadata": {},
   "outputs": [
    {
     "data": {
      "image/png": "[encoded data removed]",
      "text/plain": [
       "<Figure size 1008x450 with 1 Axes>"
      ]
     },
     "metadata": {
      "needs_background": "light"
     },
     "output_type": "display_data"
    }
   ],
   "source": [
    "fig, ax = plt.subplots(figsize = (14,6.25))\n",
    "\n",
    "sns.scatterplot(\n",
    "    data = EdStatsData,\n",
    "    x = indicator_secondary,\n",
    "    y = indicator_tertiary\n",
    ")\n",
    "\n",
    "ax.set_xscale('log', base = 10)\n",
    "ax.set_yscale('log', base = 10)\n",
    "\n",
    "ax.set_title(\n",
    "    \"Comparaison du nombre d'étudiants inscrits au secondaire et au tertiaire\",\n",
    "    fontsize = 15,\n",
    "    pad = 25\n",
    ")\n",
    "ax.set_xlabel(\n",
    "    \"Nombre d'étudiants inscrits au secondaire (log10)\"\n",
    ")\n",
    "ax.set_ylabel(\n",
    "    \"Nombre d'étudiants inscrits au tertiaire (log10)\"\n",
    ")\n",
    "\n",
    "plt.savefig(\"figures/correlation.png\", format = 'png')\n",
    "\n",
    "plt.show()"
   ]
  },
  {
   "cell_type": "code",
   "execution_count": 90,
   "id": "020e23db-2c4e-4477-a872-a634fbc6231e",
   "metadata": {},
   "outputs": [],
   "source": [
    "EdStatsData_corr = EdStatsData.dropna(axis = 0, subset = [indicator_secondary, indicator_tertiary])"
   ]
  },
  {
   "cell_type": "code",
   "execution_count": 91,
   "id": "9cf7cef0-e6ea-47c0-8ca8-6ae9f902633c",
   "metadata": {},
   "outputs": [
    {
     "data": {
      "text/markdown": [
       "On peut voir que ces deux indicateurs sont largement corrélés, tant en approche Pearson que Spearman, avec:"
      ],
      "text/plain": [
       "<IPython.core.display.Markdown object>"
      ]
     },
     "metadata": {},
     "output_type": "display_data"
    },
    {
     "data": {
      "text/markdown": [
       "- Pearson: R = 0.88, pour une p-value de l'hypothèse nulle de 0.00"
      ],
      "text/plain": [
       "<IPython.core.display.Markdown object>"
      ]
     },
     "metadata": {},
     "output_type": "display_data"
    },
    {
     "data": {
      "text/markdown": [
       "- Spearman: R = 0.93, pour une p-value de l'hypothèse nulle de 0.00"
      ],
      "text/plain": [
       "<IPython.core.display.Markdown object>"
      ]
     },
     "metadata": {},
     "output_type": "display_data"
    }
   ],
   "source": [
    "display(Markdown(f\"On peut voir que ces deux indicateurs sont largement corrélés, tant en approche Pearson que Spearman, avec:\"))\n",
    "display(Markdown(f\"- Pearson: R = {pearsonr(EdStatsData_corr[indicator_secondary], y = EdStatsData_corr[indicator_tertiary])[0]:.2f}, pour une p-value de l'hypothèse nulle de {pearsonr(EdStatsData_corr[indicator_secondary], y = EdStatsData_corr[indicator_tertiary])[1]:.2f}\"))\n",
    "display(Markdown(f\"- Spearman: R = {spearmanr(EdStatsData_corr[indicator_secondary], b = EdStatsData_corr[indicator_tertiary])[0]:.2f}, pour une p-value de l'hypothèse nulle de {spearmanr(EdStatsData_corr[indicator_secondary], b = EdStatsData_corr[indicator_tertiary])[1]:.2f}\"))"
   ]
  },
  {
   "cell_type": "code",
   "execution_count": 92,
   "id": "3456cfcd-8fc4-4ca2-97a7-b18a29aab171",
   "metadata": {},
   "outputs": [],
   "source": [
    "indicator_main = \"Enrolment in secondary education, both sexes (number)\""
   ]
  },
  {
   "cell_type": "markdown",
   "id": "18eb36a6-e9be-423b-a8fe-63c704a85566",
   "metadata": {
    "tags": []
   },
   "source": [
    "Pour la suite de notre analyse, nous allons utiliser principalement l'indicateur parmi ces deux contenant la donnée la plus complète : le nombre d'élèves en secondaire dans chaque pays, en considérant que les pays pour lesquels cet indicateur est le plus élevé seront aussi les pays qui ont le plus d'élèves inscrits dans des parcours du tertiaire."
   ]
  },
  {
   "cell_type": "markdown",
   "id": "0298a0f4-8f18-4483-bdc9-a6555ee50bd1",
   "metadata": {},
   "source": [
    "Bien que tous les indicateurs retenus soient complétés à au moins 50% (valeurs réelles) ou 70% (valeurs projetées), il est probable que certains pays ne soient pas aussi complets que d'autres. Afin d'utiliser une donnée aussi fiable que possible sur la durée pour notre analyse, nous allons retirer les pays pour lesquels plus d'un certain ratio des données sont manquantes, sur notre indicateur principal."
   ]
  },
  {
   "cell_type": "code",
   "execution_count": 93,
   "id": "2e4908d3-9b91-493a-9184-d5ab826e8157",
   "metadata": {},
   "outputs": [],
   "source": [
    "def country_na_remove(data, identifier, filter_indicator, na_thresh):\n",
    "    \n",
    "    '''\n",
    "    Fonction dont le but est de renvoyer une liste de pays d'un DataFrame qui contiennent un ratio d'éléments NaN supérieur à une limite donnée.\n",
    "    \n",
    "    Paramètres\n",
    "    ----------\n",
    "    data = DataFrame sur lequel la fonction s'appliquera\n",
    "    identifier = nom de colonne contenant la catégorisation souhaitée (noms de pays)\n",
    "    filter_indicator = nom de colonne contenant l'indicateur sur lequel le filtre doit s'appliquer\n",
    "    na_thresh = ratio maximal de NaN souhaité par pays, sur l'indicateur choisi\n",
    "    \n",
    "    Résultat\n",
    "    --------\n",
    "    List contenant les noms de pays dont le ratio de NaN est supérieur à na_thresh\n",
    "    \n",
    "    '''\n",
    "    \n",
    "    country_na = data.groupby(identifier).count().rsub(EdStatsData.groupby(identifier).size(), axis=0)\n",
    "    country_size = EdStatsData.groupby(identifier).size()\n",
    "    \n",
    "    countries = []\n",
    "\n",
    "    country_na = country_na.loc[:,filter_indicator]\n",
    "\n",
    "    for country in country_na.index:\n",
    "        if country_na.loc[country] > (1-na_thresh) * country_size[country]:\n",
    "            countries.append(country)\n",
    "    \n",
    "    return countries"
   ]
  },
  {
   "cell_type": "code",
   "execution_count": 94,
   "id": "f934a79c-915b-4855-8666-ce061bf67302",
   "metadata": {},
   "outputs": [
    {
     "name": "stdout",
     "output_type": "stream",
     "text": [
      "0.1: 24\n",
      "0.2: 33\n",
      "0.3: 39\n",
      "0.4: 46\n",
      "0.5: 62\n",
      "0.6: 71\n",
      "0.7: 105\n",
      "0.8: 183\n",
      "0.9: 183\n"
     ]
    }
   ],
   "source": [
    "for thresh in np.arange(0.1,1.0,0.1):\n",
    "    print(f\"{thresh:.1f}: {len(country_na_remove(EdStatsData, 'Country Name', indicator_main, thresh))}\")"
   ]
  },
  {
   "cell_type": "code",
   "execution_count": 95,
   "id": "3315eaa1-9916-4e56-8a57-3a63bfe2c239",
   "metadata": {},
   "outputs": [
    {
     "data": {
      "text/plain": [
       "45.75"
      ]
     },
     "execution_count": 95,
     "metadata": {},
     "output_type": "execute_result"
    }
   ],
   "source": [
    "EdStatsData['Country Name'].nunique()*0.25"
   ]
  },
  {
   "cell_type": "markdown",
   "id": "f661deba-51c9-41c7-a014-eba714b36640",
   "metadata": {},
   "source": [
    "Nous allons fixer le ratio de données manquantes à 40%, permettant de retirer environ un quart des pays, ceux pour lesquels la donnée est la moins complète, de notre base de données."
   ]
  },
  {
   "cell_type": "code",
   "execution_count": 96,
   "id": "b0af4d1d-e9cd-4271-a60b-72588c9e3fb9",
   "metadata": {},
   "outputs": [
    {
     "data": {
      "text/plain": [
       "['American Samoa',\n",
       " 'Angola',\n",
       " 'Azerbaijan',\n",
       " 'Bahamas, The',\n",
       " 'Cambodia',\n",
       " 'Channel Islands',\n",
       " 'Comoros',\n",
       " 'Congo, Rep.',\n",
       " \"Cote d'Ivoire\",\n",
       " 'Curacao',\n",
       " 'Equatorial Guinea',\n",
       " 'Faroe Islands',\n",
       " 'French Polynesia',\n",
       " 'Gabon',\n",
       " 'Gambia, The',\n",
       " 'Greenland',\n",
       " 'Guam',\n",
       " 'Isle of Man',\n",
       " 'Kosovo',\n",
       " 'Liberia',\n",
       " 'Madagascar',\n",
       " 'Maldives',\n",
       " 'Micronesia, Fed. Sts.',\n",
       " 'Namibia',\n",
       " 'New Caledonia',\n",
       " 'Northern Mariana Islands',\n",
       " 'Papua New Guinea',\n",
       " 'Puerto Rico',\n",
       " 'San Marino',\n",
       " 'Saudi Arabia',\n",
       " 'Sierra Leone',\n",
       " 'Singapore',\n",
       " 'Sint Maarten (Dutch part)',\n",
       " 'Sri Lanka',\n",
       " 'St. Martin (French part)',\n",
       " 'Tanzania',\n",
       " 'Trinidad and Tobago',\n",
       " 'Turkmenistan',\n",
       " 'Turks and Caicos Islands',\n",
       " 'Tuvalu',\n",
       " 'Uganda',\n",
       " 'United Arab Emirates',\n",
       " 'Vanuatu',\n",
       " 'Vietnam',\n",
       " 'Virgin Islands (U.S.)',\n",
       " 'Zambia']"
      ]
     },
     "execution_count": 96,
     "metadata": {},
     "output_type": "execute_result"
    }
   ],
   "source": [
    "countries = country_na_remove(EdStatsData, 'Country Name', indicator_main, 0.4)\n",
    "countries"
   ]
  },
  {
   "cell_type": "code",
   "execution_count": 97,
   "id": "4fa77c77-83e3-4543-9618-c2d5aaa4bd9e",
   "metadata": {},
   "outputs": [],
   "source": [
    "EdStatsData = EdStatsData.loc[~EdStatsData[\"Country Name\"].isin(countries),:]"
   ]
  },
  {
   "cell_type": "markdown",
   "id": "c2607e22",
   "metadata": {},
   "source": [
    "Certains indicateurs contiennent des valeurs en milliers, tandis que les autres contiennent des valeurs brutes. Nous allons convertir ces valeurs en milliers pour avoir la même unité."
   ]
  },
  {
   "cell_type": "code",
   "execution_count": 98,
   "id": "b7da379a",
   "metadata": {},
   "outputs": [],
   "source": [
    "EdStatsData.loc[:,forecasts_indicators] = EdStatsData.loc[:,forecasts_indicators].multiply(1000)"
   ]
  },
  {
   "cell_type": "markdown",
   "id": "e4d82cf8",
   "metadata": {},
   "source": [
    "Ces valeurs converties, nous allons maintenant renommer les champs associés."
   ]
  },
  {
   "cell_type": "code",
   "execution_count": 99,
   "id": "ae97d01b",
   "metadata": {},
   "outputs": [],
   "source": [
    "replace_list = []\n",
    "for name in forecasts_indicators:\n",
    "    replace_list.append([name, name.replace(r\"Wittgenstein \",\"\").replace(r\"in thousands \",\"\")])\n",
    "    \n",
    "EdStatsData.rename(columns = dict(replace_list), inplace = True)"
   ]
  },
  {
   "cell_type": "code",
   "execution_count": 100,
   "id": "d53f1c7e",
   "metadata": {},
   "outputs": [
    {
     "data": {
      "text/html": [
       "<div>\n",
       "<style scoped>\n",
       "    .dataframe tbody tr th:only-of-type {\n",
       "        vertical-align: middle;\n",
       "    }\n",
       "\n",
       "    .dataframe tbody tr th {\n",
       "        vertical-align: top;\n",
       "    }\n",
       "\n",
       "    .dataframe thead th {\n",
       "        text-align: right;\n",
       "    }\n",
       "</style>\n",
       "<table border=\"1\" class=\"dataframe\">\n",
       "  <thead>\n",
       "    <tr style=\"text-align: right;\">\n",
       "      <th></th>\n",
       "      <th>Country Name</th>\n",
       "      <th>Country Code</th>\n",
       "      <th>Region</th>\n",
       "      <th>Income Group</th>\n",
       "      <th>Languages</th>\n",
       "      <th>Year</th>\n",
       "      <th>GDP at market prices (current US$)</th>\n",
       "      <th>Population, total</th>\n",
       "      <th>GDP per capita (current US$)</th>\n",
       "      <th>Internet users (per 100 people)</th>\n",
       "      <th>Enrolment in secondary education, both sexes (number)</th>\n",
       "      <th>Enrolment in tertiary education, all programmes, both sexes (number)</th>\n",
       "      <th>Projection: Population age 15-19 by highest level of educational attainment. Lower Secondary. Total</th>\n",
       "      <th>Projection: Population age 15-19 by highest level of educational attainment. Upper Secondary. Total</th>\n",
       "      <th>Projection: Population age 20-24 by highest level of educational attainment. Upper Secondary. Total</th>\n",
       "      <th>Projection: Population age 15-19 by highest level of educational attainment. Post Secondary. Total</th>\n",
       "      <th>Projection: Population age 20-24 by highest level of educational attainment. Post Secondary. Total</th>\n",
       "      <th>Projection: Population age 25-29 by highest level of educational attainment. Post Secondary. Total</th>\n",
       "    </tr>\n",
       "  </thead>\n",
       "  <tbody>\n",
       "    <tr>\n",
       "      <th>0</th>\n",
       "      <td>Albania</td>\n",
       "      <td>ALB</td>\n",
       "      <td>Europe &amp; Ce...</td>\n",
       "      <td>Upper middl...</td>\n",
       "      <td>Albanian 98...</td>\n",
       "      <td>2000</td>\n",
       "      <td>3.632044e+09</td>\n",
       "      <td>3089027.0</td>\n",
       "      <td>1175.788981</td>\n",
       "      <td>0.114097</td>\n",
       "      <td>365664.0</td>\n",
       "      <td>40125.0</td>\n",
       "      <td>NaN</td>\n",
       "      <td>NaN</td>\n",
       "      <td>NaN</td>\n",
       "      <td>NaN</td>\n",
       "      <td>NaN</td>\n",
       "      <td>NaN</td>\n",
       "    </tr>\n",
       "    <tr>\n",
       "      <th>1</th>\n",
       "      <td>Albania</td>\n",
       "      <td>ALB</td>\n",
       "      <td>Europe &amp; Ce...</td>\n",
       "      <td>Upper middl...</td>\n",
       "      <td>Albanian 98...</td>\n",
       "      <td>2001</td>\n",
       "      <td>4.060759e+09</td>\n",
       "      <td>3060173.0</td>\n",
       "      <td>1326.970339</td>\n",
       "      <td>0.325798</td>\n",
       "      <td>377936.0</td>\n",
       "      <td>40859.0</td>\n",
       "      <td>NaN</td>\n",
       "      <td>NaN</td>\n",
       "      <td>NaN</td>\n",
       "      <td>NaN</td>\n",
       "      <td>NaN</td>\n",
       "      <td>NaN</td>\n",
       "    </tr>\n",
       "    <tr>\n",
       "      <th>2</th>\n",
       "      <td>Albania</td>\n",
       "      <td>ALB</td>\n",
       "      <td>Europe &amp; Ce...</td>\n",
       "      <td>Upper middl...</td>\n",
       "      <td>Albanian 98...</td>\n",
       "      <td>2002</td>\n",
       "      <td>4.435079e+09</td>\n",
       "      <td>3051010.0</td>\n",
       "      <td>1453.642777</td>\n",
       "      <td>0.390081</td>\n",
       "      <td>382205.0</td>\n",
       "      <td>42160.0</td>\n",
       "      <td>NaN</td>\n",
       "      <td>NaN</td>\n",
       "      <td>NaN</td>\n",
       "      <td>NaN</td>\n",
       "      <td>NaN</td>\n",
       "      <td>NaN</td>\n",
       "    </tr>\n",
       "    <tr>\n",
       "      <th>3</th>\n",
       "      <td>Albania</td>\n",
       "      <td>ALB</td>\n",
       "      <td>Europe &amp; Ce...</td>\n",
       "      <td>Upper middl...</td>\n",
       "      <td>Albanian 98...</td>\n",
       "      <td>2003</td>\n",
       "      <td>5.746946e+09</td>\n",
       "      <td>3039616.0</td>\n",
       "      <td>1890.681557</td>\n",
       "      <td>0.971900</td>\n",
       "      <td>396095.0</td>\n",
       "      <td>43600.0</td>\n",
       "      <td>NaN</td>\n",
       "      <td>NaN</td>\n",
       "      <td>NaN</td>\n",
       "      <td>NaN</td>\n",
       "      <td>NaN</td>\n",
       "      <td>NaN</td>\n",
       "    </tr>\n",
       "    <tr>\n",
       "      <th>4</th>\n",
       "      <td>Albania</td>\n",
       "      <td>ALB</td>\n",
       "      <td>Europe &amp; Ce...</td>\n",
       "      <td>Upper middl...</td>\n",
       "      <td>Albanian 98...</td>\n",
       "      <td>2004</td>\n",
       "      <td>7.314865e+09</td>\n",
       "      <td>3026939.0</td>\n",
       "      <td>2416.588235</td>\n",
       "      <td>2.420388</td>\n",
       "      <td>393503.0</td>\n",
       "      <td>53014.0</td>\n",
       "      <td>NaN</td>\n",
       "      <td>NaN</td>\n",
       "      <td>NaN</td>\n",
       "      <td>NaN</td>\n",
       "      <td>NaN</td>\n",
       "      <td>NaN</td>\n",
       "    </tr>\n",
       "  </tbody>\n",
       "</table>\n",
       "</div>"
      ],
      "text/plain": [
       "  Country Name Country Code          Region    Income Group       Languages  \\\n",
       "0      Albania          ALB  Europe & Ce...  Upper middl...  Albanian 98...   \n",
       "1      Albania          ALB  Europe & Ce...  Upper middl...  Albanian 98...   \n",
       "2      Albania          ALB  Europe & Ce...  Upper middl...  Albanian 98...   \n",
       "3      Albania          ALB  Europe & Ce...  Upper middl...  Albanian 98...   \n",
       "4      Albania          ALB  Europe & Ce...  Upper middl...  Albanian 98...   \n",
       "\n",
       "   Year  GDP at market prices (current US$)  Population, total  \\\n",
       "0  2000    3.632044e+09                           3089027.0      \n",
       "1  2001    4.060759e+09                           3060173.0      \n",
       "2  2002    4.435079e+09                           3051010.0      \n",
       "3  2003    5.746946e+09                           3039616.0      \n",
       "4  2004    7.314865e+09                           3026939.0      \n",
       "\n",
       "   GDP per capita (current US$)  Internet users (per 100 people)  \\\n",
       "0     1175.788981                      0.114097                    \n",
       "1     1326.970339                      0.325798                    \n",
       "2     1453.642777                      0.390081                    \n",
       "3     1890.681557                      0.971900                    \n",
       "4     2416.588235                      2.420388                    \n",
       "\n",
       "   Enrolment in secondary education, both sexes (number)  \\\n",
       "0        365664.0                                          \n",
       "1        377936.0                                          \n",
       "2        382205.0                                          \n",
       "3        396095.0                                          \n",
       "4        393503.0                                          \n",
       "\n",
       "   Enrolment in tertiary education, all programmes, both sexes (number)  \\\n",
       "0         40125.0                                                         \n",
       "1         40859.0                                                         \n",
       "2         42160.0                                                         \n",
       "3         43600.0                                                         \n",
       "4         53014.0                                                         \n",
       "\n",
       "   Projection: Population age 15-19 by highest level of educational attainment. Lower Secondary. Total  \\\n",
       "0             NaN                                                                                        \n",
       "1             NaN                                                                                        \n",
       "2             NaN                                                                                        \n",
       "3             NaN                                                                                        \n",
       "4             NaN                                                                                        \n",
       "\n",
       "   Projection: Population age 15-19 by highest level of educational attainment. Upper Secondary. Total  \\\n",
       "0             NaN                                                                                        \n",
       "1             NaN                                                                                        \n",
       "2             NaN                                                                                        \n",
       "3             NaN                                                                                        \n",
       "4             NaN                                                                                        \n",
       "\n",
       "   Projection: Population age 20-24 by highest level of educational attainment. Upper Secondary. Total  \\\n",
       "0             NaN                                                                                        \n",
       "1             NaN                                                                                        \n",
       "2             NaN                                                                                        \n",
       "3             NaN                                                                                        \n",
       "4             NaN                                                                                        \n",
       "\n",
       "   Projection: Population age 15-19 by highest level of educational attainment. Post Secondary. Total  \\\n",
       "0             NaN                                                                                       \n",
       "1             NaN                                                                                       \n",
       "2             NaN                                                                                       \n",
       "3             NaN                                                                                       \n",
       "4             NaN                                                                                       \n",
       "\n",
       "   Projection: Population age 20-24 by highest level of educational attainment. Post Secondary. Total  \\\n",
       "0             NaN                                                                                       \n",
       "1             NaN                                                                                       \n",
       "2             NaN                                                                                       \n",
       "3             NaN                                                                                       \n",
       "4             NaN                                                                                       \n",
       "\n",
       "   Projection: Population age 25-29 by highest level of educational attainment. Post Secondary. Total  \n",
       "0             NaN                                                                                      \n",
       "1             NaN                                                                                      \n",
       "2             NaN                                                                                      \n",
       "3             NaN                                                                                      \n",
       "4             NaN                                                                                      "
      ]
     },
     "execution_count": 100,
     "metadata": {},
     "output_type": "execute_result"
    }
   ],
   "source": [
    "EdStatsData.head()"
   ]
  },
  {
   "cell_type": "code",
   "execution_count": 101,
   "id": "43a27c40",
   "metadata": {},
   "outputs": [
    {
     "data": {
      "text/markdown": [
       "Notre base de données finale contient 2,877 lignes et 18 colonnes."
      ],
      "text/plain": [
       "<IPython.core.display.Markdown object>"
      ]
     },
     "metadata": {},
     "output_type": "display_data"
    }
   ],
   "source": [
    "display(Markdown(f'Notre base de données finale contient {EdStatsData.shape[0]:,.0f} lignes et {EdStatsData.shape[1]:,.0f} colonnes.'))"
   ]
  },
  {
   "cell_type": "code",
   "execution_count": 102,
   "id": "59786388-1d03-4ea4-b9a9-b244c524eba2",
   "metadata": {},
   "outputs": [
    {
     "data": {
      "text/markdown": [
       "Les lignes contiennent les informations relatives à 137 pays et 21 années."
      ],
      "text/plain": [
       "<IPython.core.display.Markdown object>"
      ]
     },
     "metadata": {},
     "output_type": "display_data"
    }
   ],
   "source": [
    "display(Markdown(f\"Les lignes contiennent les informations relatives à {EdStatsData['Country Code'].nunique():,.0f} pays et {EdStatsData['Year'].nunique():,.0f} années.\"))"
   ]
  },
  {
   "cell_type": "code",
   "execution_count": 103,
   "id": "589aeb8a",
   "metadata": {},
   "outputs": [],
   "source": [
    "subset_selection = [\"Country Code\"] + EdStatsData.columns[6:].tolist()"
   ]
  },
  {
   "cell_type": "markdown",
   "id": "e4bfab2b-4660-4cc9-ae04-4b7ba5c863c1",
   "metadata": {},
   "source": [
    "Nous pouvons visualiser l'évolution du nombre de pays restant dans notre base au fil des filtres que nous avons appliqué."
   ]
  },
  {
   "cell_type": "code",
   "execution_count": 104,
   "id": "78d4979e-40d0-41d3-94e1-49ea2b7a5e82",
   "metadata": {},
   "outputs": [
    {
     "data": {
      "text/html": [
       "<div>\n",
       "<style scoped>\n",
       "    .dataframe tbody tr th:only-of-type {\n",
       "        vertical-align: middle;\n",
       "    }\n",
       "\n",
       "    .dataframe tbody tr th {\n",
       "        vertical-align: top;\n",
       "    }\n",
       "\n",
       "    .dataframe thead th {\n",
       "        text-align: right;\n",
       "    }\n",
       "</style>\n",
       "<table border=\"1\" class=\"dataframe\">\n",
       "  <thead>\n",
       "    <tr style=\"text-align: right;\">\n",
       "      <th></th>\n",
       "      <th>Income Group</th>\n",
       "      <th>Original data</th>\n",
       "      <th>No sanctions</th>\n",
       "      <th>Few missing values (Final data)</th>\n",
       "    </tr>\n",
       "  </thead>\n",
       "  <tbody>\n",
       "    <tr>\n",
       "      <th>0</th>\n",
       "      <td>High income...</td>\n",
       "      <td>31</td>\n",
       "      <td>31</td>\n",
       "      <td>31</td>\n",
       "    </tr>\n",
       "    <tr>\n",
       "      <th>1</th>\n",
       "      <td>High income...</td>\n",
       "      <td>44</td>\n",
       "      <td>43</td>\n",
       "      <td>22</td>\n",
       "    </tr>\n",
       "    <tr>\n",
       "      <th>2</th>\n",
       "      <td>Low income</td>\n",
       "      <td>34</td>\n",
       "      <td>22</td>\n",
       "      <td>14</td>\n",
       "    </tr>\n",
       "    <tr>\n",
       "      <th>3</th>\n",
       "      <td>Lower middl...</td>\n",
       "      <td>50</td>\n",
       "      <td>43</td>\n",
       "      <td>34</td>\n",
       "    </tr>\n",
       "    <tr>\n",
       "      <th>4</th>\n",
       "      <td>Upper middl...</td>\n",
       "      <td>55</td>\n",
       "      <td>44</td>\n",
       "      <td>36</td>\n",
       "    </tr>\n",
       "  </tbody>\n",
       "</table>\n",
       "</div>"
      ],
      "text/plain": [
       "     Income Group  Original data  No sanctions  \\\n",
       "0  High income...             31            31   \n",
       "1  High income...             44            43   \n",
       "2      Low income             34            22   \n",
       "3  Lower middl...             50            43   \n",
       "4  Upper middl...             55            44   \n",
       "\n",
       "   Few missing values (Final data)  \n",
       "0              31                   \n",
       "1              22                   \n",
       "2              14                   \n",
       "3              34                   \n",
       "4              36                   "
      ]
     },
     "execution_count": 104,
     "metadata": {},
     "output_type": "execute_result"
    }
   ],
   "source": [
    "nb_countries_add = EdStatsData.loc[:,[\"Country Name\",\"Income Group\"]].groupby(\"Income Group\").nunique()\n",
    "nb_countries_add.columns = ['Few missing values (Final data)']\n",
    "nb_countries = nb_countries.merge(nb_countries_add, how = 'left', on = 'Income Group').reset_index()\n",
    "nb_countries.head()"
   ]
  },
  {
   "cell_type": "code",
   "execution_count": 105,
   "id": "eb2c6770-19a5-473a-b94c-2f23e1c621c2",
   "metadata": {},
   "outputs": [
    {
     "data": {
      "text/html": [
       "<div>\n",
       "<style scoped>\n",
       "    .dataframe tbody tr th:only-of-type {\n",
       "        vertical-align: middle;\n",
       "    }\n",
       "\n",
       "    .dataframe tbody tr th {\n",
       "        vertical-align: top;\n",
       "    }\n",
       "\n",
       "    .dataframe thead th {\n",
       "        text-align: right;\n",
       "    }\n",
       "</style>\n",
       "<table border=\"1\" class=\"dataframe\">\n",
       "  <thead>\n",
       "    <tr style=\"text-align: right;\">\n",
       "      <th></th>\n",
       "      <th>Income Group</th>\n",
       "      <th>Filter</th>\n",
       "      <th>Retained</th>\n",
       "    </tr>\n",
       "  </thead>\n",
       "  <tbody>\n",
       "    <tr>\n",
       "      <th>0</th>\n",
       "      <td>High income...</td>\n",
       "      <td>Original data</td>\n",
       "      <td>31</td>\n",
       "    </tr>\n",
       "    <tr>\n",
       "      <th>1</th>\n",
       "      <td>High income...</td>\n",
       "      <td>Original data</td>\n",
       "      <td>44</td>\n",
       "    </tr>\n",
       "    <tr>\n",
       "      <th>2</th>\n",
       "      <td>Low income</td>\n",
       "      <td>Original data</td>\n",
       "      <td>34</td>\n",
       "    </tr>\n",
       "    <tr>\n",
       "      <th>3</th>\n",
       "      <td>Lower middl...</td>\n",
       "      <td>Original data</td>\n",
       "      <td>50</td>\n",
       "    </tr>\n",
       "    <tr>\n",
       "      <th>4</th>\n",
       "      <td>Upper middl...</td>\n",
       "      <td>Original data</td>\n",
       "      <td>55</td>\n",
       "    </tr>\n",
       "  </tbody>\n",
       "</table>\n",
       "</div>"
      ],
      "text/plain": [
       "     Income Group         Filter  Retained\n",
       "0  High income...  Original data        31\n",
       "1  High income...  Original data        44\n",
       "2      Low income  Original data        34\n",
       "3  Lower middl...  Original data        50\n",
       "4  Upper middl...  Original data        55"
      ]
     },
     "execution_count": 105,
     "metadata": {},
     "output_type": "execute_result"
    }
   ],
   "source": [
    "nb_countries = nb_countries.melt(id_vars = \"Income Group\", var_name = 'Filter', value_name = 'Retained')\n",
    "nb_countries.head()"
   ]
  },
  {
   "cell_type": "code",
   "execution_count": 106,
   "id": "d3b83607-434b-4f7e-9cfa-57721139a8ea",
   "metadata": {},
   "outputs": [
    {
     "data": {
      "text/plain": [
       "Index(['Low income', 'Lower middle income', 'Upper middle income',\n",
       "       'High income: nonOECD', 'High income: OECD'],\n",
       "      dtype='object', name='Income Group')"
      ]
     },
     "execution_count": 106,
     "metadata": {},
     "output_type": "execute_result"
    }
   ],
   "source": [
    "income_order = EdStatsData.groupby(\"Income Group\").mean().sort_values(by = 'GDP per capita (current US$)').index\n",
    "income_order"
   ]
  },
  {
   "cell_type": "code",
   "execution_count": 107,
   "id": "cac28524-56dd-4577-bf5e-0110b781314c",
   "metadata": {},
   "outputs": [
    {
     "data": {
      "image/png": "[encoded data removed]",
      "text/plain": [
       "<Figure size 720x720 with 1 Axes>"
      ]
     },
     "metadata": {
      "needs_background": "light"
     },
     "output_type": "display_data"
    }
   ],
   "source": [
    "fig, ax = plt.subplots(figsize = (10,10))\n",
    "\n",
    "sns.barplot(\n",
    "    data = nb_countries,\n",
    "    x = 'Filter',\n",
    "    y = 'Retained',\n",
    "    hue = 'Income Group',\n",
    "    palette = 'colorblind',\n",
    "    hue_order = income_order\n",
    ")\n",
    "\n",
    "ax.set_title(\n",
    "    \"Evolution du nombre de pays dans la base de données au cours de la phase d'exploration\",\n",
    "    fontsize = 15,\n",
    "    pad = 25\n",
    ")\n",
    "\n",
    "ax.grid(visible = True, axis = 'y', color = 'lightgrey')\n",
    "\n",
    "plt.savefig(\"figures/n_countries_evolution.png\", format = \"png\")\n",
    "\n",
    "plt.show()"
   ]
  },
  {
   "cell_type": "markdown",
   "id": "7d0d1705-a346-4cdb-83fc-12e654faccc5",
   "metadata": {},
   "source": [
    "Le premier filtre a principalement impacté les pays les plus pauvres, tandis que le second a fortement impacté les pays riches non-OECD, qui semblent manquer d'informations sur notre indicateur principal."
   ]
  },
  {
   "cell_type": "code",
   "execution_count": 108,
   "id": "ee7adb1b",
   "metadata": {},
   "outputs": [
    {
     "data": {
      "text/markdown": [
       "La base contient 72 lignes dupliquées, que nous définissons comme des lignes qui, pour un pays donné, contiennent des valeurs toutes identiques à une autre ligne du pays."
      ],
      "text/plain": [
       "<IPython.core.display.Markdown object>"
      ]
     },
     "metadata": {},
     "output_type": "display_data"
    }
   ],
   "source": [
    "display(Markdown(f\"La base contient {sum(EdStatsData.duplicated(subset = subset_selection))} lignes dupliquées, que nous définissons comme des lignes qui, pour un pays donné, contiennent des valeurs toutes identiques à une autre ligne du pays.\"))"
   ]
  },
  {
   "cell_type": "code",
   "execution_count": 109,
   "id": "cf1d0b7a",
   "metadata": {},
   "outputs": [
    {
     "name": "stdout",
     "output_type": "stream",
     "text": [
      "True\n"
     ]
    }
   ],
   "source": [
    "print(all(EdStatsData[EdStatsData.duplicated(subset = subset_selection)].iloc[:,6:].isna()))"
   ]
  },
  {
   "cell_type": "markdown",
   "id": "52b9a008",
   "metadata": {},
   "source": [
    "Ces lignes sont en réalité des lignes entièrement vides, donc des lignes pour lesquelles aucun indicateur n'est complété."
   ]
  },
  {
   "cell_type": "code",
   "execution_count": 110,
   "id": "9d8482d7",
   "metadata": {},
   "outputs": [
    {
     "data": {
      "text/markdown": [
       "A l'exclusion des dimensions d'identification, la base de données est complète à 31% environ, toutes années confondues. Néanmoins, nous savons qu'au moins 50% des valeurs réelles et 50% des valeurs projetées sont complètes."
      ],
      "text/plain": [
       "<IPython.core.display.Markdown object>"
      ]
     },
     "metadata": {},
     "output_type": "display_data"
    }
   ],
   "source": [
    "display(Markdown(f\"A l'exclusion des dimensions d'identification, la base de données est complète à {EdStatsData.iloc[:,6:].count().sum() / (EdStatsData.iloc[:,6:].shape[0]*EdStatsData.shape[1]):.0%} environ, toutes années confondues. Néanmoins, nous savons qu'au moins 50% des valeurs réelles et 50% des valeurs projetées sont complètes.\"))"
   ]
  },
  {
   "cell_type": "code",
   "execution_count": 111,
   "id": "1331fbfd",
   "metadata": {},
   "outputs": [
    {
     "data": {
      "image/png": "[encoded data removed]",
      "text/plain": [
       "<Figure size 720x720 with 2 Axes>"
      ]
     },
     "metadata": {
      "needs_background": "light"
     },
     "output_type": "display_data"
    }
   ],
   "source": [
    "msno.matrix(EdStatsData, figsize = (10,10), fontsize = 10)\n",
    "\n",
    "plt.title(\n",
    "    \"Matrice de complétude de la base de données finale\",\n",
    "    fontsize = 15,\n",
    "    pad = 25\n",
    ")\n",
    "\n",
    "plt.savefig(\"figures/missingno.png\")\n",
    "\n",
    "plt.show()"
   ]
  },
  {
   "cell_type": "code",
   "execution_count": 112,
   "id": "6d096d09",
   "metadata": {},
   "outputs": [],
   "source": [
    "EdStatsData.to_csv(\"wrangled_data/EdStatsData_wrangled.csv\", index = False)"
   ]
  },
  {
   "cell_type": "markdown",
   "id": "079861c6",
   "metadata": {},
   "source": [
    "Nous exportons la base de données dans un fichier dédié, avant de passer à l'étape suivante."
   ]
  },
  {
   "cell_type": "code",
   "execution_count": null,
   "id": "61443010-4e70-406c-8771-f9e93c42cd98",
   "metadata": {},
   "outputs": [],
   "source": []
  }
 ],
 "metadata": {
  "kernelspec": {
   "display_name": "Python 3",
   "language": "python",
   "name": "python3"
  },
  "language_info": {
   "codemirror_mode": {
    "name": "ipython",
    "version": 3
   },
   "file_extension": ".py",
   "mimetype": "text/x-python",
   "name": "python",
   "nbconvert_exporter": "python",
   "pygments_lexer": "ipython3",
   "version": "3.8.11"
  }
 },
 "nbformat": 4,
 "nbformat_minor": 5
}
